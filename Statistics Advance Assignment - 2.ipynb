{
 "cells": [
  {
   "cell_type": "markdown",
   "id": "718db236-306d-49cc-a912-29da6e864397",
   "metadata": {},
   "source": [
    "## Q1: What are the Probability Mass Function (PMF) and Probability Density Function (PDF)? Explain with  an example. "
   ]
  },
  {
   "cell_type": "raw",
   "id": "35e79c92-4ec3-4a78-a118-07454c3bd355",
   "metadata": {},
   "source": [
    "The Probability Mass Function (PMF) and Probability Density Function (PDF) are both mathematical functions used in probability theory to describe the probability distribution of a random variable. They differ based on whether the random variable is discrete or continuous.\n",
    "The PDF is a function that describes the likelihood of a continuous random variable taking on a specific value. Unlike the PMF, which assigns probabilities to discrete values, the PDF gives the probability density at each point within the range of possible values of the continuous random variable. Mathematically, for a continuous random variable \n",
    "𝑋\n",
    "X, the PDF is denoted as \n",
    "𝑓(𝑥)\n",
    "f(x), and it satisfies two properties:"
   ]
  },
  {
   "cell_type": "markdown",
   "id": "afdab32a-d134-4860-860a-52126473420a",
   "metadata": {},
   "source": [
    "## Q2: What is Cumulative Density Function (CDF)? Explain with an example. Why CDF is used? \n"
   ]
  },
  {
   "cell_type": "raw",
   "id": "62836339-d064-4d30-84f5-e3baad169a2e",
   "metadata": {},
   "source": [
    "The cumulative distribution function (CDF) calculates the cumulative probability for a given x-value. Use the CDF to determine the likelihood that a random observation taken from the population will be less than or equal to a particular value."
   ]
  },
  {
   "cell_type": "markdown",
   "id": "31f4c8ca-9a98-4d35-9e93-31ceb52cf99b",
   "metadata": {},
   "source": [
    "## Q3: What are some examples of situations where the normal distribution might be used as a model?  Explain how the parameters of the normal distribution relate to the shape of the distribution. \n"
   ]
  },
  {
   "cell_type": "raw",
   "id": "db1537a6-d48c-44d7-9d5e-cee1fee9c804",
   "metadata": {},
   "source": [
    "Many natural phenomena, such as the height and weight of people, follow a normal distribution. The normal distribution is also used as a model for the sampling distribution of many statistics, such as the sample mean and sample proportion."
   ]
  },
  {
   "cell_type": "markdown",
   "id": "4cb8a571-b47c-40b2-b0a5-4551566a9b6e",
   "metadata": {},
   "source": [
    "## Q4: Explain the importance of Normal Distribution. Give a few real-life examples of Normal  Distribution.  "
   ]
  },
  {
   "cell_type": "raw",
   "id": "2f4c587b-d453-45da-a391-ce1e93466826",
   "metadata": {},
   "source": [
    "for practical purpose normal distribution is good enough to represent the distribution of continuous variable like-height,weight,blood pressure etc.. often used to aproximate other distribution. normal distribution has significant use in statistical quality control."
   ]
  },
  {
   "cell_type": "markdown",
   "id": "a21ce893-57ab-42a3-bfd3-cd2132a4bdec",
   "metadata": {},
   "source": [
    "## Q5: What is Bernaulli Distribution? Give an Example. What is the difference between Bernoulli  Distribution and Binomial Distribution? "
   ]
  },
  {
   "cell_type": "raw",
   "id": "d69c8016-9440-4621-82b4-bde74613ffa0",
   "metadata": {},
   "source": [
    "It is the collection of Bernoulli trials for the same event, i.e., it contains more than 1 Bernoulli event for the same scenario for which the Bernoulli trial is calculated.\n",
    "\n",
    "Way to represent Binomial Distribution!\n",
    "It can be represented using two things:\n",
    "\n",
    "The number of Bernoulli trials.\n",
    "Probability of an event in each trial."
   ]
  },
  {
   "cell_type": "markdown",
   "id": "6191ffdd-c853-40f6-87ff-572a955319a4",
   "metadata": {},
   "source": [
    "## Q6. Consider a dataset with a mean of 50 and a standard deviation of 10. If we assume that the dataset  is normally distributed, what is the probability that a randomly selected observation will be greater  than 60? Use the appropriate formula and show your calculations."
   ]
  },
  {
   "cell_type": "code",
   "execution_count": null,
   "id": "f52a0c9a-9e4e-44ac-8908-cb2d34b6f81c",
   "metadata": {},
   "outputs": [],
   "source": []
  },
  {
   "cell_type": "markdown",
   "id": "2ee97f86-2c41-4e8b-9574-76e0c3c51406",
   "metadata": {},
   "source": [
    "## Q7: Explain uniform Distribution with an example. "
   ]
  },
  {
   "cell_type": "raw",
   "id": "eca124e9-11af-4fb4-9579-fd5135f81260",
   "metadata": {},
   "source": [
    "In statistics, uniform distribution refers to a type of probability distribution in which all outcomes are equally likely. A deck of cards has within it uniform distributions because the likelihood of drawing a heart, a club, a diamond, or a spade is equally likely. A coin also has a uniform distribution because the probability of getting either heads or tails in a coin toss is the same.\n",
    "\n",
    "The uniform distribution can be visualized as a straight horizontal line, so for a coin flip returning a head or tail, both have a probability p = 0.50 and would be depicted by a line from the y-axis at 0.50."
   ]
  },
  {
   "cell_type": "markdown",
   "id": "62dd3a1c-2185-4f4f-81c7-64e4a532717a",
   "metadata": {},
   "source": [
    "## Q8: What is the z score? State the importance of the z score."
   ]
  },
  {
   "cell_type": "raw",
   "id": "2f18d5a3-edd6-449e-8369-f6562f92bdae",
   "metadata": {},
   "source": [
    "The Z-score is a way to figure out how far away a piece of data is from the average of a group, measured in standard deviations. It tells us if a data point is typical or unusual compared to the rest of the group, which is useful for spotting unusual values and comparing data between different groups"
   ]
  },
  {
   "cell_type": "markdown",
   "id": "61c18008-98cb-4c3f-8122-a03f727696dc",
   "metadata": {},
   "source": [
    "## Q9: What is Central Limit Theorem? State the significance of the Central Limit Theorem."
   ]
  },
  {
   "cell_type": "raw",
   "id": "03668673-fd56-4fb4-918c-84399a7c61ff",
   "metadata": {},
   "source": [
    "The central limit theorem (CLT) states that the distribution of sample means approximates a normal distribution as the sample size gets larger, regardless of the population's distribution. Sample sizes equal to or greater than 30 are often considered sufficient for the CLT to hold."
   ]
  },
  {
   "cell_type": "markdown",
   "id": "03cc4aa7-080a-4373-a7b7-38032de7491e",
   "metadata": {},
   "source": [
    " ## Q10: State the assumptions of the Central Limit Theorem. "
   ]
  },
  {
   "cell_type": "raw",
   "id": "89947c4f-23b9-42b8-bd4b-fd0a2b5dbeef",
   "metadata": {},
   "source": [
    "Assumptions Behind the Central Limit Theorem\n",
    "\n",
    "It must be sampled randomly. Samples should be independent of each other. One sample should not influence the other samples. Sample size should be not more than 10% of the population when sampling is done without replaceme"
   ]
  },
  {
   "cell_type": "code",
   "execution_count": null,
   "id": "b503ac0d-7578-4648-936d-7e32d47b7511",
   "metadata": {},
   "outputs": [],
   "source": []
  }
 ],
 "metadata": {
  "kernelspec": {
   "display_name": "Python 3 (ipykernel)",
   "language": "python",
   "name": "python3"
  },
  "language_info": {
   "codemirror_mode": {
    "name": "ipython",
    "version": 3
   },
   "file_extension": ".py",
   "mimetype": "text/x-python",
   "name": "python",
   "nbconvert_exporter": "python",
   "pygments_lexer": "ipython3",
   "version": "3.10.8"
  }
 },
 "nbformat": 4,
 "nbformat_minor": 5
}
