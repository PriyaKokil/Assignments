{
 "cells": [
  {
   "cell_type": "markdown",
   "id": "2f562f18-f9c2-469e-b47a-800f048a37bd",
   "metadata": {},
   "source": [
    "# Q1. Create a Pandas Series that contains the following data: 4, 8, 15, 16, 23, and 42. Then, print the series."
   ]
  },
  {
   "cell_type": "code",
   "execution_count": 1,
   "id": "201facb9-eb2a-4de8-a321-42fe4c077ccd",
   "metadata": {},
   "outputs": [
    {
     "name": "stdout",
     "output_type": "stream",
     "text": [
      "0     4\n",
      "1     8\n",
      "2    15\n",
      "3    16\n",
      "4    23\n",
      "5    42\n",
      "dtype: int64\n"
     ]
    }
   ],
   "source": [
    "import pandas as pd\n",
    "\n",
    "data = [4, 8, 15, 16, 23, 42]\n",
    "series = pd.Series(data)\n",
    "\n",
    "print(series)"
   ]
  },
  {
   "cell_type": "markdown",
   "id": "90b72576-a1f9-4087-a4ed-e6a5dfe76b18",
   "metadata": {},
   "source": [
    "# Q2. Create a variable of list type containing 10 elements in it, and apply pandas.Series function on the variable print it."
   ]
  },
  {
   "cell_type": "code",
   "execution_count": 2,
   "id": "cc9e5f6d-e958-4710-9773-eb3f5c0bb7b5",
   "metadata": {},
   "outputs": [
    {
     "name": "stdout",
     "output_type": "stream",
     "text": [
      "0     10\n",
      "1     20\n",
      "2     30\n",
      "3     40\n",
      "4     50\n",
      "5     60\n",
      "6     70\n",
      "7     80\n",
      "8     90\n",
      "9    100\n",
      "dtype: int64\n"
     ]
    }
   ],
   "source": [
    "my_list = [10, 20, 30, 40, 50, 60, 70, 80, 90, 100]\n",
    "\n",
    "\n",
    "my_series = pd.Series(my_list)\n",
    "\n",
    "\n",
    "print(my_series)"
   ]
  },
  {
   "cell_type": "markdown",
   "id": "8d782589-95ef-4f7f-b78b-910945d09140",
   "metadata": {},
   "source": [
    "# Q3. Create a Pandas DataFrame that contains the following data: Then, print the DataFrame."
   ]
  },
  {
   "cell_type": "code",
   "execution_count": 4,
   "id": "4cf6ca55-8170-4927-9975-955acdf56b1f",
   "metadata": {},
   "outputs": [],
   "source": [
    "data = {\"name\":['Alice','Bob','Claire'],\n",
    "        \"Age\": [25,30,27],\n",
    "        \"Gender\" : ['Female','Male','Female']}"
   ]
  },
  {
   "cell_type": "code",
   "execution_count": 5,
   "id": "073da81f-1a0a-4ac7-a099-9941a21b4893",
   "metadata": {},
   "outputs": [],
   "source": [
    "df = pd.DataFrame(data)"
   ]
  },
  {
   "cell_type": "code",
   "execution_count": 6,
   "id": "ae9f618e-7623-49af-8591-31feda31cc0c",
   "metadata": {},
   "outputs": [
    {
     "data": {
      "text/html": [
       "<div>\n",
       "<style scoped>\n",
       "    .dataframe tbody tr th:only-of-type {\n",
       "        vertical-align: middle;\n",
       "    }\n",
       "\n",
       "    .dataframe tbody tr th {\n",
       "        vertical-align: top;\n",
       "    }\n",
       "\n",
       "    .dataframe thead th {\n",
       "        text-align: right;\n",
       "    }\n",
       "</style>\n",
       "<table border=\"1\" class=\"dataframe\">\n",
       "  <thead>\n",
       "    <tr style=\"text-align: right;\">\n",
       "      <th></th>\n",
       "      <th>name</th>\n",
       "      <th>Age</th>\n",
       "      <th>Gender</th>\n",
       "    </tr>\n",
       "  </thead>\n",
       "  <tbody>\n",
       "    <tr>\n",
       "      <th>0</th>\n",
       "      <td>Alice</td>\n",
       "      <td>25</td>\n",
       "      <td>Female</td>\n",
       "    </tr>\n",
       "    <tr>\n",
       "      <th>1</th>\n",
       "      <td>Bob</td>\n",
       "      <td>30</td>\n",
       "      <td>Male</td>\n",
       "    </tr>\n",
       "    <tr>\n",
       "      <th>2</th>\n",
       "      <td>Claire</td>\n",
       "      <td>27</td>\n",
       "      <td>Female</td>\n",
       "    </tr>\n",
       "  </tbody>\n",
       "</table>\n",
       "</div>"
      ],
      "text/plain": [
       "     name  Age  Gender\n",
       "0   Alice   25  Female\n",
       "1     Bob   30    Male\n",
       "2  Claire   27  Female"
      ]
     },
     "execution_count": 6,
     "metadata": {},
     "output_type": "execute_result"
    }
   ],
   "source": [
    "df"
   ]
  },
  {
   "cell_type": "markdown",
   "id": "55018c6e-1ee7-4b44-9e92-5b5ba4318d41",
   "metadata": {},
   "source": [
    "# Q4. What is ‘DataFrame’ in pandas and how is it different from pandas.series? Explain with an example."
   ]
  },
  {
   "cell_type": "raw",
   "id": "f94d9764-bff5-4d73-88b6-62fb73621172",
   "metadata": {},
   "source": [
    "In Pandas, a DataFrame is a two-dimensional, size-mutable, and heterogeneous tabular data structure.\n",
    "It is similar to a spreadsheet or SQL table, where data is organized into rows and columns. \n",
    "Each column in a DataFrame can have a different data type, which makes it suitable for handling a wide variety of data, including structured data like CSV files, SQL databases, and more. \n",
    "You can think of a DataFrame as a collection of Pandas Series, where each column represents a Series.\n",
    "\n",
    "On the other hand, a Pandas Series is a one-dimensional labeled array that can hold data of a single data type.\n",
    "It is essentially a column or a single-dimensional array with associated labels or indices. \n",
    "Series are used to represent a single column or row of data in a DataFrame."
   ]
  },
  {
   "cell_type": "code",
   "execution_count": 7,
   "id": "15cebb96-5c7a-4224-879c-9cd04fb483f0",
   "metadata": {},
   "outputs": [
    {
     "name": "stdout",
     "output_type": "stream",
     "text": [
      "Pandas Series:\n",
      "0    10\n",
      "1    20\n",
      "2    30\n",
      "3    40\n",
      "4    50\n",
      "Name: MySeries, dtype: int64\n",
      "\n",
      "\n",
      "Pandas DataFrame:\n",
      "      Name  Age  Salary\n",
      "0    Alice   25   50000\n",
      "1      Bob   30   60000\n",
      "2  Charlie   35   70000\n",
      "3    David   40   80000\n",
      "4      Eva   45   90000\n"
     ]
    }
   ],
   "source": [
    "import pandas as pd\n",
    "\n",
    "\n",
    "series_data = pd.Series([10, 20, 30, 40, 50], name='MySeries')\n",
    "\n",
    "\n",
    "data = {'Name': ['Alice', 'Bob', 'Charlie', 'David', 'Eva'],\n",
    "        'Age': [25, 30, 35, 40, 45],\n",
    "        'Salary': [50000, 60000, 70000, 80000, 90000]}\n",
    "\n",
    "df = pd.DataFrame(data)\n",
    "\n",
    "\n",
    "print(\"Pandas Series:\")\n",
    "print(series_data)\n",
    "print(\"\\n\")\n",
    "\n",
    "\n",
    "print(\"Pandas DataFrame:\")\n",
    "print(df)\n"
   ]
  },
  {
   "cell_type": "markdown",
   "id": "bb137a16-bb8b-4ba6-bea7-3e423876e1d7",
   "metadata": {},
   "source": [
    "# Q5. What are some common functions you can use to manipulate data in a Pandas DataFrame? Can you give an example of when you might use one of these functions?"
   ]
  },
  {
   "cell_type": "raw",
   "id": "907df74b-c7c1-4cce-a596-2a94e79235fe",
   "metadata": {},
   "source": [
    "1. Selection and Indexing:\n",
    "\n",
    ".loc[]: Allows you to select rows and columns by label.\n",
    ".iloc[]: Allows you to select rows and columns by integer position.\n",
    "\n",
    "\n",
    "df.loc[2:4, ['Name', 'Age']]\n",
    "\n",
    "df.iloc[2:4, [0, 1]]\n",
    "\n",
    "2. Filtering and Querying:\n",
    "\n",
    ".query(): Allows you to filter rows using a query expression.\n",
    "Conditional indexing: You can use boolean indexing to filter rows based on conditions.\n",
    "Example:\n",
    "\n",
    "python\n",
    "Copy code\n",
    "\n",
    "df.query('Age > 30')\n",
    "\n",
    "df[df['Salary'] >= 70000]\n",
    "\n",
    "3. Aggregation:\n",
    "\n",
    ".groupby(): Allows you to group data by one or more columns and perform aggregate operations.\n",
    "Aggregation functions like .sum(), .mean(), .min(), .max(), etc.\n",
    "Example:\n",
    "\n",
    "python\n",
    "Copy code\n",
    "# Grouping by 'Age' and calculating the mean salary\n",
    "df.groupby('Age')['Salary'].mean()\n",
    "\n",
    "4.Sorting:\n",
    "\n",
    ".sort_values(): Sorts the DataFrame by one or more columns.\n",
    "Example:\n",
    "\n",
    "python\n",
    "Copy code\n",
    "# Sorting by 'Age' in ascending order\n",
    "df.sort_values('Age', ascending=True)"
   ]
  },
  {
   "cell_type": "markdown",
   "id": "b0745cac-90e6-4d83-be44-8c6b0cfb966a",
   "metadata": {},
   "source": [
    "# Q6. Which of the following is mutable in nature Series, DataFrame, Panel?"
   ]
  },
  {
   "cell_type": "raw",
   "id": "8712292f-670c-43b5-ad62-6edbbb6a806b",
   "metadata": {},
   "source": [
    "Among the three data structures provided by Pandas (Series, DataFrame, and Panel), only the DataFrame is mutable in nature.\n",
    "\n",
    "Series: Series is one-dimensional and immutable. Once you create a Series, you cannot change its elements or size without creating a new Series.\n",
    "\n",
    "DataFrame: DataFrame is two-dimensional and mutable. You can add, delete, or modify rows and columns in a DataFrame after it is created.\n",
    "\n",
    "Panel: Panels were deprecated in Pandas 0.25.0, and their use is discouraged. They were three-dimensional data structures, but you should use multi-index DataFrames or other structures instead."
   ]
  },
  {
   "cell_type": "markdown",
   "id": "10494927-0f87-4d35-995d-2aa6465772e5",
   "metadata": {},
   "source": [
    "# Q7. Create a DataFrame using multiple Series. Explain with an example."
   ]
  },
  {
   "cell_type": "code",
   "execution_count": 2,
   "id": "e3286691-a6bd-4dc0-91e1-8a6d3ce5a0c1",
   "metadata": {},
   "outputs": [
    {
     "name": "stdout",
     "output_type": "stream",
     "text": [
      "   Column1 Column2  Column3\n",
      "0        1       A     10.5\n",
      "1        2       B     20.3\n",
      "2        3       C     15.8\n",
      "3        4       D      7.2\n",
      "4        5       E      9.9\n"
     ]
    }
   ],
   "source": [
    "import pandas as pd\n",
    "\n",
    "series1 = pd.Series([1, 2, 3, 4, 5], name='Column1')\n",
    "series2 = pd.Series(['A', 'B', 'C', 'D', 'E'], name='Column2')\n",
    "series3 = pd.Series([10.5, 20.3, 15.8, 7.2, 9.9], name='Column3')\n",
    "\n",
    "\n",
    "data = {'Column1': series1, 'Column2': series2, 'Column3': series3}\n",
    "df = pd.DataFrame(data)\n",
    "\n",
    "\n",
    "print(df)\n"
   ]
  },
  {
   "cell_type": "code",
   "execution_count": null,
   "id": "131782f0-6467-47c0-904d-140a8cc3bec1",
   "metadata": {},
   "outputs": [],
   "source": []
  }
 ],
 "metadata": {
  "kernelspec": {
   "display_name": "Python 3 (ipykernel)",
   "language": "python",
   "name": "python3"
  },
  "language_info": {
   "codemirror_mode": {
    "name": "ipython",
    "version": 3
   },
   "file_extension": ".py",
   "mimetype": "text/x-python",
   "name": "python",
   "nbconvert_exporter": "python",
   "pygments_lexer": "ipython3",
   "version": "3.10.8"
  }
 },
 "nbformat": 4,
 "nbformat_minor": 5
}
