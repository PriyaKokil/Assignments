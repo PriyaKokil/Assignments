{
 "cells": [
  {
   "cell_type": "markdown",
   "id": "7e0e06be-c072-4baa-96ca-cda7e16560b6",
   "metadata": {},
   "source": [
    "# Q1. Explain GET and POST methods."
   ]
  },
  {
   "cell_type": "markdown",
   "id": "a9a86b18-62de-4417-9bcb-64f3c1563d56",
   "metadata": {},
   "source": [
    "# GET\n",
    "GET is used to request data from a specified resource.\n",
    "\n",
    "Note that the query string (name/value pairs) is sent in the URL of a GET request:\n",
    "\n",
    "Some notes on GET requests:\n",
    "\n",
    "GET requests can be cached\n",
    "GET requests remain in the browser history\n",
    "GET requests can be bookmarked\n",
    "GET requests should never be used when dealing with sensitive data\n",
    "GET requests have length restrictions\n",
    "GET requests are only used to request data (not modify)\n",
    "\n",
    "# POST\n",
    "POST is used to send data to a server to create/update a resource.\n",
    "\n",
    "The data sent to the server with POST is stored in the request body of the HTTP request:\n",
    "\n",
    "\n",
    "name1=value1&name2=value2\n",
    "Some notes on POST requests:\n",
    "\n",
    "POST requests are never cached\n",
    "POST requests do not remain in the browser history\n",
    "POST requests cannot be bookmarked\n",
    "POST requests have no restrictions on data length\n"
   ]
  },
  {
   "cell_type": "markdown",
   "id": "50ad7203-2602-4f52-82b1-cae913be1d12",
   "metadata": {},
   "source": [
    "# Q2. Why is request used in Flask?"
   ]
  },
  {
   "cell_type": "markdown",
   "id": "6376f863-64ba-43e5-aaba-f72586d7d8ec",
   "metadata": {},
   "source": [
    "1. The Flask Request Object is used to perform both sending and receiving operations from a user's browser to the server and process the request data from the server.\n",
    "2. When the Flask application handles a request, it creates a Request object based on the environment it received from the WSGI server. \n",
    "3. Because a worker (thread, process, or coroutine depending on the server) handles only one request at a time, the request data can be considered global to that worker during that request.\n",
    "4. In the client-server architecture, the request object contains all the data that is sent from the client to the server. \n",
    "5. As we have already discussed in the tutorial, we can retrieve the data at the server side using the HTTP methods."
   ]
  },
  {
   "cell_type": "markdown",
   "id": "b8728339-f085-41b5-b6f5-9f4d1ed8a9e5",
   "metadata": {},
   "source": [
    "# Q3. Why is redirect() used in Flask?"
   ]
  },
  {
   "cell_type": "markdown",
   "id": "410c47c3-cfe7-4c84-91bc-bbdbd792987f",
   "metadata": {},
   "source": [
    "1. Flask redirect is defined as a function or utility in Flask which allows developers to redirect users to a specified URL and assign a specified status code. \n",
    "2. When this function is called, a response object is returned, and the redirection happens to the target location with the status code. \n",
    "3. When a website is visited, server receives a request and after processing responds to the request with a three-digit code known as the HTTP code. \n",
    "4. In a programming world this status code that is returned as a response is known as Errors. \n",
    "5. Errors and redirect function goes hand in hand.\n",
    "6. A redirect is used in the Flask class to send the user to a particular URL with the status code. conversely, this status code additionally identifies the issue."
   ]
  },
  {
   "cell_type": "markdown",
   "id": "e3eb09aa-592e-4862-81ed-272ce375de38",
   "metadata": {},
   "source": [
    "# Q4. What are templates in Flask? Why is the render_template() function used?"
   ]
  },
  {
   "cell_type": "markdown",
   "id": "dd523875-ef75-424b-82e3-d0eb5aa6bdd0",
   "metadata": {},
   "source": [
    "1. Templates are files that contain static data as well as placeholders for dynamic data. \n",
    "2. A template is rendered with specific data to produce a final document. \n",
    "3. Flask uses the Jinja template library to render templates. \n",
    "4. In your application, you will use templates to render HTML which will display in the user's browser.\n",
    "\n",
    "# render_template() :\n",
    "1. render_template is a Flask function from the flask. templating package. \n",
    "2. render_template is used to generate output from a template file based on the Jinja2 engine that is found in the application's templates folder. \n",
    "3. Note that render_template is typically imported directly from the flask package instead of from flask."
   ]
  },
  {
   "cell_type": "markdown",
   "id": "fe542f00-9289-4ae0-8fa3-c6b8d2399214",
   "metadata": {},
   "source": [
    "# Q5. Create a simple API. Use Postman to test it. Attach the screenshot of the output in the Jupyter Notebook."
   ]
  },
  {
   "cell_type": "markdown",
   "id": "edff4ddb-112c-48ed-9104-997bc2197be8",
   "metadata": {},
   "source": [
    "'''\n",
    "from flask import Flask\n",
    "\n",
    "app = Flask(__name__)\n",
    "\n",
    "@app.route(\"/\")\n",
    "def hello_world():\n",
    "    return \"Hello, World!\"\n",
    "\n",
    "\n",
    "if __name__==\"__main__\":\n",
    "    app.run(host=\"0.0.0.0\")\n",
    "    \n",
    "'''"
   ]
  },
  {
   "cell_type": "markdown",
   "id": "233c8da1-e190-4059-b9ac-32911dab4d72",
   "metadata": {},
   "source": [
    "![](img.jpg)"
   ]
  },
  {
   "cell_type": "markdown",
   "id": "a208733b-d8df-4d47-bb1a-9dfe9426e8dd",
   "metadata": {},
   "source": [
    "![](API.jpg)"
   ]
  }
 ],
 "metadata": {
  "kernelspec": {
   "display_name": "Python 3 (ipykernel)",
   "language": "python",
   "name": "python3"
  },
  "language_info": {
   "codemirror_mode": {
    "name": "ipython",
    "version": 3
   },
   "file_extension": ".py",
   "mimetype": "text/x-python",
   "name": "python",
   "nbconvert_exporter": "python",
   "pygments_lexer": "ipython3",
   "version": "3.10.8"
  }
 },
 "nbformat": 4,
 "nbformat_minor": 5
}
