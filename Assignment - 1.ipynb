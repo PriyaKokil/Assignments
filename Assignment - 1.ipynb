{
 "cells": [
  {
   "cell_type": "markdown",
   "id": "76b7dd46-cdf9-465d-8da3-85ac353be9a0",
   "metadata": {},
   "source": [
    "Q1. Create one variable containing following type of data:\n",
    "(i) string\n",
    "(ii) list\n",
    "(iii) float\n",
    "(iv) tuple"
   ]
  },
  {
   "cell_type": "code",
   "execution_count": 1,
   "id": "f8c1f974-998d-4c6d-a285-4dda7fc03aae",
   "metadata": {},
   "outputs": [
    {
     "data": {
      "text/plain": [
       "str"
      ]
     },
     "execution_count": 1,
     "metadata": {},
     "output_type": "execute_result"
    }
   ],
   "source": [
    "# String\n",
    "\n",
    "a = \"Let's get started with Data Science\"\n",
    "type(a)"
   ]
  },
  {
   "cell_type": "code",
   "execution_count": 2,
   "id": "3446cc23-6fcf-49fd-8720-c9c5c815f842",
   "metadata": {},
   "outputs": [
    {
     "data": {
      "text/plain": [
       "list"
      ]
     },
     "execution_count": 2,
     "metadata": {},
     "output_type": "execute_result"
    }
   ],
   "source": [
    "# List\n",
    "\n",
    "L = [10,20,30,100,\"Data Science\",\"Python\",True,False,6+9j,9-7J]\n",
    "type(L)"
   ]
  },
  {
   "cell_type": "code",
   "execution_count": 1,
   "id": "6fd0a291-9e29-4f4a-8efe-9e49d1d19d3f",
   "metadata": {},
   "outputs": [
    {
     "data": {
      "text/plain": [
       "float"
      ]
     },
     "execution_count": 1,
     "metadata": {},
     "output_type": "execute_result"
    }
   ],
   "source": [
    "#Float\n",
    "  \n",
    "f = 89.456\n",
    "type(f)\n"
   ]
  },
  {
   "cell_type": "code",
   "execution_count": 2,
   "id": "ccb30272-f0e1-4ca8-bceb-4eeed35eee16",
   "metadata": {},
   "outputs": [
    {
     "data": {
      "text/plain": [
       "tuple"
      ]
     },
     "execution_count": 2,
     "metadata": {},
     "output_type": "execute_result"
    }
   ],
   "source": [
    "# tuple\n",
    "\n",
    "tup = (10,20,30,100,\"Data Science\",\"Python\",True,False,6+9j,9-7J)\n",
    "type(tup)"
   ]
  },
  {
   "cell_type": "markdown",
   "id": "07e5385f-e5a3-4efe-8cad-146b39936a2d",
   "metadata": {},
   "source": [
    "Q2. Given are some following variables containing data:\n",
    "(i) var1 = ‘ ‘\n",
    "(ii) var2 = ‘[ DS , ML , Python]’\n",
    "(iii) var3 = [ ‘DS’ , ’ML’ , ‘Python’ ]\n",
    "(iv) var4 = 1.\n",
    "\n",
    "What will be the data type of the above given variable."
   ]
  },
  {
   "cell_type": "code",
   "execution_count": 4,
   "id": "1f266173-c9f3-46c4-b43e-41250a9932c5",
   "metadata": {},
   "outputs": [
    {
     "data": {
      "text/plain": [
       "str"
      ]
     },
     "execution_count": 4,
     "metadata": {},
     "output_type": "execute_result"
    }
   ],
   "source": [
    "var1 = ' '\n",
    "type(var1)"
   ]
  },
  {
   "cell_type": "code",
   "execution_count": 7,
   "id": "a91fdef9-bd6a-4673-9e6a-63ecde84ee3d",
   "metadata": {},
   "outputs": [
    {
     "data": {
      "text/plain": [
       "str"
      ]
     },
     "execution_count": 7,
     "metadata": {},
     "output_type": "execute_result"
    }
   ],
   "source": [
    "var2 = '[ DS , ML , Python]'\n",
    "type(var2)"
   ]
  },
  {
   "cell_type": "code",
   "execution_count": 9,
   "id": "e9300045-23b3-49c6-a2ff-e704d2eb707d",
   "metadata": {},
   "outputs": [
    {
     "data": {
      "text/plain": [
       "list"
      ]
     },
     "execution_count": 9,
     "metadata": {},
     "output_type": "execute_result"
    }
   ],
   "source": [
    "var3 = [ 'DS' , 'ML' , 'Python' ]\n",
    "type(var3)"
   ]
  },
  {
   "cell_type": "code",
   "execution_count": 10,
   "id": "df25673a-20a1-4202-8ac7-828a17183759",
   "metadata": {},
   "outputs": [
    {
     "data": {
      "text/plain": [
       "int"
      ]
     },
     "execution_count": 10,
     "metadata": {},
     "output_type": "execute_result"
    }
   ],
   "source": [
    "var4 = 1\n",
    "type(var4)"
   ]
  },
  {
   "cell_type": "markdown",
   "id": "c2f7f83c-417c-4dbb-bbe5-0c8ab9e4ea0e",
   "metadata": {},
   "source": [
    "Q3. Explain the use of the following operators using an example:\n",
    "(i) /\n",
    "(ii) %\n",
    "(iii) //\n",
    "(iv) **"
   ]
  },
  {
   "cell_type": "code",
   "execution_count": 11,
   "id": "948bc3a8-4498-4c0d-98f0-ef34eb0022e2",
   "metadata": {},
   "outputs": [
    {
     "data": {
      "text/plain": [
       "8.333333333333334"
      ]
     },
     "execution_count": 11,
     "metadata": {},
     "output_type": "execute_result"
    }
   ],
   "source": [
    "# 1. / - Division operator allows to divide two numbers and return a quotient\n",
    "\n",
    "50/6"
   ]
  },
  {
   "cell_type": "code",
   "execution_count": 12,
   "id": "edb82a5b-4e12-4b0a-9f15-0cc0468e3e39",
   "metadata": {},
   "outputs": [
    {
     "data": {
      "text/plain": [
       "2"
      ]
     },
     "execution_count": 12,
     "metadata": {},
     "output_type": "execute_result"
    }
   ],
   "source": [
    "# 2. % - Modulo Operator gives remainder of a division problem\n",
    "\n",
    "50 % 6"
   ]
  },
  {
   "cell_type": "code",
   "execution_count": 13,
   "id": "e0cda0e5-b31a-48fa-8c13-9d3e175ddae1",
   "metadata": {},
   "outputs": [
    {
     "data": {
      "text/plain": [
       "8"
      ]
     },
     "execution_count": 13,
     "metadata": {},
     "output_type": "execute_result"
    }
   ],
   "source": [
    "# 3. // - Floor Division operator will always take the floor or the lower number.\n",
    "\n",
    "50 // 6"
   ]
  },
  {
   "cell_type": "code",
   "execution_count": 14,
   "id": "bb07a5ef-108d-4375-a1a2-e28e0e00c1a8",
   "metadata": {},
   "outputs": [
    {
     "data": {
      "text/plain": [
       "8"
      ]
     },
     "execution_count": 14,
     "metadata": {},
     "output_type": "execute_result"
    }
   ],
   "source": [
    "# 4. ** - exponentiation operator gives power of given number\n",
    "\n",
    "2**3"
   ]
  },
  {
   "cell_type": "markdown",
   "id": "5258b346-2c72-42e2-9ac7-e837033ab6ab",
   "metadata": {},
   "source": [
    "Q4. Create a list of length 10 of your choice containing multiple types of data. Using for loop print the\n",
    "element and its data type."
   ]
  },
  {
   "cell_type": "code",
   "execution_count": 2,
   "id": "a8d013a5-19aa-4757-8e85-3165ab301ad8",
   "metadata": {},
   "outputs": [
    {
     "name": "stdout",
     "output_type": "stream",
     "text": [
      "10 <class 'int'>\n",
      "30 <class 'int'>\n",
      "57.89 <class 'float'>\n",
      "Data Science <class 'str'>\n",
      "(4+8j) <class 'complex'>\n",
      "[1, 2, 3, 4] <class 'list'>\n",
      "Python <class 'str'>\n",
      "True <class 'bool'>\n",
      "False <class 'bool'>\n",
      "1000 <class 'int'>\n"
     ]
    },
    {
     "data": {
      "text/plain": [
       "list"
      ]
     },
     "execution_count": 2,
     "metadata": {},
     "output_type": "execute_result"
    }
   ],
   "source": [
    "list = [10 , 30 , 57.89, \"Data Science\", 4+8j, [1,2,3,4],\"Python\",True,False,1000]\n",
    "for i in list:\n",
    "    print(i,type(i))\n",
    "    \n",
    "type(list)    "
   ]
  },
  {
   "cell_type": "markdown",
   "id": "42e4332b-dcd2-4bae-a395-b7c857d590df",
   "metadata": {},
   "source": [
    "Q5. Using a while loop, verify if the number A is purely divisible by number B and if so then how many\n",
    "times it can be divisible."
   ]
  },
  {
   "cell_type": "code",
   "execution_count": 2,
   "id": "e3e5b7da-5445-4673-b2d3-c5259432d3f2",
   "metadata": {},
   "outputs": [
    {
     "name": "stdout",
     "output_type": "stream",
     "text": [
      "Purely Divisible \n"
     ]
    }
   ],
   "source": [
    "a = 10\n",
    "b = 5\n",
    "i = 1\n",
    "\n",
    "while i<a:\n",
    "    if a % b ==0:\n",
    "        print(\"Purely Divisible \")\n",
    "        break\n",
    "else :\n",
    "    print(\"Not divisible\")"
   ]
  },
  {
   "cell_type": "markdown",
   "id": "890a9f21-fe87-419f-9040-134c95152981",
   "metadata": {},
   "source": [
    "Q6. Create a list containing 25 int type data. Using for loop and if-else condition print if the element is\n",
    "divisible by 3 or not."
   ]
  },
  {
   "cell_type": "code",
   "execution_count": 5,
   "id": "3a4705f1-cac3-4439-9269-2b748ee35d39",
   "metadata": {},
   "outputs": [
    {
     "name": "stdout",
     "output_type": "stream",
     "text": [
      "0 is divisible by 3\n",
      "1 is not divisible by 3\n",
      "2 is not divisible by 3\n",
      "3 is divisible by 3\n",
      "4 is not divisible by 3\n",
      "5 is not divisible by 3\n",
      "6 is divisible by 3\n",
      "7 is not divisible by 3\n",
      "8 is not divisible by 3\n",
      "9 is divisible by 3\n",
      "10 is not divisible by 3\n",
      "11 is not divisible by 3\n",
      "12 is divisible by 3\n",
      "13 is not divisible by 3\n",
      "14 is not divisible by 3\n",
      "15 is divisible by 3\n",
      "16 is not divisible by 3\n",
      "17 is not divisible by 3\n",
      "18 is divisible by 3\n",
      "19 is not divisible by 3\n",
      "20 is not divisible by 3\n",
      "21 is divisible by 3\n",
      "22 is not divisible by 3\n",
      "23 is not divisible by 3\n",
      "24 is divisible by 3\n"
     ]
    }
   ],
   "source": [
    "list_1 = list(range(25))\n",
    "list_1\n",
    "for i in list_1:\n",
    "    if i % 3==0:\n",
    "        print(i,\"is divisible by 3\")\n",
    "    else:\n",
    "        print(i,\"is not divisible by 3\")"
   ]
  },
  {
   "cell_type": "markdown",
   "id": "2864b239-0a7d-449b-a781-6a0a3aa426bc",
   "metadata": {},
   "source": [
    "Q7. What do you understand about mutable and immutable data types? Give examples for both showing\n",
    "this property."
   ]
  },
  {
   "cell_type": "code",
   "execution_count": 8,
   "id": "cf4e531f-2f03-4e12-8a1d-91f629931880",
   "metadata": {},
   "outputs": [
    {
     "data": {
      "text/plain": [
       "[2, 4, 5, 6, 7, 'Python']"
      ]
     },
     "execution_count": 8,
     "metadata": {},
     "output_type": "execute_result"
    }
   ],
   "source": [
    "'''Mutable Data Types - A mutable object can be changed after it is created at any particular index\n",
    "Example - List , Dictionary , Set'''\n",
    "\n",
    "l = [2,4,5,6,7,\"Data science\"]\n",
    " # If we want to change data at index 5 , Data science to python then it is implemented as :\n",
    "\n",
    "l[5] = \"Python\"\n",
    "l\n"
   ]
  },
  {
   "cell_type": "code",
   "execution_count": 10,
   "id": "9ebdd676-d30e-46f5-b3d3-149124bbd807",
   "metadata": {},
   "outputs": [
    {
     "ename": "TypeError",
     "evalue": "'str' object does not support item assignment",
     "output_type": "error",
     "traceback": [
      "\u001b[0;31m---------------------------------------------------------------------------\u001b[0m",
      "\u001b[0;31mTypeError\u001b[0m                                 Traceback (most recent call last)",
      "Cell \u001b[0;32mIn[10], line 7\u001b[0m\n\u001b[1;32m      4\u001b[0m S \u001b[38;5;241m=\u001b[39m \u001b[38;5;124m\"\u001b[39m\u001b[38;5;124mABCDE\u001b[39m\u001b[38;5;124m\"\u001b[39m\n\u001b[1;32m      5\u001b[0m \u001b[38;5;66;03m# If we want to change B data at 1st index to F then it will give an error as below:\u001b[39;00m\n\u001b[0;32m----> 7\u001b[0m \u001b[43mS\u001b[49m\u001b[43m[\u001b[49m\u001b[38;5;241;43m1\u001b[39;49m\u001b[43m]\u001b[49m\u001b[38;5;241m=\u001b[39m\u001b[38;5;124m\"\u001b[39m\u001b[38;5;124mF\u001b[39m\u001b[38;5;124m\"\u001b[39m\n\u001b[1;32m      9\u001b[0m \u001b[38;5;66;03m#This shows String is immutable\u001b[39;00m\n",
      "\u001b[0;31mTypeError\u001b[0m: 'str' object does not support item assignment"
     ]
    }
   ],
   "source": [
    "'''Immutable Data Types -An immutable object cannot be changed after it is created at any particular index\n",
    "Example - String , Tuple , Int'''\n",
    "\n",
    "S = \"ABCDE\"\n",
    "# If we want to change B data at 1st index to F then it will give an error as below:\n",
    "\n",
    "S[1]=\"F\"\n",
    "\n",
    "#This shows String is immutable"
   ]
  }
 ],
 "metadata": {
  "kernelspec": {
   "display_name": "Python 3 (ipykernel)",
   "language": "python",
   "name": "python3"
  },
  "language_info": {
   "codemirror_mode": {
    "name": "ipython",
    "version": 3
   },
   "file_extension": ".py",
   "mimetype": "text/x-python",
   "name": "python",
   "nbconvert_exporter": "python",
   "pygments_lexer": "ipython3",
   "version": "3.10.8"
  }
 },
 "nbformat": 4,
 "nbformat_minor": 5
}
