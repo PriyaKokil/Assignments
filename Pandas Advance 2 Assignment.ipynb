{
 "cells": [
  {
   "cell_type": "markdown",
   "id": "fe40eb92-acd8-4078-a4ad-c2c530a80d73",
   "metadata": {},
   "source": [
    "Consider following code to answer further questions:\n",
    "import pandas as pd\n",
    "course_name = [‘Data Science’, ‘Machine Learning’, ‘Big Data’, ‘Data Engineer’]\n",
    "duration = [2,3,6,4]\n",
    "df = pd.DataFrame(data = {‘course_name’ : course_name, ‘duration’ : duration})\n"
   ]
  },
  {
   "cell_type": "markdown",
   "id": "2c2c864a-c106-4f24-93c7-43e43e3418d0",
   "metadata": {},
   "source": [
    "# Q1. Write a code to print the data present in the second row of the dataframe, df."
   ]
  },
  {
   "cell_type": "code",
   "execution_count": 3,
   "id": "b2c01229-fe90-403b-9627-eea69c3e998b",
   "metadata": {},
   "outputs": [],
   "source": [
    "import pandas as pd\n",
    "course_name = ['Data Science', 'Machine Learning', 'Big Data', 'Data Engineer']\n",
    "duration = [2,3,6,4]\n",
    "df = pd.DataFrame(data = {'course_name' : course_name, 'duration' : duration})"
   ]
  },
  {
   "cell_type": "code",
   "execution_count": 4,
   "id": "df7331eb-9890-4796-a1b9-63c6529c6b89",
   "metadata": {},
   "outputs": [
    {
     "data": {
      "text/html": [
       "<div>\n",
       "<style scoped>\n",
       "    .dataframe tbody tr th:only-of-type {\n",
       "        vertical-align: middle;\n",
       "    }\n",
       "\n",
       "    .dataframe tbody tr th {\n",
       "        vertical-align: top;\n",
       "    }\n",
       "\n",
       "    .dataframe thead th {\n",
       "        text-align: right;\n",
       "    }\n",
       "</style>\n",
       "<table border=\"1\" class=\"dataframe\">\n",
       "  <thead>\n",
       "    <tr style=\"text-align: right;\">\n",
       "      <th></th>\n",
       "      <th>course_name</th>\n",
       "      <th>duration</th>\n",
       "    </tr>\n",
       "  </thead>\n",
       "  <tbody>\n",
       "    <tr>\n",
       "      <th>0</th>\n",
       "      <td>Data Science</td>\n",
       "      <td>2</td>\n",
       "    </tr>\n",
       "    <tr>\n",
       "      <th>1</th>\n",
       "      <td>Machine Learning</td>\n",
       "      <td>3</td>\n",
       "    </tr>\n",
       "    <tr>\n",
       "      <th>2</th>\n",
       "      <td>Big Data</td>\n",
       "      <td>6</td>\n",
       "    </tr>\n",
       "    <tr>\n",
       "      <th>3</th>\n",
       "      <td>Data Engineer</td>\n",
       "      <td>4</td>\n",
       "    </tr>\n",
       "  </tbody>\n",
       "</table>\n",
       "</div>"
      ],
      "text/plain": [
       "        course_name  duration\n",
       "0      Data Science         2\n",
       "1  Machine Learning         3\n",
       "2          Big Data         6\n",
       "3     Data Engineer         4"
      ]
     },
     "execution_count": 4,
     "metadata": {},
     "output_type": "execute_result"
    }
   ],
   "source": [
    "df"
   ]
  },
  {
   "cell_type": "code",
   "execution_count": 6,
   "id": "d53a58ac-8ea4-4e7e-a22a-8e19b5b9671b",
   "metadata": {},
   "outputs": [
    {
     "data": {
      "text/plain": [
       "course_name    Machine Learning\n",
       "duration                      3\n",
       "Name: 1, dtype: object"
      ]
     },
     "execution_count": 6,
     "metadata": {},
     "output_type": "execute_result"
    }
   ],
   "source": [
    "df.iloc[1]"
   ]
  },
  {
   "cell_type": "markdown",
   "id": "e1aac6cb-f1ee-4b6b-a553-95ae0855782e",
   "metadata": {},
   "source": [
    "# Q2. What is the difference between the functions loc and iloc in pandas.DataFrame?"
   ]
  },
  {
   "cell_type": "markdown",
   "id": "8714fe30-77d7-4986-8862-a5fee6384e37",
   "metadata": {},
   "source": [
    "In Pandas, the loc and iloc functions are used to select rows and columns from a DataFrame, but they work slightly differently:\n",
    "\n",
    "1. loc (Label-based selection):\n",
    "\n",
    "loc is primarily label-based and allows you to select data from a DataFrame using row and column labels.\n",
    "When using loc, you specify row and column labels as arguments.\n",
    "It is inclusive of both the start and end labels when selecting rows and columns.\n",
    "\n",
    "\n",
    "2. iloc (Integer-based selection):\n",
    "\n",
    "iloc is primarily integer-based and allows you to select data from a DataFrame using integer-based row and column indices.\n",
    "When using iloc, you specify row and column indices as arguments.\n",
    "It is exclusive of the end index when selecting rows and columns, which means it selects up to, but not including, the end index."
   ]
  },
  {
   "cell_type": "code",
   "execution_count": 10,
   "id": "cd48bf9f-5962-4640-9f16-4eaa50dfd8a1",
   "metadata": {},
   "outputs": [],
   "source": [
    "import pandas as pd\n",
    "\n",
    "df = pd.DataFrame({'A': [1, 2, 3], 'B': [4, 5, 6]}, index=['row1', 'row2', 'row3'])\n",
    "\n",
    "# Selecting a specific row and column using loc\n",
    "selected_data = df.loc['row2', 'A']\n",
    "\n",
    "\n",
    "df = pd.DataFrame({'A': [1, 2, 3], 'B': [4, 5, 6]})\n",
    "\n",
    "# Selecting a specific row and column using iloc\n",
    "selected_data_1  = df.iloc[1, 0]\n"
   ]
  },
  {
   "cell_type": "code",
   "execution_count": 11,
   "id": "7ca60901-d093-4f52-8830-72c98a2fd1a5",
   "metadata": {},
   "outputs": [
    {
     "data": {
      "text/plain": [
       "2"
      ]
     },
     "execution_count": 11,
     "metadata": {},
     "output_type": "execute_result"
    }
   ],
   "source": [
    "selected_data\n",
    "selected_data_1"
   ]
  },
  {
   "cell_type": "markdown",
   "id": "8dd35fd1-ad8d-424d-910a-4d97e4e9f396",
   "metadata": {},
   "source": [
    "# Q3. Reindex the given dataframe using a variable, reindex = [3,0,1,2] and store it in the variable, new_df then find the output for both new_df.loc[2] and new_df.iloc[2]."
   ]
  },
  {
   "cell_type": "code",
   "execution_count": 12,
   "id": "850ad98b-8dcf-46d7-8260-d8d2942e5077",
   "metadata": {},
   "outputs": [
    {
     "name": "stdout",
     "output_type": "stream",
     "text": [
      "Using loc:\n",
      "A    30\n",
      "Name: 2, dtype: int64\n",
      "\n",
      "Using iloc:\n",
      "A    20\n",
      "Name: 1, dtype: int64\n"
     ]
    }
   ],
   "source": [
    "import pandas as pd\n",
    "\n",
    "\n",
    "data = {'A': [10, 20, 30, 40]}\n",
    "df = pd.DataFrame(data)\n",
    "\n",
    "\n",
    "reindex_order = [3, 0, 1, 2]\n",
    "\n",
    "\n",
    "new_df = df.reindex(reindex_order)\n",
    "\n",
    "\n",
    "element_loc = new_df.loc[2]\n",
    "\n",
    "# Accessing with iloc\n",
    "element_iloc = new_df.iloc[2]\n",
    "\n",
    "print(\"Using loc:\")\n",
    "print(element_loc)\n",
    "\n",
    "print(\"\\nUsing iloc:\")\n",
    "print(element_iloc)\n"
   ]
  },
  {
   "cell_type": "markdown",
   "id": "7ca3b142-6c44-4181-8c74-050516065d11",
   "metadata": {},
   "source": [
    "import pandas as pd\n",
    "import numpy as np\n",
    "columns = ['column_1', 'column_2', 'column_3', 'column_4', 'column_5', 'column_6']\n",
    "indices = [1,2,3,4,5,6]\n",
    "#Creating a dataframe:\n",
    "df1 = pd.DataFrame(np.random.rand(6,6), columns = columns, index = indices)\n",
    "\n",
    "# Q4. Write a code to find the following statistical measurements for the above dataframe df1:\n",
    "(i) mean of each and every column present in the dataframe.\n",
    "(ii) standard deviation of column, ‘column_2’"
   ]
  },
  {
   "cell_type": "code",
   "execution_count": 13,
   "id": "63194cc5-64c7-4d97-9916-0cbefc084c29",
   "metadata": {},
   "outputs": [
    {
     "name": "stdout",
     "output_type": "stream",
     "text": [
      "Mean of each column:\n",
      "column_1    0.401557\n",
      "column_2    0.365748\n",
      "column_3    0.493581\n",
      "column_4    0.394270\n",
      "column_5    0.382642\n",
      "column_6    0.689322\n",
      "dtype: float64\n",
      "\n",
      "Standard deviation of 'column_2': 0.29268542027051314\n"
     ]
    }
   ],
   "source": [
    "import pandas as pd\n",
    "import numpy as np\n",
    "\n",
    "# Create the DataFrame\n",
    "columns = ['column_1', 'column_2', 'column_3', 'column_4', 'column_5', 'column_6']\n",
    "indices = [1, 2, 3, 4, 5, 6]\n",
    "df1 = pd.DataFrame(np.random.rand(6, 6), columns=columns, index=indices)\n",
    "\n",
    "# (i) Mean of each column\n",
    "column_means = df1.mean()\n",
    "print(\"Mean of each column:\")\n",
    "print(column_means)\n",
    "\n",
    "# (ii) Standard deviation of 'column_2'\n",
    "std_dev_column_2 = df1['column_2'].std()\n",
    "print(\"\\nStandard deviation of 'column_2':\", std_dev_column_2)\n"
   ]
  },
  {
   "cell_type": "markdown",
   "id": "8d4137c4-59d0-44d8-b628-d5351e17812b",
   "metadata": {},
   "source": [
    "# Q5. Replace the data present in the second row of column, ‘column_2’ by a string variable then find the mean of column, column_2.\n",
    "If you are getting errors in executing it then explain why.\n",
    "[Hint: To replace the data use df1.loc[] and equate this to string data of your choice.]"
   ]
  },
  {
   "cell_type": "code",
   "execution_count": 14,
   "id": "cb8382c8-982c-4469-a014-6850cac168cb",
   "metadata": {},
   "outputs": [
    {
     "name": "stdout",
     "output_type": "stream",
     "text": [
      "Error: unsupported operand type(s) for +: 'float' and 'str'\n"
     ]
    }
   ],
   "source": [
    "\n",
    "df1.loc[2, 'column_2'] = 'This is a string'\n",
    "\n",
    "\n",
    "try:\n",
    "    mean_column_2 = df1['column_2'].mean()\n",
    "    print(\"Mean of 'column_2':\", mean_column_2)\n",
    "except TypeError as e:\n",
    "    print(\"Error:\", e)\n"
   ]
  },
  {
   "cell_type": "markdown",
   "id": "05637fa7-1889-49be-940d-4457207a2d01",
   "metadata": {},
   "source": [
    "# Q6. What do you understand about the windows function in pandas and list the types of windows functions?"
   ]
  },
  {
   "cell_type": "markdown",
   "id": "e6b3b459-3680-42f3-894a-ee6e44657cd5",
   "metadata": {},
   "source": [
    "In Pandas, a \"window function\" (also known as a \"windowing function\" or \"rolling function\") is a function that performs calculations on a specific subset of data within a defined window or moving window. These functions are commonly used for time series data or any sequential data where you want to compute aggregated statistics over a moving window of data points.\n",
    "\n",
    "Window functions are typically applied using the rolling() method on a Series or DataFrame. The rolling() method creates a rolling view of the data, allowing you to apply various aggregation functions over specified windows. You can customize the window size, window type, and the function to apply.\n",
    "\n",
    "Here are some common types of window functions:\n",
    "\n",
    "rolling.mean(): Calculates the rolling mean (moving average) of the data within the specified window.\n",
    "rolling.sum(): Calculates the rolling sum of the data within the specified window.\n",
    "rolling.min() and rolling.max(): Calculate the rolling minimum and maximum values within the specified window.\n",
    "rolling.std() and rolling.var(): Calculate the rolling standard deviation and variance within the specified window.\n",
    "rolling.median(): Calculates the rolling median within the specified window."
   ]
  },
  {
   "cell_type": "code",
   "execution_count": null,
   "id": "30255169-ff0f-407d-9bce-13f80dbfb309",
   "metadata": {},
   "outputs": [],
   "source": []
  },
  {
   "cell_type": "markdown",
   "id": "3df034d7-dcb2-4867-bfe2-4bbf4ebf4e33",
   "metadata": {},
   "source": [
    "# Q7. Write a code to print only the current month and year at the time of answering this question.\n",
    "[Hint: Use pandas.datetime function]"
   ]
  },
  {
   "cell_type": "code",
   "execution_count": 16,
   "id": "c991ce54-23fd-405f-9e79-126e1bff77b2",
   "metadata": {},
   "outputs": [
    {
     "name": "stdout",
     "output_type": "stream",
     "text": [
      "Current Month: September\n",
      "Current Year: 2023\n"
     ]
    }
   ],
   "source": [
    "from datetime import datetime\n",
    "\n",
    "\n",
    "current_datetime = datetime.now()\n",
    "\n",
    "current_month = current_datetime.strftime('%B')  # Full month name\n",
    "current_year = current_datetime.year\n",
    "\n",
    "\n",
    "print(f\"Current Month: {current_month}\")\n",
    "print(f\"Current Year: {current_year}\")\n"
   ]
  },
  {
   "cell_type": "markdown",
   "id": "3b963793-5fbb-4fbc-9b45-f1daf7f5479b",
   "metadata": {},
   "source": [
    "# Q8. Write a Python program that takes in two dates as input (in the format YYYY-MM-DD) and calculates the difference between them in days, hours, and minutes using Pandas time delta. The program should prompt the user to enter the dates and display the result."
   ]
  },
  {
   "cell_type": "code",
   "execution_count": 18,
   "id": "194715e9-24c9-488f-8f17-7091a574143d",
   "metadata": {},
   "outputs": [
    {
     "name": "stdin",
     "output_type": "stream",
     "text": [
      "Enter the first date (YYYY-MM-DD):  2001-04-12\n",
      "Enter the second date (YYYY-MM-DD):  2023-09-11\n"
     ]
    },
    {
     "name": "stdout",
     "output_type": "stream",
     "text": [
      "Time Difference: 8187 days, 0 hours, 0 minutes\n"
     ]
    }
   ],
   "source": [
    "import pandas as pd\n",
    "\n",
    "# Input from the user (two dates in YYYY-MM-DD format)\n",
    "date_str1 = input(\"Enter the first date (YYYY-MM-DD): \")\n",
    "date_str2 = input(\"Enter the second date (YYYY-MM-DD): \")\n",
    "\n",
    "# Convert the input strings to datetime objects\n",
    "try:\n",
    "    date1 = pd.to_datetime(date_str1)\n",
    "    date2 = pd.to_datetime(date_str2)\n",
    "\n",
    "    # Calculate the time difference\n",
    "    time_difference = date2 - date1\n",
    "\n",
    "    # Extract days, hours, and minutes\n",
    "    days = time_difference.days\n",
    "    hours, remainder = divmod(time_difference.seconds, 3600)\n",
    "    minutes, _ = divmod(remainder, 60)\n",
    "\n",
    "    # Display the result\n",
    "    print(f\"Time Difference: {days} days, {hours} hours, {minutes} minutes\")\n",
    "except ValueError:\n",
    "    print(\"Invalid date format. Please use YYYY-MM-DD format.\")\n"
   ]
  },
  {
   "cell_type": "markdown",
   "id": "9ed00dc0-a2a5-4c85-a816-81ae65f24792",
   "metadata": {},
   "source": [
    "# Q9. Write a Python program that reads a CSV file containing categorical data and converts a specified column to a categorical data type. The program should prompt the user to enter the file path, column name, and category order, and then display the sorted data."
   ]
  },
  {
   "cell_type": "code",
   "execution_count": null,
   "id": "4c17b461-396c-4efd-8597-aaa7ae1865cd",
   "metadata": {},
   "outputs": [],
   "source": [
    "import pandas as pd\n",
    "\n",
    "# Input file path from the user\n",
    "file_path = input(\"Enter the path to the CSV file: \")\n",
    "\n",
    "try:\n",
    "    # Read the CSV file into a DataFrame\n",
    "    df = pd.read_csv(file_path)\n",
    "\n",
    "    # Display the columns in the DataFrame\n",
    "    print(\"Columns in the CSV file:\")\n",
    "    print(df.columns)\n",
    "\n",
    "    # Input column name from the user\n",
    "    column_name = input(\"Enter the name of the column to convert to categorical: \")\n",
    "\n",
    "    # Check if the entered column name exists in the DataFrame\n",
    "    if column_name not in df.columns:\n",
    "        print(f\"Column '{column_name}' not found in the CSV file.\")\n",
    "    else:\n",
    "        # Input category order from the user as a comma-separated list\n",
    "        category_order = input(\"Enter the category order (comma-separated): \").split(',')\n",
    "\n",
    "        # Convert the specified column to categorical with the specified category order\n",
    "        df[column_name] = pd.Categorical(df[column_name], categories=category_order, ordered=True)\n",
    "\n",
    "        # Sort the DataFrame based on the categorical column\n",
    "        sorted_df = df.sort_values(by=[column_name])\n",
    "\n",
    "        # Display the sorted data\n",
    "        print(\"\\nSorted Data:\")\n",
    "        print(sorted_df)\n",
    "except FileNotFoundError:\n",
    "    print(f\"File not found at path '{file_path}'. Please check the file path.\")\n",
    "except Exception as e:\n",
    "    print(f\"An error occurred: {e}\")\n"
   ]
  },
  {
   "cell_type": "markdown",
   "id": "9508a24f-6e2b-4eb1-a5fc-f711a7fcac7c",
   "metadata": {},
   "source": [
    "# Q10. Write a Python program that reads a CSV file containing sales data for different products and visualizes the data using a stacked bar chart to show the sales of each product category over time. The program should prompt the user to enter the file path and display the chart."
   ]
  },
  {
   "cell_type": "code",
   "execution_count": null,
   "id": "95d4c001-bcaf-4f7e-bdcf-2f78a91863a3",
   "metadata": {},
   "outputs": [],
   "source": [
    "import pandas as pd\n",
    "import matplotlib.pyplot as plt\n",
    "\n",
    "# Input file path from the user\n",
    "file_path = input(\"Enter the path to the CSV file containing sales data: \")\n",
    "\n",
    "try:\n",
    "    # Read the CSV file into a DataFrame\n",
    "    df = pd.read_csv(file_path)\n",
    "\n",
    "    # Ensure that the 'Date' column is treated as datetime\n",
    "    df['Date'] = pd.to_datetime(df['Date'])\n",
    "\n",
    "    # Pivot the data to create a DataFrame suitable for plotting a stacked bar chart\n",
    "    pivoted_df = df.pivot(index='Date', columns='ProductCategory', values='SalesAmount')\n",
    "\n",
    "    # Fill NaN values with 0\n",
    "    pivoted_df = pivoted_df.fillna(0)\n",
    "\n",
    "    # Create a stacked bar chart\n",
    "    fig, ax = plt.subplots(figsize=(10, 6))\n",
    "    pivoted_df.plot(kind='bar', stacked=True, ax=ax)\n",
    "\n",
    "    # Set labels and title\n",
    "    ax.set_xlabel('Date')\n",
    "    ax.set_ylabel('Total Sales')\n",
    "    ax.set_title('Stacked Bar Chart of Sales by Product Category')\n",
    "\n",
    "    # Show the legend\n",
    "    ax.legend(title='Product Category')\n",
    "\n",
    "    # Show the chart\n",
    "    plt.show()\n",
    "\n",
    "except FileNotFoundError:\n",
    "    print(f\"File not found at path '{file_path}'. Please check the file path.\")\n",
    "except Exception as e:\n",
    "    print(f\"An error occurred: {e}\")\n"
   ]
  },
  {
   "cell_type": "markdown",
   "id": "0f1d7c92-fe66-4626-b11b-87b861445946",
   "metadata": {},
   "source": [
    "# Q11. You are given a CSV file containing student data that includes the student ID and their test score. Write\n",
    "a Python program that reads the CSV file, calculates the mean, median, and mode of the test scores, and\n",
    "displays the results in a table.\n",
    "The program should do the followingM\n",
    "I Prompt the user to enter the file path of the CSV file containing the student dataR\n",
    "I Read the CSV file into a Pandas DataFrameR\n",
    "I Calculate the mean, median, and mode of the test scores using Pandas toolsR\n",
    "I Display the mean, median, and mode in a table.\n",
    "Assume the CSV file contains the following columnsM\n",
    "I Student ID: The ID of the studentR\n",
    "I Test Score: The score of the student's test.\n",
    "Example usage of the program:\n",
    "Enter the file path of the CSV file containing the student data: student_data.csv\n",
    "+-----------+--------+\n",
    "| Statistic | Value |\n",
    "+-----------+--------+\n",
    "| Mean | 79.6 |\n",
    "| Median | 82 |\n",
    "| Mode | 85, 90 |\n",
    "+-----------+--------+\n",
    "Assume that the CSV file student_data.csv contains the following data:\n",
    "Student ID,Test Score\n",
    "1,85\n",
    "2,90\n",
    "3,80\n",
    "4,75\n",
    "5,85\n",
    "6,82\n",
    "7,78\n",
    "8,85\n",
    "9,90\n",
    "10,85\n",
    "The program should calculate the mean, median, and mode of the test scores and display the results\n",
    "in a table."
   ]
  },
  {
   "cell_type": "code",
   "execution_count": null,
   "id": "7464c2e3-8c34-4d42-a7e5-6f814f215aeb",
   "metadata": {},
   "outputs": [],
   "source": [
    "import pandas as pd\n",
    "from scipy import stats\n",
    "\n",
    "# Input file path from the user\n",
    "file_path = input(\"Enter the file path of the CSV file containing student data: \")\n",
    "\n",
    "try:\n",
    "    # Read the CSV file into a Pandas DataFrame\n",
    "    df = pd.read_csv(file_path)\n",
    "\n",
    "    # Calculate mean, median, and mode\n",
    "    mean_score = df['Test Score'].mean()\n",
    "    median_score = df['Test Score'].median()\n",
    "    mode_scores = stats.mode(df['Test Score'])\n",
    "\n",
    "    # Display the results in a table\n",
    "    results_df = pd.DataFrame({\n",
    "        'Statistic': ['Mean', 'Median', 'Mode'],\n",
    "        'Value': [mean_score, median_score, ', '.join(map(str, mode_scores.mode))]\n",
    "    })\n",
    "\n",
    "    print(\"\\n+-----------+--------+\")\n",
    "    print(\"| Statistic | Value  |\")\n",
    "    print(\"+-----------+--------+\")\n",
    "    for _, row in results_df.iterrows():\n",
    "        print(f\"| {row['Statistic']:10} | {row['Value']:6} |\")\n",
    "    print(\"+-----------+--------+\")\n",
    "\n",
    "except FileNotFoundError:\n",
    "    print(f\"File not found at path '{file_path}'. Please check the file path.\")\n",
    "except Exception as e:\n",
    "    print(f\"An error occurred: {e}\")\n"
   ]
  },
  {
   "cell_type": "code",
   "execution_count": null,
   "id": "6db364cf-d3ae-42d4-8738-77763a2f5b08",
   "metadata": {},
   "outputs": [],
   "source": []
  }
 ],
 "metadata": {
  "kernelspec": {
   "display_name": "Python 3 (ipykernel)",
   "language": "python",
   "name": "python3"
  },
  "language_info": {
   "codemirror_mode": {
    "name": "ipython",
    "version": 3
   },
   "file_extension": ".py",
   "mimetype": "text/x-python",
   "name": "python",
   "nbconvert_exporter": "python",
   "pygments_lexer": "ipython3",
   "version": "3.10.8"
  }
 },
 "nbformat": 4,
 "nbformat_minor": 5
}
