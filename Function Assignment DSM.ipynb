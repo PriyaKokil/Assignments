{
 "cells": [
  {
   "cell_type": "markdown",
   "id": "a43e757a-4232-471a-bfa6-6a22b9eb7d84",
   "metadata": {},
   "source": [
    "## Q1. Which keyword is used to create a function? Create a function to return a list of odd numbers in the range of 1 to 25."
   ]
  },
  {
   "cell_type": "markdown",
   "id": "fbdc19c0-a68b-473b-b469-ca50759277be",
   "metadata": {},
   "source": [
    "* def keyword is used to create a function before function name.\n",
    "Example : def fun_name():"
   ]
  },
  {
   "cell_type": "code",
   "execution_count": 2,
   "id": "bfc8037d-fcd1-4203-b0d0-fbed38c8c3e2",
   "metadata": {},
   "outputs": [
    {
     "data": {
      "text/plain": [
       "[1, 3, 5, 7, 9, 11, 13, 15, 17, 19, 21, 23]"
      ]
     },
     "execution_count": 2,
     "metadata": {},
     "output_type": "execute_result"
    }
   ],
   "source": [
    "def odd_num(a):\n",
    "    l = []\n",
    "    for i in a:\n",
    "        if i % 2 !=0:\n",
    "            l.append(i)\n",
    "    return l\n",
    "b = list(range(1,25))\n",
    "odd_num(b)"
   ]
  },
  {
   "cell_type": "markdown",
   "id": "876b65d4-00c8-49d8-b0a1-3a27c8d9328a",
   "metadata": {},
   "source": [
    "## Q2. Why *args and **kwargs is used in some functions? Create a function each for *args and **kwargs to demonstrate their use."
   ]
  },
  {
   "cell_type": "markdown",
   "id": "567c034a-ac78-4aea-b697-c10bcc7d8737",
   "metadata": {},
   "source": [
    "*args :\n",
    "1. argument when we are unsure about the number of arguments to pass in the functions.\n",
    "2. If we want to pass an argument at the run time when number of argumrnts are unknown * args is used.\n",
    "3. *args can be any name depend on user.\n"
   ]
  },
  {
   "cell_type": "code",
   "execution_count": 3,
   "id": "0e1d2b39-09fb-4a76-b010-79b177152f19",
   "metadata": {},
   "outputs": [
    {
     "data": {
      "text/plain": [
       "[1, 2, 3, 4, 5, 6, 78]"
      ]
     },
     "execution_count": 3,
     "metadata": {},
     "output_type": "execute_result"
    }
   ],
   "source": [
    "## Function to print only intergers from list\n",
    "\n",
    "def int_num(*args):\n",
    "    l = []\n",
    "    for i in args:\n",
    "        if type(i)==int:\n",
    "            l.append(i)\n",
    "    return l\n",
    "int_num(1,2,3,4,5,6,78,(4,5,7,8,9),\"priya\",[8765543,8755],True,8+7j)\n",
    "        "
   ]
  },
  {
   "cell_type": "markdown",
   "id": "3d99f731-5dd4-46b2-bdb2-b9ba2328a034",
   "metadata": {},
   "source": [
    "**kwargs :\n",
    "1. **kwargs in function definitions in Python is used to pass a keyworded, variable-length argument list.    \n"
   ]
  },
  {
   "cell_type": "code",
   "execution_count": 4,
   "id": "b6cf2369-3e58-4eb5-8de9-c1516c2a436c",
   "metadata": {},
   "outputs": [
    {
     "data": {
      "text/plain": [
       "('d', [4, 5, 6, 7, 8])"
      ]
     },
     "execution_count": 4,
     "metadata": {},
     "output_type": "execute_result"
    }
   ],
   "source": [
    "## Function to print only list from list usinf **kwargs\n",
    "\n",
    "def list_test(**kwargs):\n",
    "    for i in kwargs.keys() :\n",
    "        if type(kwargs[i]) == list:\n",
    "            return i , kwargs[i]\n",
    "        \n",
    "list_test(a = 34, b= \"Data science\", c = (1,2,3), d = [4,5,6,7,8] )        \n"
   ]
  },
  {
   "cell_type": "markdown",
   "id": "c1f89017-33bf-42f6-aa6f-c206d7d5669e",
   "metadata": {},
   "source": [
    "## Q3. What is an iterator in python? Name the method used to initialise the iterator object and the method used for iteration. Use these methods to print the first five elements of the given list \n",
    "[2, 4, 6, 8, 10, 12, 14, 16,18, 20]."
   ]
  },
  {
   "cell_type": "markdown",
   "id": "ff2e52c8-bf07-43fd-aa6e-2c925e2c12b8",
   "metadata": {},
   "source": [
    "* An iterator in Python is an object that is used to iterate over iterable objects like lists, tuples, dicts, and sets.\n",
    "The Python iterators object is initialized using the iter() method. It uses the next() method for iteration.\n",
    "\n",
    "1. __iter__(): The iter() method is called for the initialization of an iterator. This returns an iterator object\n",
    "2. __next__(): The next method returns the next value for the iterable."
   ]
  },
  {
   "cell_type": "code",
   "execution_count": 1,
   "id": "a4010927-aa98-4174-a23d-7bb02798fe07",
   "metadata": {},
   "outputs": [
    {
     "name": "stdout",
     "output_type": "stream",
     "text": [
      "2\n",
      "4\n",
      "6\n",
      "8\n",
      "10\n"
     ]
    }
   ],
   "source": [
    "x = [2, 4, 6, 8, 10, 12, 14, 16,18, 20]\n",
    "\n",
    "y = iter(x)\n",
    "\n",
    "print(next(y))\n",
    "print(next(y))\n",
    "print(next(y))\n",
    "print(next(y))\n",
    "print(next(y))"
   ]
  },
  {
   "cell_type": "markdown",
   "id": "7c88f20d-27c1-4912-bea9-905dd3ea13f1",
   "metadata": {},
   "source": [
    "## Q4. What is a generator function in python? Why yield keyword is used? Give an example of a generator function."
   ]
  },
  {
   "cell_type": "markdown",
   "id": "1f6cec5e-0846-4f57-8b47-30f73415f4ff",
   "metadata": {},
   "source": [
    "* Generator Function : \n",
    "1. A generator is a function that returns an iterator that produces a sequence of values when iterated over\n",
    "2. Generators are useful when we want to produce a large sequence of values, but we don't want to store all of them in memory at once.\n",
    "\n",
    "* yield keyword :\n",
    "1. yield keyword is used to create a generator function. A type of function that is memory efficient and can be used like an iterator object.\n",
    "2. Using yield keyword is highly memory efficient, since the execution happens only when the caller iterates over the object.\n",
    "3. As the variables states are saved, we can pause and resume from the same point, thus saving time.    "
   ]
  },
  {
   "cell_type": "code",
   "execution_count": 5,
   "id": "6dbed47b-d3d1-4992-9e6b-338aea7b0b5e",
   "metadata": {},
   "outputs": [
    {
     "name": "stdout",
     "output_type": "stream",
     "text": [
      "0\n",
      "1\n",
      "1\n",
      "2\n",
      "3\n",
      "5\n",
      "8\n",
      "13\n",
      "21\n",
      "34\n"
     ]
    }
   ],
   "source": [
    "# Example of Generator function\n",
    "# Fibonacci series : 0,1,1,2,3,5,8,13,21,34\n",
    "\n",
    "def fib(n):\n",
    "    a,b= 0,1\n",
    "    for i in range(n):\n",
    "        yield a\n",
    "        a,b=b,a+b\n",
    "for i in fib(10):\n",
    "    print(i)        "
   ]
  },
  {
   "cell_type": "markdown",
   "id": "46c97a6e-50bc-4f6d-8600-b4dc66663fcd",
   "metadata": {},
   "source": [
    "## Q5. Create a generator function for prime numbers less than 1000. Use the next() method to print the first 20 prime numbers."
   ]
  },
  {
   "cell_type": "code",
   "execution_count": 10,
   "id": "6b5ed291-9cad-4951-be78-a1bce5804293",
   "metadata": {},
   "outputs": [
    {
     "name": "stdout",
     "output_type": "stream",
     "text": [
      "2\n",
      "3\n",
      "5\n",
      "7\n",
      "11\n",
      "13\n",
      "17\n",
      "19\n",
      "23\n",
      "29\n",
      "31\n",
      "37\n",
      "41\n",
      "43\n",
      "47\n",
      "53\n",
      "59\n",
      "61\n",
      "67\n",
      "71\n"
     ]
    }
   ],
   "source": [
    "def prime_generator():\n",
    "    yield 2  # 2 is the first prime number\n",
    "    primes = [2]  # List to store prime numbers\n",
    "\n",
    "    num = 3  # Starting from 3, since 2 is already added\n",
    "    while num < 1000:\n",
    "        is_prime = True\n",
    "        for prime in primes:\n",
    "            if prime * prime > num:\n",
    "                break\n",
    "            if num % prime == 0:\n",
    "                is_prime = False\n",
    "                break\n",
    "        if is_prime:\n",
    "            primes.append(num)\n",
    "            yield num\n",
    "        num += 2  # Skipping even numbers\n",
    "\n",
    "# Generate the first 20 prime numbers\n",
    "prime_gen = prime_generator()\n",
    "for _ in range(20):\n",
    "    print(next(prime_gen))\n"
   ]
  }
 ],
 "metadata": {
  "kernelspec": {
   "display_name": "Python 3 (ipykernel)",
   "language": "python",
   "name": "python3"
  },
  "language_info": {
   "codemirror_mode": {
    "name": "ipython",
    "version": 3
   },
   "file_extension": ".py",
   "mimetype": "text/x-python",
   "name": "python",
   "nbconvert_exporter": "python",
   "pygments_lexer": "ipython3",
   "version": "3.10.8"
  }
 },
 "nbformat": 4,
 "nbformat_minor": 5
}
