{
 "cells": [
  {
   "cell_type": "markdown",
   "id": "313f786e-ecd6-46c4-8600-97ad51bfdb3b",
   "metadata": {},
   "source": [
    "## Q1. What are the three measures of central tendency?"
   ]
  },
  {
   "cell_type": "markdown",
   "id": "0ba3a284-5746-46eb-90a5-29e33e5f1639",
   "metadata": {},
   "source": [
    "There are three main measures of central tendency:\n",
    "1. mode.\n",
    "2. median.\n",
    "3. mean."
   ]
  },
  {
   "cell_type": "markdown",
   "id": "6d2fa2e7-2a84-439e-b189-221aeff85f3e",
   "metadata": {},
   "source": [
    "## Q2. What is the difference between the mean, median, and mode? How are they used to measure the central tendency of a dataset?"
   ]
  },
  {
   "cell_type": "markdown",
   "id": "40a354c4-6c60-4544-b577-a15bb05048df",
   "metadata": {},
   "source": [
    "The mean is the average where the sum of all the numbers is divided by the total number of numbers, whereas the median is the middle value in the list of given numbers numerically ordered from smallest to biggest and mode is the value of the number which occurs most often in the list.\n",
    "The mean (average) of a data set is found by adding all numbers in the data set and then dividing by the number of values in the set.\n",
    "The median is the middle value when a data set is ordered from least to greatest. \n",
    "The mode is the number that occurs most often in a data se\n",
    "The central tendency can be found using the formulas of mean, median or mode in most of the cases. As we know, mean is the average of a given data set, median is the middlemost data value and the mode represents the most frequently occurring data value in the set."
   ]
  },
  {
   "cell_type": "markdown",
   "id": "65778f99-988d-438e-9a0c-4e8ac9591b20",
   "metadata": {},
   "source": [
    "## Q3. Measure the three measures of central tendency for the given height data:\n",
    "[178,177,176,177,178.2,178,175,179,180,175,178.9,176.2,177,172.5,178,176.5]"
   ]
  },
  {
   "cell_type": "code",
   "execution_count": 1,
   "id": "21507880-fa8e-40cd-8f92-08a32a884dda",
   "metadata": {},
   "outputs": [],
   "source": [
    "import numpy as np \n",
    "height = [178,177,176,177,178.2,178,175,179,180,175,178.9,176.2,177,172.5,178,176.5]\n"
   ]
  },
  {
   "cell_type": "code",
   "execution_count": 4,
   "id": "678878db-b9da-4c6d-b715-b1d344bafd7a",
   "metadata": {},
   "outputs": [
    {
     "name": "stdout",
     "output_type": "stream",
     "text": [
      "Mean of given data is  177.01875\n",
      "median of given data is  177.0\n",
      "Mode of given data is  ModeResult(mode=array([177.]), count=array([3]))\n"
     ]
    },
    {
     "name": "stderr",
     "output_type": "stream",
     "text": [
      "/tmp/ipykernel_84/905677989.py:8: FutureWarning: Unlike other reduction functions (e.g. `skew`, `kurtosis`), the default behavior of `mode` typically preserves the axis it acts along. In SciPy 1.11.0, this behavior will change: the default value of `keepdims` will become False, the `axis` over which the statistic is taken will be eliminated, and the value None will no longer be accepted. Set `keepdims` to True or False to avoid this warning.\n",
      "  mode = stats.mode(height)\n"
     ]
    }
   ],
   "source": [
    "mean = np.mean(height)\n",
    "print(\"Mean of given data is \", mean)\n",
    "\n",
    "median = np.median(height)\n",
    "print(\"median of given data is \", median)\n",
    "\n",
    "from scipy import stats\n",
    "mode = stats.mode(height)\n",
    "print(\"Mode of given data is \", mode)\n"
   ]
  },
  {
   "cell_type": "markdown",
   "id": "0e7fdf61-aa09-4f50-b944-f3b6208f5b6e",
   "metadata": {},
   "source": [
    "## Q4. Find the standard deviation for the given data:\n",
    "[178,177,176,177,178.2,178,175,179,180,175,178.9,176.2,177,172.5,178,176.5]"
   ]
  },
  {
   "cell_type": "code",
   "execution_count": 6,
   "id": "0d6b047c-3514-4602-927e-e5f5745bc11f",
   "metadata": {},
   "outputs": [
    {
     "data": {
      "text/plain": [
       "1.7885814036548633"
      ]
     },
     "execution_count": 6,
     "metadata": {},
     "output_type": "execute_result"
    }
   ],
   "source": [
    "data = [178,177,176,177,178.2,178,175,179,180,175,178.9,176.2,177,172.5,178,176.5]\n",
    "std = np.std(data)\n",
    "std"
   ]
  },
  {
   "cell_type": "markdown",
   "id": "5eb2f409-5ba6-40f1-b6c6-c0d8b5228e67",
   "metadata": {},
   "source": [
    "## Q5. How are measures of dispersion such as range, variance, and standard deviation used to describe the spread of a dataset? Provide an example."
   ]
  },
  {
   "cell_type": "markdown",
   "id": "d051377a-d956-4500-8e17-e380877cd3f5",
   "metadata": {},
   "source": [
    "Measures of dispersion such as range, variance, and standard deviation are used to describe the spread of a dataset, that is, how much the data values vary from each other and from the center of the distribution. These measures help to understand the variability, consistency, or uncertainty of the data.\n",
    "\n",
    "For example, suppose we have a dataset of 10 students’ scores in a math test: {50, 60, 65, 70, 75, 80, 85, 90, 95, 100}. The mean (average) score is 77. The range is the difference between the maximum and minimum values, which is 100 - 50 = 50. The variance is the average squared deviation from the mean, which is calculated as follows:\n",
    "\n",
    "Variance = [(50 - 77)^2 + (60 - 77)^2 + … + (100 - 77)^2] / 10 Variance = [729 + 289 + … + 529] / 10 Variance = 208.5\n",
    "\n",
    "The standard deviation is the square root of the variance, which is about 14.44. The standard deviation measures how much the data values are dispersed around the mean. A smaller standard deviation means the data values are closer to the mean, while a larger standard deviation means the data values are more spread out.\n",
    "\n"
   ]
  },
  {
   "cell_type": "markdown",
   "id": "f22fd1e7-d7e2-4d88-88d2-90ac06b4c90e",
   "metadata": {},
   "source": [
    "## Q6. What is a Venn diagram?"
   ]
  },
  {
   "cell_type": "markdown",
   "id": "fbba135b-e420-4f5a-bef0-1986cbb6e882",
   "metadata": {},
   "source": [
    "A Venn diagram is an illustration that uses circles to show the relationships among things or finite groups of things. \n",
    "Circles that overlap have a commonality while circles that do not overlap do not share those traits.\n",
    "A Venn diagram uses circles that overlap or don't overlap to show the commonalities and differences among things or groups of things.\n",
    "Things that have commonalities are shown as overlapping circles while things that are distinct stand alone.\n",
    "Venn diagrams are now used as illustrations in business and in many academic fields.\n",
    "Venn diagrams help to visually represent the similarities and differences between two concepts. \n",
    "They have long been recognized for their usefulness as educational tools.\n",
    "Since the mid-20th century, Venn diagrams have been used as part of the introductory logic curriculum and in elementary-level educational plans around the world."
   ]
  },
  {
   "cell_type": "markdown",
   "id": "146403b0-44ff-4cf9-986a-4703bedeacdb",
   "metadata": {},
   "source": [
    "## Q7. For the two given sets A = (2,3,4,5,6,7) & B = (0,2,6,8,10). Find: (i) A B (ii) A ⋃ B"
   ]
  },
  {
   "cell_type": "markdown",
   "id": "748e4b37-5da0-4654-b7f1-ec602c7528e6",
   "metadata": {},
   "source": [
    "A = (2,3,4,5,6,7) \n",
    "B = (0,2,6,8,10)\n",
    "1. A Intersection B =(2,6) \n",
    "2. A ⋃ B = (0,2,3,4,5,6,7,8,10)"
   ]
  },
  {
   "cell_type": "markdown",
   "id": "b26b8b89-189c-49c9-a023-af1101e32304",
   "metadata": {},
   "source": [
    "## Q8. What do you understand about skewness in data?"
   ]
  },
  {
   "cell_type": "markdown",
   "id": "79b9b83c-e2cc-4a6c-9dd7-c9a41fa200ca",
   "metadata": {},
   "source": [
    "Skewness in data is a measure of how much the data distribution deviates from a normal or symmetrical distribution. A normal distribution is one that has no skewness, meaning that the data values are evenly spread around the mean. A skewed distribution is one that has a long tail on one side of the mean, indicating that there are more extreme values on that side. Skewness can be positive or negative, depending on the direction of the tail.\n",
    "\n",
    "Positive skewness means that the data distribution has a long tail on the right side of the mean, indicating that there are more high values than low values. For example, the income distribution of a country might be positively skewed, as there are a few very rich people and many poor people. The mean income would be higher than the median income, as the mean is influenced by the outliers.\n",
    "\n",
    "Negative skewness means that the data distribution has a long tail on the left side of the mean, indicating that there are more low values than high values. For example, the age distribution of a population might be negatively skewed, as there are many young people and few old people. The mean age would be lower than the median age, as the mean is dragged down by the outliers.\n",
    "\n",
    "Skewness is important to understand because it affects how we interpret and analyze data. Skewness can affect the measures of central tendency (mean, median, mode) and dispersion (range, variance, standard deviation) of a data set. Skewness can also indicate whether a data set follows a normal distribution or not, which is an assumption for many statistical tests and models."
   ]
  },
  {
   "cell_type": "markdown",
   "id": "37d0f1d7-9aac-4ef2-a329-ba6f61d2d6f4",
   "metadata": {},
   "source": [
    "## Q9. If a data is right skewed then what will be the position of median with respect to mean?"
   ]
  },
  {
   "cell_type": "markdown",
   "id": "0a3ed74e-0cf5-4055-bbb9-584d800185cf",
   "metadata": {},
   "source": [
    "If a data is right skewed, then the position of the median with respect to the mean is usually less than the mean. \n",
    "This is because the median is the middle value of the data, while the mean is influenced by the extreme values on the right tail of the distribution. The mean tends to be pulled towards the right by the outliers, while the median is more resistant to them.\n",
    "Therefore, the mean is usually greater than the median in a right skewed data."
   ]
  },
  {
   "cell_type": "markdown",
   "id": "91303f66-8e08-4b92-ba56-028edcdaadb0",
   "metadata": {},
   "source": [
    "## Q10. Explain the difference between covariance and correlation. How are these measures used in statistical analysis?"
   ]
  },
  {
   "cell_type": "markdown",
   "id": "abf515bf-4085-4f48-851c-7712ee0b8eb3",
   "metadata": {},
   "source": [
    "Both covariance and correlation measure the relationship and the dependency between two variables. \n",
    "Covariance indicates the direction of the linear relationship between variables. \n",
    "Correlation measures both the strength and direction of the linear relationship between two variables.\n",
    "Variance measures the spread between all data points in a dataset. Covariance finds whether two data points are directly or inversely proportional. \n",
    "Correlation finds the direction of the relationship along with the degree of the relationship"
   ]
  },
  {
   "cell_type": "markdown",
   "id": "7ca10145-da9c-45b2-8cc1-cc50983ac7bc",
   "metadata": {},
   "source": [
    "## Q11. What is the formula for calculating the sample mean? Provide an example calculation for a dataset."
   ]
  },
  {
   "cell_type": "markdown",
   "id": "b72428db-81a4-413c-9af7-600ac24e9daf",
   "metadata": {},
   "source": [
    "The sample mean formula is used to calculate the average value of the given sample data.\n",
    "It is necessary sometimes to calculate the average of the sample terms rather than expressing them with actual terms.\n",
    "The sample mean formula can be expressed as the ratio of the sum of terms to the number of terms. \n",
    "\n",
    "\n",
    "Sample Mean = (Sum of terms) ÷ (Number of Terms) =\n",
    "∑xi / n\n",
    "\n",
    "\n",
    "Find the sample mean of 60, 57, 109, 50.\n",
    "\n",
    "Solution: \n",
    "\n",
    "To find: Sample mean\n",
    "Sum of terms = 60 + 57 + 109 + 50 = 276\n",
    "Number of terms = 4\n",
    "Using sample mean formula,\n",
    "mean = (sum of terms)/(number of terms)\n",
    "mean = 276/4 = 69"
   ]
  },
  {
   "cell_type": "markdown",
   "id": "73f75fc4-f0b2-487f-b604-6da71e7c3752",
   "metadata": {},
   "source": [
    "## Q12. For a normal distribution data what is the relationship between its measure of central tendency?"
   ]
  },
  {
   "cell_type": "markdown",
   "id": "84e2b0ec-69e8-49c6-82e7-23ceb482a67a",
   "metadata": {},
   "source": [
    "When you have a normally distributed sample you can legitimately use both the mean or the median as your measure of central tendency.\n",
    "Mean = Median = Mode"
   ]
  },
  {
   "cell_type": "markdown",
   "id": "95f4e994-1ca4-4602-90f1-0f0f58cb7cc7",
   "metadata": {},
   "source": [
    "## Q13. How is covariance different from correlation?"
   ]
  },
  {
   "cell_type": "markdown",
   "id": "da877270-ef14-4e88-be55-c39ef26a1398",
   "metadata": {},
   "source": [
    "Covariance reveals how two variables change together while correlation determines how closely two variables are related to each other.\n",
    "\n",
    "Both covariance and correlation measure the relationship and the dependency between two variables.\n",
    "Covariance indicates the direction of the linear relationship between variables.\n",
    "Correlation measures both the strength and direction of the linear relationship between two variables.\n",
    "Correlation values are standardized.\n",
    "Covariance values are not standardized."
   ]
  },
  {
   "cell_type": "markdown",
   "id": "bc6ab530-6492-4d52-85ef-cf4e27641611",
   "metadata": {},
   "source": [
    "## Q14. How do outliers affect measures of central tendency and dispersion? Provide an example."
   ]
  },
  {
   "cell_type": "markdown",
   "id": "54f51b4c-2c57-4a80-b194-c7d7df7a99ab",
   "metadata": {},
   "source": [
    "Outliers are numbers in a data set that are vastly larger or smaller than the other values in the set.\n",
    "Mean, median and mode are measures of central tendency. \n",
    "Mean is the only measure of central tendency that is always affected by an outlier."
   ]
  },
  {
   "cell_type": "code",
   "execution_count": null,
   "id": "a41c8781-bfd8-4cca-b5a8-98ffc598e045",
   "metadata": {},
   "outputs": [],
   "source": []
  }
 ],
 "metadata": {
  "kernelspec": {
   "display_name": "Python 3 (ipykernel)",
   "language": "python",
   "name": "python3"
  },
  "language_info": {
   "codemirror_mode": {
    "name": "ipython",
    "version": 3
   },
   "file_extension": ".py",
   "mimetype": "text/x-python",
   "name": "python",
   "nbconvert_exporter": "python",
   "pygments_lexer": "ipython3",
   "version": "3.10.8"
  }
 },
 "nbformat": 4,
 "nbformat_minor": 5
}
