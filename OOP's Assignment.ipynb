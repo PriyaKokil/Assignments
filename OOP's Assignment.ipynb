{
 "cells": [
  {
   "cell_type": "markdown",
   "id": "461d0433-a1a8-4224-91e4-3f583a036db7",
   "metadata": {},
   "source": [
    "## Q1. Explain Class and Object with respect to Object-Oriented Programming. Give a suitable example."
   ]
  },
  {
   "cell_type": "markdown",
   "id": "2ede1a53-1d67-45f6-a739-3e0406bc4366",
   "metadata": {},
   "source": [
    "# class - \n",
    "A class is considered as a blueprint of objects. \n",
    "To create a class, use the keyword class:\n",
    "\n",
    "    \n",
    "# Object - \n",
    "An object is an instance of a class which has those properties and behaviours attached. \n",
    "    \n",
    "Let suppose we have class Person and it is having objects suvh as name , age , id "
   ]
  },
  {
   "cell_type": "code",
   "execution_count": 19,
   "id": "d955439e-7549-409c-b15d-fb4b01083e02",
   "metadata": {},
   "outputs": [],
   "source": [
    "class person :\n",
    "    \n",
    "    def __init__(self, name , age , id):\n",
    "        self.name = name \n",
    "        self.age = age\n",
    "        self.id = id\n",
    "        \n",
    "p = person(\"Priya \", 20 , 12345)\n",
    "       "
   ]
  },
  {
   "cell_type": "code",
   "execution_count": 20,
   "id": "52b54899-369c-4c62-aa34-daa924ab8489",
   "metadata": {},
   "outputs": [
    {
     "data": {
      "text/plain": [
       "'Priya '"
      ]
     },
     "execution_count": 20,
     "metadata": {},
     "output_type": "execute_result"
    }
   ],
   "source": [
    "p.name"
   ]
  },
  {
   "cell_type": "code",
   "execution_count": 21,
   "id": "19e891d6-7dcf-48d6-9154-9096702dfd97",
   "metadata": {},
   "outputs": [
    {
     "data": {
      "text/plain": [
       "20"
      ]
     },
     "execution_count": 21,
     "metadata": {},
     "output_type": "execute_result"
    }
   ],
   "source": [
    "p.age"
   ]
  },
  {
   "cell_type": "markdown",
   "id": "b7defa91-5e8b-4106-a7a4-58a770bf5913",
   "metadata": {},
   "source": [
    "## Q2. Name the four pillars of OOPs."
   ]
  },
  {
   "cell_type": "markdown",
   "id": "c84187ce-7629-4605-9cf4-3ac2c47b5561",
   "metadata": {},
   "source": [
    "## The Four Pillars of Object Oriented Programming\n",
    "1. Abstraction.\n",
    "2. Encapsulation.\n",
    "3. Inheritance.\n",
    "4. Polymorphism.\n"
   ]
  },
  {
   "cell_type": "markdown",
   "id": "42764988-d669-48fe-bc1e-5c34a62c793f",
   "metadata": {},
   "source": [
    "## Q3. Explain why the __init__() function is used. Give a suitable example."
   ]
  },
  {
   "cell_type": "markdown",
   "id": "c8dc5051-6a0a-40e8-9f08-5c8183db69f2",
   "metadata": {},
   "source": [
    "1. __init__ is a special python method that runs whenever a new object is created. \n",
    "2. It is only used within classes.\n",
    "3. While giving the definition for an __init__(self) method, a default parameter, named 'self' is always passed in its argument. "
   ]
  },
  {
   "cell_type": "code",
   "execution_count": 23,
   "id": "a2561f97-d4ea-48d1-ab31-2ee246888d3a",
   "metadata": {},
   "outputs": [],
   "source": [
    "class Student:  \n",
    "    def __init__ (self, name, age, email):  \n",
    "        self. name = name  \n",
    "        self. age = age  \n",
    "        self. email = email  \n",
    "        \n",
    "st1 = Student(\"Priya \", 20 , \"priya@gmail.com\")        \n",
    "        "
   ]
  },
  {
   "cell_type": "code",
   "execution_count": 24,
   "id": "f3a97b38-a193-40f9-82ce-40aa126a3c7c",
   "metadata": {},
   "outputs": [
    {
     "data": {
      "text/plain": [
       "'Priya '"
      ]
     },
     "execution_count": 24,
     "metadata": {},
     "output_type": "execute_result"
    }
   ],
   "source": [
    "st1.name"
   ]
  },
  {
   "cell_type": "code",
   "execution_count": 25,
   "id": "d570f2cc-0ef1-4d70-ab09-52668b095727",
   "metadata": {},
   "outputs": [
    {
     "data": {
      "text/plain": [
       "20"
      ]
     },
     "execution_count": 25,
     "metadata": {},
     "output_type": "execute_result"
    }
   ],
   "source": [
    "st1.age"
   ]
  },
  {
   "cell_type": "code",
   "execution_count": 26,
   "id": "28b4b3db-c441-410e-bcc1-e6938b60ff11",
   "metadata": {},
   "outputs": [
    {
     "data": {
      "text/plain": [
       "'priya@gmail.com'"
      ]
     },
     "execution_count": 26,
     "metadata": {},
     "output_type": "execute_result"
    }
   ],
   "source": [
    "st1.email"
   ]
  },
  {
   "cell_type": "markdown",
   "id": "74e1731b-7c81-48b6-a72e-0cc69a2bbb43",
   "metadata": {},
   "source": [
    "## Q4. Why self is used in OOPs?"
   ]
  },
  {
   "cell_type": "markdown",
   "id": "7f5fa929-4982-45b8-829e-fa11683d0cfd",
   "metadata": {},
   "source": [
    "1. self represents the instance of the class.\n",
    "2. By using the “self” we can access the attributes and methods of the class in python. \n",
    "3. It binds the attributes with the given arguments. \n",
    "4. self parameter is a reference to the current instance of the class\n",
    "5. It does not have to be named self , you can call it whatever you like, but it has to be the first parameter of any function in the class:"
   ]
  },
  {
   "cell_type": "markdown",
   "id": "48f5577a-6fda-4746-9077-5685a2e52b60",
   "metadata": {},
   "source": [
    "## Q5. What is inheritance? Give an example for each type of inheritance."
   ]
  },
  {
   "cell_type": "markdown",
   "id": "5703d947-db67-4f71-9051-07cae8a6c620",
   "metadata": {},
   "source": [
    "Inheritance is a mechanism in which one class acquires the property of another class.\n",
    "For example, a child inherits the traits of his/her parents.\n",
    "With inheritance, we can reuse the fields and methods of the existing class.\n",
    "Hence, inheritance facilitates Reusability and is an important concept of OOPs.\n",
    "\n",
    "## Types of inheritance \n",
    "\n",
    "1. Simple inheritance\n",
    "2. Multilevel inheritance\n",
    "3. Multiple inheritance\n",
    "4. Hierarchical inheritance\n",
    "5. Hybrid inheritance"
   ]
  },
  {
   "cell_type": "code",
   "execution_count": 29,
   "id": "e011dd05-89a4-4a4a-87f2-47034041f870",
   "metadata": {},
   "outputs": [
    {
     "name": "stdout",
     "output_type": "stream",
     "text": [
      "This function is in parent class.\n",
      "This function is in child class.\n"
     ]
    }
   ],
   "source": [
    "# Simple Ineritance \n",
    "\n",
    "class Parent:\n",
    "    def func1(self):\n",
    "        print(\"This function is in parent class.\")\n",
    "\n",
    "class Child(Parent):\n",
    "    def func2(self):\n",
    "        print(\"This function is in child class.\")\n",
    "\n",
    "object = Child()\n",
    "object.func1()\n",
    "object.func2()"
   ]
  },
  {
   "cell_type": "code",
   "execution_count": 31,
   "id": "c1c56857-e099-4ccf-bdb5-f7066a248478",
   "metadata": {},
   "outputs": [
    {
     "name": "stdout",
     "output_type": "stream",
     "text": [
      "Father : RAM\n",
      "Mother : SITA\n"
     ]
    }
   ],
   "source": [
    "# Multiple Inheritance\n",
    "\n",
    "class Mother:\n",
    "    mothername = \"\"\n",
    " \n",
    "    def mother(self):\n",
    "        print(self.mothername)\n",
    "        \n",
    "class Father:\n",
    "    fathername = \"\"\n",
    " \n",
    "    def father(self):\n",
    "        print(self.fathername)\n",
    "\n",
    "class Son(Mother, Father):\n",
    "    def parents(self):\n",
    "        print(\"Father :\", self.fathername)\n",
    "        print(\"Mother :\", self.mothername)\n",
    "s1 = Son()\n",
    "s1.fathername = \"RAM\"\n",
    "s1.mothername = \"SITA\"\n",
    "s1.parents()"
   ]
  },
  {
   "cell_type": "code",
   "execution_count": 32,
   "id": "a1ec3e51-70ab-47ac-961d-915d265d5af4",
   "metadata": {},
   "outputs": [
    {
     "name": "stdout",
     "output_type": "stream",
     "text": [
      "This is class 2\n",
      "This is class 3\n"
     ]
    }
   ],
   "source": [
    "# Multilevel Inheritance \n",
    "\n",
    "class class1:\n",
    "    def test_class1(self):\n",
    "        print(\"This is class 1\")\n",
    "        \n",
    "class class2(class1):\n",
    "    def test_class2(self):\n",
    "        print(\"This is class 2\")    \n",
    "        \n",
    "class class3(class2):\n",
    "    def test_class3(self):\n",
    "        print(\"This is class 3\") \n",
    "        \n",
    "obj_class3 = class3()\n",
    "obj_class3.test_class2()\n",
    "obj_class3.test_class3()"
   ]
  },
  {
   "cell_type": "code",
   "execution_count": 33,
   "id": "3435598f-1b6e-4fd3-95ec-d76f5ae42cf1",
   "metadata": {},
   "outputs": [
    {
     "name": "stdout",
     "output_type": "stream",
     "text": [
      "This function is in parent class.\n",
      "This function is in child 1.\n",
      "This function is in parent class.\n",
      "This function is in child 2.\n"
     ]
    }
   ],
   "source": [
    "# Hierarchical inheritance\n",
    "\n",
    "class Parent:\n",
    "    def func1(self):\n",
    "        print(\"This function is in parent class.\")\n",
    "class Child1(Parent):\n",
    "    def func2(self):\n",
    "        print(\"This function is in child 1.\")\n",
    "class Child2(Parent):\n",
    "    def func3(self):\n",
    "        print(\"This function is in child 2.\")\n",
    " \n",
    " \n",
    "\n",
    "object1 = Child1()\n",
    "object2 = Child2()\n",
    "object1.func1()\n",
    "object1.func2()\n",
    "object2.func1()\n",
    "object2.func3()"
   ]
  },
  {
   "cell_type": "code",
   "execution_count": null,
   "id": "123be627-985f-4a6c-b18c-d55c922dc7be",
   "metadata": {},
   "outputs": [],
   "source": [
    "# hybrid inheritance\n",
    " \n",
    "class School:\n",
    "    def func1(self):\n",
    "        print(\"This function is in school.\")\n",
    " \n",
    " class Student1(School):\n",
    "    def func2(self):\n",
    "        print(\"This function is in student 1. \")\n",
    " \n",
    " class Student2(School):\n",
    "    def func3(self):\n",
    "        print(\"This function is in student 2.\")\n",
    " \n",
    " class Student3(Student1, School):\n",
    "    def func4(self):\n",
    "        print(\"This function is in student 3.\")\n",
    " \n",
    "object = Student3()\n",
    "object.func1()\n",
    "object.func2()"
   ]
  }
 ],
 "metadata": {
  "kernelspec": {
   "display_name": "Python 3 (ipykernel)",
   "language": "python",
   "name": "python3"
  },
  "language_info": {
   "codemirror_mode": {
    "name": "ipython",
    "version": 3
   },
   "file_extension": ".py",
   "mimetype": "text/x-python",
   "name": "python",
   "nbconvert_exporter": "python",
   "pygments_lexer": "ipython3",
   "version": "3.10.8"
  }
 },
 "nbformat": 4,
 "nbformat_minor": 5
}
