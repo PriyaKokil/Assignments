{
 "cells": [
  {
   "cell_type": "markdown",
   "id": "845cef92-712b-4f38-a229-84efd13b2cc0",
   "metadata": {},
   "source": [
    "## Q.1 What is multithreading in python? why is it used? Name the module used to handle threads in python"
   ]
  },
  {
   "cell_type": "markdown",
   "id": "93d65843-7d62-4736-9221-7eec890155ed",
   "metadata": {},
   "source": [
    "1. Multithreading is defined as the ability of a processor to execute multiple threads concurrently.\n",
    "2. It is is a CPU feature that allows two or more instruction threads to execute independently while sharing the same process resources.\n",
    "3. multithreading enables efficient utilization of the resources as the threads share the data space and memory. \n",
    "4. It causes a reduction in time consumption or response time, thereby increasing the performance.\n",
    "5. Module used in multithreading - threading module is used for creating, controlling and managing threads in python."
   ]
  },
  {
   "cell_type": "markdown",
   "id": "d3b0c1d4-4e01-49e5-aec5-0e28a6157355",
   "metadata": {},
   "source": [
    "## Q.2 Why threading module used? Write the use of the following functions\n",
    "1. activeCount()\n",
    "2. currentThread()\n",
    "3. enumerate()"
   ]
  },
  {
   "cell_type": "markdown",
   "id": "819fe762-6924-4f93-9e49-9b7ffd64bd24",
   "metadata": {},
   "source": [
    "# Use of Threading module\n",
    "1. Threading module allows you to have different parts of your program run concurrently and can simplify your design. \n",
    "2. Threads can be used to break up a task into smaller units that can be executed concurrently.\n",
    "\n",
    "# 1.activecount() \n",
    "Return a list of all Thread objects currently active. The list includes daemonic threads and dummy thread objects created by current_thread(). \n",
    "Return the number of Thread objects currently alive. The returned count is equal to the length of the list returned by enumerate().\n",
    "\n",
    "# 2. currentThread() \n",
    "Return the current Thread object, corresponding to the caller’s thread of control. \n",
    "If the caller’s thread of control was not created through the threading module, a dummy thread object with limited functionality is returned.\n",
    "\n",
    "# 3.enumerate()\n",
    "Return a list of all Thread objects currently active. The list includes daemonic threads and dummy thread objects created by current_thread(). "
   ]
  },
  {
   "cell_type": "markdown",
   "id": "6dd0a228-b913-4a33-a1ff-79639c9524e2",
   "metadata": {},
   "source": [
    "# Q.3. Explain the following functions\n",
    "1. run\n",
    "2. start\n",
    "3. join\n",
    "4. isAlive"
   ]
  },
  {
   "cell_type": "markdown",
   "id": "e37f16b5-6539-4437-928a-1705eb43ac52",
   "metadata": {},
   "source": [
    "1. run() - The run() method is the entry point for a thread.\n",
    "2. start() − The start() method starts a thread by calling the run method.\n",
    "3. join() -  The join() waits for threads to terminate.\n",
    "4. isAlive() - The isAlive() method checks whether a thread is still executing."
   ]
  },
  {
   "cell_type": "markdown",
   "id": "77decc84-280f-4768-9749-d8b587c4af60",
   "metadata": {},
   "source": [
    "# Q.4. Write a python program to create two threads. Thread one must print the list of squares and thread two must print the list of cubes"
   ]
  },
  {
   "cell_type": "code",
   "execution_count": 7,
   "id": "ad4b10ec-919c-44e0-940b-79e0a3333fcf",
   "metadata": {},
   "outputs": [],
   "source": [
    "import threading"
   ]
  },
  {
   "cell_type": "code",
   "execution_count": 19,
   "id": "19e25f7a-4d1c-4427-9cc8-2b9d4ffeba65",
   "metadata": {},
   "outputs": [
    {
     "name": "stdout",
     "output_type": "stream",
     "text": [
      "4\n",
      "9\n",
      "16\n",
      "25\n",
      "36\n",
      "8\n",
      "27\n",
      "64\n",
      "125\n",
      "216\n"
     ]
    }
   ],
   "source": [
    "def square(numbers):\n",
    "    for num in numbers:\n",
    "        print(num**2)\n",
    "    \n",
    "\n",
    "def cube(numbers):\n",
    "    for num in numbers:\n",
    "        print(num**3)\n",
    "        \n",
    "        \n",
    "if __name__ == \"__main__\":\n",
    "    numbers = [2,3,4,5,6]\n",
    "    \n",
    "Thread1 = threading.Thread(target = square , args =(numbers,))    \n",
    "Thread2 = threading.Thread(target = cube , args =(numbers,))    \n",
    "\n",
    "Thread1.start()\n",
    "Thread2.start()\n",
    "\n",
    "Thread1.join()\n",
    "Thread2.join()"
   ]
  },
  {
   "cell_type": "markdown",
   "id": "2071ad1e-3e6b-47f5-9ec7-f0c2dd71dd2d",
   "metadata": {},
   "source": [
    "# Q.5. State advantages and disadvantages of multithreading"
   ]
  },
  {
   "cell_type": "markdown",
   "id": "62d01a10-dec7-4bf0-a365-a60ca8bb6368",
   "metadata": {},
   "source": [
    "## Advantages\n",
    "\n",
    "1.Enhanced performance by decreased development time\n",
    "2.Simplified and streamlined program coding\n",
    "3.Improvised GUI responsiveness\n",
    "4.Simultaneous and parallelized occurrence of tasks\n",
    "5.Better use of cache storage by utilization of resources\n",
    "6.Decreased cost of maintenance\n",
    "7.Better use of CPU resource\n",
    "\n",
    "##  Disadvantages'\n",
    "1.Complex debugging and testing processes\n",
    "2.Overhead switching of context\n",
    "3.Increased potential for deadlock occurrence\n",
    "4.Increased difficulty level in writing a program\n",
    "5.Unpredictable results"
   ]
  },
  {
   "cell_type": "markdown",
   "id": "f99f32eb-6579-488d-8223-a3a3f5f29879",
   "metadata": {},
   "source": [
    "# Q.6. Explain deadlocks and race conditions."
   ]
  },
  {
   "cell_type": "markdown",
   "id": "a70c3103-83ef-48f8-9a78-e92e8162079f",
   "metadata": {},
   "source": [
    "## Deadlocks -\n",
    "A deadlock is a concurrency failure mode where a thread or threads wait for a condition that never occurs. \n",
    "The result is that the deadlock threads are unable to progress and the program is stuck or frozen and must be terminated forcefully\n",
    "\n",
    "## Race conditions -\n",
    "A race condition occurs when two or more threads try to access a shared variable simultaneously, leading to unpredictable outcomes. \n",
    "In this scenario, the first thread reads the value from the shared variable. \n",
    "At the same time, the second thread also reads the value from the same shared variable."
   ]
  },
  {
   "cell_type": "code",
   "execution_count": null,
   "id": "1e762c54-0c6a-4188-93fa-4405cf6f72ec",
   "metadata": {},
   "outputs": [],
   "source": []
  }
 ],
 "metadata": {
  "kernelspec": {
   "display_name": "Python 3 (ipykernel)",
   "language": "python",
   "name": "python3"
  },
  "language_info": {
   "codemirror_mode": {
    "name": "ipython",
    "version": 3
   },
   "file_extension": ".py",
   "mimetype": "text/x-python",
   "name": "python",
   "nbconvert_exporter": "python",
   "pygments_lexer": "ipython3",
   "version": "3.10.8"
  }
 },
 "nbformat": 4,
 "nbformat_minor": 5
}
