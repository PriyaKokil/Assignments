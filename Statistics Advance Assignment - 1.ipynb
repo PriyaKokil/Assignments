{
 "cells": [
  {
   "cell_type": "markdown",
   "id": "37298cb9-740c-4ea8-8d40-b92fa3710ebf",
   "metadata": {},
   "source": [
    "## Q1. What is the Probability density function? \n",
    " \n",
    "The Probability Density Function (PDF) is a function that describes the likelihood of a continuous random variable taking on a specific value. For a continuous random variable \n",
    "𝑋\n",
    "X, the PDF, denoted as \n",
    "𝑓\n",
    "(\n",
    "𝑥\n",
    ")\n",
    "f(x), gives the probability of \n",
    "𝑋\n",
    "X being in a small interval around a particular value \n",
    "𝑥\n",
    "x. Mathematically, it satisfies the following properties:\n",
    "\n",
    "The PDF is non-negative for all possible values of the random variable.\n",
    "The total area under the PDF curve over the entire range of possible values is equal to 1.\n",
    "The PDF is used to characterize the distribution of continuous random variables, such as the normal distribution, exponential distribution, and others.\n",
    "\n",
    "\n",
    "\n",
    "\n"
   ]
  },
  {
   "cell_type": "markdown",
   "id": "d15c10c3-4364-435f-88bd-0e74f601ef37",
   "metadata": {},
   "source": [
    "## Q2. What are the types of Probability distribution?\n",
    "\n",
    "There are several types of probability distributions, including:\n",
    "\n",
    "Normal Distribution: Also known as the Gaussian distribution, it is characterized by a symmetric bell-shaped curve. Many natural phenomena follow this distribution.\n",
    "Binomial Distribution: It represents the number of successes in a fixed number of independent Bernoulli trials, where each trial has a constant probability of success.\n",
    "Poisson Distribution: It models the number of events occurring in a fixed interval of time or space, given a constant rate of occurrence and independence between events.\n",
    "Exponential Distribution: It describes the time between events in a Poisson process, where events occur continuously and independently at a constant average rate.\n",
    "Uniform Distribution: It has constant probability over a fixed interval and is often used to model situations where all outcomes are equally likely.\n",
    "Gamma Distribution: It generalizes the exponential distribution and is used to model waiting times or the sum of exponential random variables.\n",
    "Beta Distribution: It is a family of continuous probability distributions defined on the interval [0, 1] and is often used to model proportions or probabilities.\n",
    "Lognormal Distribution: It is characterized by a normally distributed logarithm and is often used to model skewed data, such as stock prices or income.\n",
    "Chi-Squared Distribution: It arises in the context of testing hypotheses and is the distribution of the sum of squared standard normal deviates.\n",
    "Student's t-Distribution: It is used in hypothesis testing when the sample size is small or the population variance is unknown."
   ]
  },
  {
   "cell_type": "markdown",
   "id": "200fed90-dd16-4e6f-8820-e4f41f28cdb9",
   "metadata": {},
   "source": [
    "## Q3. Write a Python function to calculate the probability density function of a normal distribution with  given mean and standard deviation at a given point. "
   ]
  },
  {
   "cell_type": "code",
   "execution_count": 1,
   "id": "fc27d43f-200c-4373-8b5a-bf63b3cf0176",
   "metadata": {},
   "outputs": [
    {
     "name": "stdout",
     "output_type": "stream",
     "text": [
      "PDF at x = 1 : 0.24197072451914337\n"
     ]
    }
   ],
   "source": [
    "import numpy as np\n",
    "import scipy.stats as stats\n",
    "\n",
    "def normal_pdf(x, mean, std_dev):\n",
    "    \"\"\"\n",
    "    Calculate the probability density function (PDF) of a normal distribution\n",
    "    at a given point.\n",
    "\n",
    "    Parameters:\n",
    "    x (float): The point at which to evaluate the PDF.\n",
    "    mean (float): The mean of the normal distribution.\n",
    "    std_dev (float): The standard deviation of the normal distribution.\n",
    "\n",
    "    Returns:\n",
    "    float: The value of the PDF at the given point.\n",
    "    \"\"\"\n",
    "    pdf_value = stats.norm.pdf(x, loc=mean, scale=std_dev)\n",
    "    return pdf_value\n",
    "\n",
    "# Example usage:\n",
    "mean = 0\n",
    "std_dev = 1\n",
    "x = 1\n",
    "pdf_value = normal_pdf(x, mean, std_dev)\n",
    "print(\"PDF at x =\", x, \":\", pdf_value)"
   ]
  },
  {
   "cell_type": "markdown",
   "id": "fe4c7a7e-07a4-4af3-bbfc-efabb15f4602",
   "metadata": {},
   "source": [
    "## Q4. What are the properties of Binomial distribution? Give two examples of events where binomial  distribution can be applied. \n"
   ]
  },
  {
   "cell_type": "raw",
   "id": "5a84b3f6-d142-49a7-afbc-2d5dc8e7b05a",
   "metadata": {},
   "source": [
    "\n",
    "# Properties of Binomial distribution:\n",
    "\n",
    "Fixed Number of Trials: The binomial distribution represents the number of successes in a fixed number of independent Bernoulli trials, where each trial has two possible outcomes (success or failure).\n",
    "Independent Trials: Each trial in a binomial experiment is independent of the others. The outcome of one trial does not affect the outcome of another trial.\n",
    "Constant Probability of Success: The probability of success (denoted as \n",
    "𝑝\n",
    "p) remains constant for each trial.\n",
    "Discrete Distribution: The binomial distribution is a discrete probability distribution, meaning that it only takes on integer values representing the number of successes.\n",
    "Examples of events where binomial distribution can be applied:\n",
    "\n",
    "Coin Flips: The number of heads obtained when flipping a fair coin multiple times follows a binomial distribution. Each flip is a Bernoulli trial with a probability of success (getting heads) equal to 0.5.\n",
    "Medical Trials: In a medical trial, the outcome of each patient receiving a treatment can be considered a success or failure (e.g., recovery or not). The number of patients who recover out of a fixed number of patients follows a binomial distribution if the probability of recovery is constant for each patient."
   ]
  },
  {
   "cell_type": "markdown",
   "id": "0c4f9b5b-c88e-4e80-b0f5-e5c0817dc383",
   "metadata": {},
   "source": [
    "## Q5. Generate a random sample of size 1000 from a binomial distribution with probability of success 0.4  and plot a histogram of the results using matplotlib. "
   ]
  },
  {
   "cell_type": "code",
   "execution_count": 10,
   "id": "7f2d2dd0-db20-4127-b417-102d285d3c19",
   "metadata": {},
   "outputs": [
    {
     "data": {
      "image/png": "[encoded data removed]",
      "text/plain": [
       "<Figure size 640x480 with 1 Axes>"
      ]
     },
     "metadata": {},
     "output_type": "display_data"
    }
   ],
   "source": [
    "import numpy as np\n",
    "import matplotlib.pyplot as plt\n",
    "\n",
    "# Generate random sample from binomial distribution\n",
    "n = 1000  # Sample size\n",
    "p = 0.4   # Probability of success\n",
    "binomial_sample = np.random.binomial(1, p, size=n)  # Generate binary outcomes (0 or 1)\n",
    "\n",
    "# Plot histogram\n",
    "plt.hist(binomial_sample, bins=2, color='blue', alpha=0.7)\n",
    "plt.xlabel('Outcome')\n",
    "plt.ylabel('Frequency')\n",
    "plt.title('Histogram of Binomial Distribution (n=1000, p=0.4)')\n",
    "plt.xticks([0, 1], ['Failure', 'Success'])\n",
    "plt.show()"
   ]
  },
  {
   "cell_type": "markdown",
   "id": "978a968e-e3c6-47cf-8239-96d9460d996d",
   "metadata": {},
   "source": [
    "## Q6. Write a Python function to calculate the cumulative distribution function of a Poisson distribution  with given mean at a given point. "
   ]
  },
  {
   "cell_type": "code",
   "execution_count": 11,
   "id": "29ae7700-6153-498c-a94c-30465cdaa184",
   "metadata": {},
   "outputs": [
    {
     "name": "stdout",
     "output_type": "stream",
     "text": [
      "CDF at x = 2 : 0.42319008112684364\n"
     ]
    }
   ],
   "source": [
    "import scipy.stats as stats\n",
    "\n",
    "def poisson_cdf(x, mean):\n",
    "    \"\"\"\n",
    "    Calculate the cumulative distribution function (CDF) of a Poisson distribution\n",
    "    at a given point.\n",
    "\n",
    "    Parameters:\n",
    "    x (int): The point at which to evaluate the CDF.\n",
    "    mean (float): The mean of the Poisson distribution.\n",
    "\n",
    "    Returns:\n",
    "    float: The value of the CDF at the given point.\n",
    "    \"\"\"\n",
    "    cdf_value = stats.poisson.cdf(x, mu=mean)\n",
    "    return cdf_value\n",
    "\n",
    "# Example usage:\n",
    "mean = 3\n",
    "x = 2\n",
    "cdf_value = poisson_cdf(x, mean)\n",
    "print(\"CDF at x =\", x, \":\", cdf_value)"
   ]
  },
  {
   "cell_type": "markdown",
   "id": "f092077a-2b79-4eec-bfd1-fa5ddfb75d9b",
   "metadata": {},
   "source": [
    "## Q7. How Binomial distribution different from Poisson distribution? "
   ]
  },
  {
   "cell_type": "raw",
   "id": "404ee98c-d796-4d5b-b18c-076701110592",
   "metadata": {},
   "source": [
    "Binomial distribution and Poisson distribution are both probability distributions used to model the number of events occurring in a fixed number of trials or a fixed interval of time or space, respectively. However, they have distinct characteristics and are used in different scenarios.\n",
    "\n",
    "Here are the key differences between Binomial distribution and Poisson distribution:\n",
    "\n",
    "Nature of Events:\n",
    "Binomial Distribution: It represents the number of successes in a fixed number of independent Bernoulli trials, where each trial has two possible outcomes (success or failure).\n",
    "Poisson Distribution: It models the number of events occurring in a fixed interval of time or space, given a constant rate of occurrence and independence between events.\n",
    "Number of Trials:\n",
    "Binomial Distribution: It is defined for a fixed number of trials (n).\n",
    "Poisson Distribution: It is used when the number of trials is large or unknown, and the probability of success in each trial is small."
   ]
  },
  {
   "cell_type": "markdown",
   "id": "8655343c-bec3-4743-9156-d7c1055262f8",
   "metadata": {},
   "source": [
    "## Q8. Generate a random sample of size 1000 from a Poisson distribution with mean 5 and calculate the  sample mean and variance. "
   ]
  },
  {
   "cell_type": "code",
   "execution_count": 13,
   "id": "b867371a-b18b-41f8-ad9b-a4bdd1eec06a",
   "metadata": {},
   "outputs": [
    {
     "name": "stdout",
     "output_type": "stream",
     "text": [
      "Sample Mean: 5.107\n",
      "Sample Variance: 5.141551\n"
     ]
    }
   ],
   "source": [
    "import numpy as np\n",
    "\n",
    "# Generate random sample from Poisson distribution\n",
    "mean = 5\n",
    "sample_size = 1000\n",
    "poisson_sample = np.random.poisson(mean, size=sample_size)\n",
    "\n",
    "# Calculate sample mean and variance\n",
    "sample_mean = np.mean(poisson_sample)\n",
    "sample_variance = np.var(poisson_sample)\n",
    "\n",
    "print(\"Sample Mean:\", sample_mean)\n",
    "print(\"Sample Variance:\", sample_variance)"
   ]
  },
  {
   "cell_type": "markdown",
   "id": "2a835755-9a34-4908-9fdb-e3b638adeec2",
   "metadata": {},
   "source": [
    "## Q9. How mean and variance are related in Binomial distribution and Poisson distribution?"
   ]
  },
  {
   "cell_type": "raw",
   "id": "4349b1f2-278a-4ab4-ba25-77b773f60906",
   "metadata": {},
   "source": [
    "In both distributions, the variance is proportional to the mean (\n",
    "𝜎2=𝜇σ 2 =μ) under certain conditions.\n",
    "However, in the Binomial distribution, the variance depends on both the number of trials and the probability of success, while in the Poisson distribution, the variance is solely determined by the rate parameter."
   ]
  },
  {
   "cell_type": "markdown",
   "id": "eb3c0956-7eb5-4f96-ace3-72ff1f0835cc",
   "metadata": {},
   "source": [
    "## Q10. In normal distribution with respect to mean position, where does the least frequent data appear? \n"
   ]
  },
  {
   "cell_type": "code",
   "execution_count": null,
   "id": "68d52dce-e66b-4685-8eaa-6dac8e42d8ca",
   "metadata": {},
   "outputs": [],
   "source": []
  }
 ],
 "metadata": {
  "kernelspec": {
   "display_name": "Python 3 (ipykernel)",
   "language": "python",
   "name": "python3"
  },
  "language_info": {
   "codemirror_mode": {
    "name": "ipython",
    "version": 3
   },
   "file_extension": ".py",
   "mimetype": "text/x-python",
   "name": "python",
   "nbconvert_exporter": "python",
   "pygments_lexer": "ipython3",
   "version": "3.10.8"
  }
 },
 "nbformat": 4,
 "nbformat_minor": 5
}
