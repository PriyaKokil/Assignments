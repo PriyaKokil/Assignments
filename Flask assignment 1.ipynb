{
 "cells": [
  {
   "cell_type": "markdown",
   "id": "1d1a4cb9-6db2-4de7-91ed-12b24a89a054",
   "metadata": {},
   "source": [
    "# Q1. What is Flask Framework? What are the advantages of Flask Framework?"
   ]
  },
  {
   "cell_type": "markdown",
   "id": "f6676d7f-9a4b-45e6-bbc8-ae0c452e149d",
   "metadata": {},
   "source": [
    "\n",
    "Flask is a web framework, it’s a Python module that lets you develop web applications easily. \n",
    "It’s has a small and easy-to-extend core: it’s a microframework that doesn’t include an ORM (Object Relational Manager) or such features.\n",
    "A Web Application Framework or a simply a Web Framework represents a collection of libraries and modules that enable web application developers to write applications without worrying about low-level details such as protocol, thread management, and so on.\n",
    "It does have many cool features like url routing, template engine. It is a WSGI web app framework.\n",
    "Flask is a web application framework written in Python. It was developed by Armin Ronacher, who led a team of international Python enthusiasts called Poocco. \n",
    "Flask is based on the Werkzeg WSGI toolkit and the Jinja2 template engine.Both are Pocco projects.\n",
    "\n",
    "## Advantages of Flask Framework\n",
    "1. Scalable\n",
    "Size is everything, and Flask’s status as a microframework means that you can use it to grow a tech project such as a web app incredibly quickly. \n",
    "2. Flexible\n",
    "This is the core feature of Flask, and one of its biggest advantages.\n",
    "To paraphrase one of the principles of the Zen of Python, simplicity is better than complexity, because it can be easily rearranged and moved around.\n",
    "3. Easy to negotiate\n",
    "Like Django, being able to find your way around easily is key for allowing web developers to concentrate on just coding quickly, without getting bogged down\n",
    "4. Lightweight\n",
    "When we use this term in relation to a tool or framework, we’re talking about the design of it—there are few constituent parts that need to be assembled and reassembled, and it doesn’t rely on a large number of extensions to function. \n",
    "5. Documentation\n",
    "Following the creator’s own theory that “nice documentation design makes you actually write documentation,” Flask users will find a healthy number of examples and tips arranged in a structured manner."
   ]
  },
  {
   "cell_type": "markdown",
   "id": "3391e27c-5f1a-4695-b427-2f2d88cc0157",
   "metadata": {},
   "source": [
    "# Q2. Create a simple Flask application to display ‘Hello World!!’. Attach the screenshot of the output in Jupyter Notebook."
   ]
  },
  {
   "cell_type": "raw",
   "id": "3e88dffd-1dbe-4820-b534-a077d67d4f49",
   "metadata": {},
   "source": [
    "\n",
    "from flask import Flask\n",
    "\n",
    "app = Flask(__name__)\n",
    "\n",
    "@app.route(\"/\")\n",
    "def hello_world():\n",
    "    return \"Hello, World!\"\n",
    "\n",
    "\n",
    "if __name__==\"__main__\":\n",
    "    app.run(host=\"0.0.0.0\")\n",
    "    \n"
   ]
  },
  {
   "cell_type": "markdown",
   "id": "cea1bbfa-b09e-4329-9ff9-d64fa48e7129",
   "metadata": {},
   "source": [
    "![](API.img)"
   ]
  },
  {
   "cell_type": "markdown",
   "id": "c54059f8-6b6e-4b44-8500-1d2c4a13faf3",
   "metadata": {},
   "source": [
    "# Q3. What is App routing in Flask? Why do we use app routes?"
   ]
  },
  {
   "cell_type": "raw",
   "id": "e924fc0c-42f2-413c-8449-82dacc03acc0",
   "metadata": {},
   "source": [
    "# App Routing means mapping the URLs to a specific function that will handle the logic for that URL. Modern web frameworks use more meaningful URLs to help users remember the URLs and make navigation simpler. \n",
    "\n",
    "Example: In our application, the URL (“/”) is associated with the root URL. So if our site’s domain was www.example.org and we want to add routing to “www.example.org/hello”, we would use “/hello”. \n",
    "\n",
    "To bind a function to an URL path we use the app.route decorator. In the below example, we have implemented the above routing in the flask.\n",
    "\n",
    "from flask import Flask\n",
    "  \n",
    "app = Flask(__name__)\n",
    "  \n",
    "\n",
    "@app.route(\"/hello\")\n",
    "def hello():\n",
    "    return \"Hello, Welcome to GeeksForGeeks\"\n",
    "    \n",
    "@app.route(\"/\")\n",
    "def index():\n",
    "    return \"Homepage of GeeksForGeeks\"\n",
    "  \n",
    "if __name__ == \"__main__\":\n",
    "    app.run(debug=True)\n",
    "    \n",
    "App routing is the technique used to map the specific URL with the associated function intended to perform some task. The Latest Web frameworks use the routing technique to help users remember application URLs. It is helpful to access the desired page directly without navigating from the home page.    \n",
    "    "
   ]
  },
  {
   "cell_type": "raw",
   "id": "3737c507-f699-461f-a9dd-b449dbafee15",
   "metadata": {},
   "source": [
    "# Q4. Create a “/welcome” route to display the welcome message “Welcome to ABC Corporation” and a “/” route to show the following details:\n",
    "Company Name: ABC Corporation\n",
    "Location: India\n",
    "Contact Detail: 999-999-9999\n",
    "Attach the screenshot of the output in Jupyter Notebook."
   ]
  },
  {
   "cell_type": "raw",
   "id": "993b5872-cc8d-49cc-a9f6-e7f13c1e20a1",
   "metadata": {},
   "source": [
    "from flask import Flask\n",
    "\n",
    "app = Flask(__name__)\n",
    "\n",
    "@app.route(\"/\")\n",
    "def welcome():\n",
    "    print(\"Company Name: ABC Corporation\\n Location: India\\nContact Detail: 999-999-9999\")\n",
    "    return \"Welcome to ABC Corporation!\"\n",
    "\n",
    "\n",
    "if __name__==\"__main__\":\n",
    "    app.run(host=\"0.0.0.0\")"
   ]
  },
  {
   "cell_type": "markdown",
   "id": "e55afadd-d6aa-4fcb-bcbb-e70c1681ba02",
   "metadata": {},
   "source": [
    "# Q5. What function is used in Flask for URL Building? Write a Python code to demonstrate the working of the url_for() function."
   ]
  },
  {
   "cell_type": "code",
   "execution_count": null,
   "id": "4c095636-6341-4eda-81a3-f86286591cfd",
   "metadata": {},
   "outputs": [],
   "source": [
    "The url_for() function is used to build a URL to the specific function dynamically. \n",
    "The first argument is the name of the specified function, and then we can pass any number of keyword argument corresponding to the variable part of the URL.\n",
    "This function is useful in the sense that we can avoid hard-coding the URLs into the templates by dynamically building them using this function.\n",
    "\n"
   ]
  },
  {
   "cell_type": "raw",
   "id": "4ee9c8dc-af42-4f41-8311-e8794bfb99ec",
   "metadata": {},
   "source": [
    "from flask import *  \n",
    "   \n",
    "app = Flask(__name__)  \n",
    "  \n",
    "@app.route('/admin')  \n",
    "def admin():  \n",
    "    return 'admin'  \n",
    "  \n",
    "@app.route('/librarion')  \n",
    "def librarion():  \n",
    "    return 'librarion'  \n",
    "  \n",
    "@app.route('/student')  \n",
    "def student():  \n",
    "    return 'student'  \n",
    "  \n",
    "@app.route('/user/<name>')  \n",
    "def user(name):  \n",
    "    if name == 'admin':  \n",
    "        return redirect(url_for('admin'))  \n",
    "    if name == 'librarion':  \n",
    "        return redirect(url_for('librarion'))  \n",
    "    if name == 'student':  \n",
    "        return redirect(url_for('student'))  \n",
    "if __name__ =='__main__':  \n",
    "    app.run(debug = True)"
   ]
  },
  {
   "cell_type": "markdown",
   "id": "18cf707a-55a6-4b6e-9b00-46337cb8062c",
   "metadata": {},
   "source": [
    "![](admin.jpg)"
   ]
  },
  {
   "cell_type": "code",
   "execution_count": null,
   "id": "2604b147-f1cc-410b-b356-12db45b1daee",
   "metadata": {},
   "outputs": [],
   "source": []
  }
 ],
 "metadata": {
  "kernelspec": {
   "display_name": "Python 3 (ipykernel)",
   "language": "python",
   "name": "python3"
  },
  "language_info": {
   "codemirror_mode": {
    "name": "ipython",
    "version": 3
   },
   "file_extension": ".py",
   "mimetype": "text/x-python",
   "name": "python",
   "nbconvert_exporter": "python",
   "pygments_lexer": "ipython3",
   "version": "3.10.8"
  }
 },
 "nbformat": 4,
 "nbformat_minor": 5
}
