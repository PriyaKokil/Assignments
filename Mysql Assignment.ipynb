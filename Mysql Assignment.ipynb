{
 "cells": [
  {
   "cell_type": "markdown",
   "id": "b404e174-9324-4966-a7ed-81daf14059d5",
   "metadata": {},
   "source": [
    "# Q1. What is a database? Differentiate between SQL and NoSQL databases."
   ]
  },
  {
   "cell_type": "markdown",
   "id": "c9d461d5-062b-4d78-b075-c42767aee515",
   "metadata": {},
   "source": [
    "#Database : \n",
    "A database is an organized collection of structured information, or data, typically stored electronically in a computer system. \n",
    "A database is usually controlled by a database management system (DBMS)\n",
    "\n",
    "# Differnce Between SQL and NoSQL\n",
    "1. SQL databases are relational, and NoSQL databases are non-relational.\n",
    "2. SQL databases use structured query language (SQL) and have a predefined schema. NoSQL databases have dynamic schemas for unstructured data.\n",
    "3. SQL databases are vertically scalable, while NoSQL databases are horizontally scalable.\n",
    "4. SQL databases are table-based, while NoSQL databases are document, key-value, graph, or wide-column stores.\n",
    "5. SQL databases are better for multi-row transactions, while NoSQL is better for unstructured data like documents or JSON."
   ]
  },
  {
   "cell_type": "markdown",
   "id": "dfc3727e-2977-4436-9eec-4250c1808d68",
   "metadata": {},
   "source": [
    "# Q2. What is DDL? Explain why CREATE, DROP, ALTER, and TRUNCATE are used with an example."
   ]
  },
  {
   "cell_type": "markdown",
   "id": "c5de8e4a-b7ca-4510-80ef-deed2d82f92a",
   "metadata": {},
   "source": [
    "##  DDL : \n",
    "A data definition language (DDL) is a computer language used to create and modify the structure of database objects in a database. \n",
    "These database objects include views, schemas, tables, indexes, etc.\n",
    "\n",
    "1. Create\n",
    "This command builds a new table and has a predefined syntax. The CREATE statement syntax is:\n",
    "CREATE TABLE [table name] ([column definitions]) [table parameters];\n",
    "For example:\n",
    "CREATE TABLE Employee (Employee Id INTEGER PRIMARY KEY, First name CHAR (50) NULL, Last name CHAR (75) NOT NULL);\n",
    "\n",
    "2. Alter\n",
    "An alter command modifies an existing database table. This command can add up additional column, drop existing columns and even change the data type of columns involved in a database table.\n",
    "An alter command syntax is:\n",
    "ALTER object type object name parameters;\n",
    "For example:\n",
    "ALTER TABLE Employee ADD PRIMARY KEY (employee_pk);\n",
    "\n",
    "3. Drop\n",
    "A drop command is used to delete objects such as a table, index or view. A DROP statement cannot be rolled back, so once an object is destroyed, there’s no way to recover it.\n",
    "Drop statement syntax is:\n",
    "DROP object type object name;\n",
    "For example:\n",
    "DROP TABLE Employee;\n",
    "\n",
    "3.Truncate\n",
    "Similar to DROP, the TRUNCATE statement is used to quickly remove all records from a table. However, unlike DROP that completely destroys a table, TRUNCATE preserves its full structure to be reused later.\n",
    "Truncate statement syntax is:\n",
    "TRUNCATE TABLE table_name;\n",
    "For example:\n",
    "TRUNCATE TABLE Employee;"
   ]
  },
  {
   "cell_type": "markdown",
   "id": "62eb2f22-2109-403b-bc18-14a48bfe09ad",
   "metadata": {},
   "source": [
    "# Q3. What is DML? Explain INSERT, UPDATE, and DELETE with an example."
   ]
  },
  {
   "cell_type": "markdown",
   "id": "a997949a-c519-4f68-98a9-1ce14836f144",
   "metadata": {},
   "source": [
    "## DML :\n",
    "A data manipulation language (DML) is a family of computer languages including commands permitting users to manipulate data in a database. \n",
    "This manipulation involves inserting data into database tables, retrieving existing data, deleting data from existing tables and modifying existing data. \n",
    "DML is mostly incorporated in SQL databases.\n",
    "\n",
    "1. UPDATE: This command modifies data of one or more records. An update command syntax is UPDATE [table name] SET [column name = value] where [condition].\n",
    "2. INSERT: This command adds one or more records to a database table. The insert command syntax is INSERT INTO [table name] [column(s)] VALUES [value(s)].\n",
    "3. DELETE: This command removes one or more records from a table according to specified conditions. Delete command syntax is DELETE FROM [table name] where [condition]."
   ]
  },
  {
   "cell_type": "markdown",
   "id": "8e4b9200-be4a-4453-a745-25a88b76d188",
   "metadata": {},
   "source": [
    "# Q4. What is DQL? Explain SELECT with an example."
   ]
  },
  {
   "cell_type": "markdown",
   "id": "ea93a386-31ab-4d4e-b16c-280216db932c",
   "metadata": {},
   "source": [
    "# DQL :\n",
    "\n",
    "The Data Query Language, or DQL for short, is the group of commands responsible for querying data from a database. \n",
    "The principal DQL command in SQL is the SELECT command, which retrieves data from one or more tables.\n",
    "\n",
    "SELECT command or statement in SQL is used to fetch data records from the database table and present it in the form of a result set\n",
    "For example :\n",
    "    SELECT * from Student;"
   ]
  },
  {
   "cell_type": "markdown",
   "id": "210d3576-82ec-410f-9af6-603a23ddc987",
   "metadata": {},
   "source": [
    "# Q5. Explain Primary Key and Foreign Key."
   ]
  },
  {
   "cell_type": "markdown",
   "id": "131ed30d-9858-42de-ae05-2746e2bfdd9b",
   "metadata": {},
   "source": [
    "## Primary key\n",
    "\n",
    "1. The primary key is a unique or non-null key that uniquely identifies every record in a table or relation. \n",
    "2. Each database needs a unique identifier for every row of a table, and the primary key plays a vital role in identifying rows in the table uniquely. \n",
    "3. The primary key column can't store duplicate values. It is also called a minimal super key; therefore, we cannot specify more than one primary key in any relationship.\n",
    "\n",
    "## Foreign Key\n",
    "\n",
    "1. The foreign key is a group of one or more columns in a database to uniquely identify another database record in some other table to maintain the referential integrity. \n",
    "2. It is also known as the referencing key that establishes a relationship between two different tables in a database.\n",
    "3. A foreign key always matches the primary key column in another table. \n",
    "4. It means a foreign key column in one table refers to the primary key column of another table. \n",
    "5. A foreign key is beneficial in relational database normalization, especially when we need to access records from other tables."
   ]
  },
  {
   "cell_type": "markdown",
   "id": "181d9157-a11d-4e53-ad23-b69b5289530f",
   "metadata": {},
   "source": [
    "# Q6. Write a python code to connect MySQL to python. Explain the cursor() and execute() method."
   ]
  },
  {
   "cell_type": "raw",
   "id": "62338edf-ebc7-4d86-9366-809db8b573c8",
   "metadata": {},
   "source": [
    "import mysql.connector\n",
    "\n",
    "mydb = mysql.connector.connect(\n",
    "  host=\"localhost\",\n",
    "  user=\"yourusername\",\n",
    "  password=\"yourpassword\"\n",
    ")\n",
    "\n",
    "print(mydb)\n"
   ]
  },
  {
   "cell_type": "markdown",
   "id": "22e76ae3-757b-4bb7-ae86-0dff1c770314",
   "metadata": {},
   "source": [
    "## Cursor() :\n",
    "A cursor is an object which helps to execute the query and fetch the records from the database.\n",
    "\n",
    "## Execute():\n",
    "This method executes the given database operation (query or command)."
   ]
  },
  {
   "cell_type": "markdown",
   "id": "41957537-051e-4da3-a89b-94c282c644a6",
   "metadata": {},
   "source": [
    "# Q7. Give the order of execution of SQL clauses in an SQL query."
   ]
  },
  {
   "cell_type": "markdown",
   "id": "86ba4933-50b6-4010-9208-5a9a9f493976",
   "metadata": {},
   "source": [
    "1. FROM/JOIN\n",
    "2. WHERE\n",
    "3. GROUP BY\n",
    "4. HAVING\n",
    "5. SELECT\n",
    "6. ORDER BY\n",
    "7. LIMIT/OFFSET"
   ]
  },
  {
   "cell_type": "code",
   "execution_count": null,
   "id": "75325bd3-e704-4b46-8a12-8a2980566f47",
   "metadata": {},
   "outputs": [],
   "source": []
  }
 ],
 "metadata": {
  "kernelspec": {
   "display_name": "Python 3 (ipykernel)",
   "language": "python",
   "name": "python3"
  },
  "language_info": {
   "codemirror_mode": {
    "name": "ipython",
    "version": 3
   },
   "file_extension": ".py",
   "mimetype": "text/x-python",
   "name": "python",
   "nbconvert_exporter": "python",
   "pygments_lexer": "ipython3",
   "version": "3.10.8"
  }
 },
 "nbformat": 4,
 "nbformat_minor": 5
}
