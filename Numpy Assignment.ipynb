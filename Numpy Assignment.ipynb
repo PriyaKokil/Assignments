{
 "cells": [
  {
   "cell_type": "code",
   "execution_count": 2,
   "id": "b52a2e7b-c7c9-4ab1-b610-8c0a0d764b10",
   "metadata": {},
   "outputs": [],
   "source": [
    "# Consider the below code to answer further questions:\n",
    "import numpy as np\n",
    "list_ = [ '1' , '2' , '3' , '4' , '5' ]\n",
    "array_list = np.array(object = list_)"
   ]
  },
  {
   "cell_type": "markdown",
   "id": "b23932eb-0fe4-4e45-90f3-0775c3222722",
   "metadata": {},
   "source": [
    "# Q1. Is there any difference in the data type of variables list_ and array_list? If there is then write a code to print the data types of both the variables."
   ]
  },
  {
   "cell_type": "code",
   "execution_count": 5,
   "id": "de37eebe-63c4-4ad4-95c8-c8fea8c000c7",
   "metadata": {},
   "outputs": [
    {
     "name": "stdout",
     "output_type": "stream",
     "text": [
      "Data Type of List is  <class 'type'>\n",
      "Data Type of Array List is  <class 'numpy.ndarray'>\n"
     ]
    }
   ],
   "source": [
    "##  Variable List interface creates a collection of elements that are stored in a sequence and they are identified and accessed using the index.\n",
    "## ArrayList creates an array of objects where the array can grow dynamically.\n",
    "\n",
    "# Code to print data type of variable list \n",
    "\n",
    "List = [1,2,3,4,5]\n",
    "print(\"Data Type of List is \", type(list))\n",
    "\n",
    "\n",
    "# Code to print Data Type of Array List\n",
    "\n",
    "import numpy as np \n",
    "arr = np.array([1,2,3,4,5])\n",
    "\n",
    "print(\"Data Type of Array List is \", type(arr))"
   ]
  },
  {
   "cell_type": "markdown",
   "id": "6c551ed1-5ed4-4172-984b-51294bca858e",
   "metadata": {},
   "source": [
    "# Q2. Write a code to print the data type of each and every element of both the variables list_ and arra_list."
   ]
  },
  {
   "cell_type": "code",
   "execution_count": 17,
   "id": "c325a21e-1a41-4d5f-bb36-f1288f7fb235",
   "metadata": {},
   "outputs": [
    {
     "name": "stdout",
     "output_type": "stream",
     "text": [
      "Data Type of List is  <class 'type'>\n",
      "i :1 Data Type : <class 'int'>\n",
      "i :2 Data Type : <class 'int'>\n",
      "i :3 Data Type : <class 'int'>\n",
      "i :4 Data Type : <class 'int'>\n",
      "i :5 Data Type : <class 'int'>\n",
      "i :1 Data Type : <class 'numpy.int64'>\n",
      "i :2 Data Type : <class 'numpy.int64'>\n",
      "i :3 Data Type : <class 'numpy.int64'>\n",
      "i :4 Data Type : <class 'numpy.int64'>\n",
      "i :5 Data Type : <class 'numpy.int64'>\n"
     ]
    }
   ],
   "source": [
    "# Code to print data type of variable list \n",
    "List = [1,2,3,4,5]\n",
    "print(\"Data Type of List is \", type(list))\n",
    "for i in List:\n",
    "    print(f\"i :{i} Data Type : {type(i)}\")\n",
    "    \n",
    " # Code to print Data Type of Array List   \n",
    "\n",
    "import numpy as np \n",
    "arr = np.array([1,2,3,4,5])\n",
    "\n",
    "for i in arr:\n",
    "    print(f\"i :{i} Data Type : {type(i)}\")"
   ]
  },
  {
   "cell_type": "markdown",
   "id": "3842e061-b803-41fc-ad57-d1df0fc0729e",
   "metadata": {},
   "source": [
    "# Q3. Considering the following changes in the variable, array_list:\n",
    "array_list = np.array(object = list_, dtype = int)\n",
    "Will there be any difference in the data type of the elements present in both the variables, list_ and\n",
    "arra_list? If so then print the data types of each and every element present in both the variables, list_\n",
    "and arra_list.\n",
    "Consider the below code to answer further questions:\n",
    "import numpy as np\n",
    "num_list = [ [ 1 , 2 , 3 ] , [ 4 , 5 , 6 ] ]\n",
    "num_array = np.array(object = num_list)"
   ]
  },
  {
   "cell_type": "code",
   "execution_count": 21,
   "id": "0137a6d1-e2cc-4742-9935-9f33f1c8b3b1",
   "metadata": {},
   "outputs": [
    {
     "name": "stdout",
     "output_type": "stream",
     "text": [
      "Element: 1, Data type: <class 'int'>\n",
      "Element: 2, Data type: <class 'int'>\n",
      "Element: 3, Data type: <class 'int'>\n",
      "Element: Hello, Data type: <class 'str'>\n",
      "Element: [4, 5, 6], Data type: <class 'list'>\n",
      "\n",
      "Data types in array_list:\n",
      "Element: 1, Data type: <class 'int'>\n",
      "Element: 2, Data type: <class 'int'>\n",
      "Element: 3, Data type: <class 'int'>\n",
      "Element: Hello, Data type: <class 'str'>\n",
      "Element: [4, 5, 6], Data type: <class 'list'>\n",
      "\n",
      "Data types in num_list:\n",
      "Element: 1, Data type: <class 'int'>\n",
      "Element: 2, Data type: <class 'int'>\n",
      "Element: 3, Data type: <class 'int'>\n",
      "Element: 4, Data type: <class 'int'>\n",
      "Element: 5, Data type: <class 'int'>\n",
      "Element: 6, Data type: <class 'int'>\n",
      "\n",
      "Data types in num_array:\n",
      "Element: 1, Data type: <class 'numpy.int64'>\n",
      "Element: 2, Data type: <class 'numpy.int64'>\n",
      "Element: 3, Data type: <class 'numpy.int64'>\n",
      "Element: 4, Data type: <class 'numpy.int64'>\n",
      "Element: 5, Data type: <class 'numpy.int64'>\n",
      "Element: 6, Data type: <class 'numpy.int64'>\n"
     ]
    },
    {
     "name": "stderr",
     "output_type": "stream",
     "text": [
      "/tmp/ipykernel_143/3747640904.py:10: VisibleDeprecationWarning: Creating an ndarray from ragged nested sequences (which is a list-or-tuple of lists-or-tuples-or ndarrays with different lengths or shapes) is deprecated. If you meant to do this, you must specify 'dtype=object' when creating the ndarray.\n",
      "  array_list = np.array(converted_list)\n"
     ]
    }
   ],
   "source": [
    "import numpy as np\n",
    "\n",
    "# Given list\n",
    "list_ = [1, 2, 3.14, \"Hello\", [4, 5, 6]]\n",
    "\n",
    "# Convert list_ elements to integers where possible\n",
    "converted_list = [int(item) if isinstance(item, (int, float)) else item for item in list_]\n",
    "\n",
    "# Create the NumPy array\n",
    "array_list = np.array(converted_list)\n",
    "\n",
    "# Print the data type of each element in array_list\n",
    "for element in array_list:\n",
    "    print(f\"Element: {element}, Data type: {type(element)}\")\n",
    "\n",
    "\n",
    "# Print the data type of each element in array_list\n",
    "print(\"\\nData types in array_list:\")\n",
    "for element in array_list:\n",
    "    print(f\"Element: {element}, Data type: {type(element)}\")\n",
    "\n",
    "num_list = [ [ 1 , 2 , 3 ] , [ 4 , 5 , 6 ] ]\n",
    "num_array = np.array(object = num_list)\n",
    "\n",
    "# Print the data type of each element in num_list\n",
    "print(\"\\nData types in num_list:\")\n",
    "for row in num_list:\n",
    "    for element in row:\n",
    "        print(f\"Element: {element}, Data type: {type(element)}\")\n",
    "\n",
    "# Print the data type of each element in num_array\n",
    "print(\"\\nData types in num_array:\")\n",
    "for row in num_array:\n",
    "    for element in row:\n",
    "        print(f\"Element: {element}, Data type: {type(element)}\")\n"
   ]
  },
  {
   "cell_type": "markdown",
   "id": "240ebb6b-6f4c-417d-aeba-42b77810b57d",
   "metadata": {},
   "source": [
    "# Q4. Write a code to find the following characteristics of variable, num_array:\n",
    "(i) shape\n",
    "(ii) size"
   ]
  },
  {
   "cell_type": "code",
   "execution_count": 22,
   "id": "14a495ff-87e0-4595-ae1f-56a91ba3c89d",
   "metadata": {},
   "outputs": [
    {
     "name": "stdout",
     "output_type": "stream",
     "text": [
      "Shape of num_array: (2, 3)\n",
      "Size of num_array: 6\n"
     ]
    }
   ],
   "source": [
    "import numpy as np\n",
    "\n",
    "num_list = [[1, 2, 3], [4, 5, 6]]\n",
    "num_array = np.array(object=num_list)\n",
    "\n",
    "# (i) Finding the shape of the array\n",
    "shape = num_array.shape\n",
    "\n",
    "# (ii) Finding the size (total number of elements) of the array\n",
    "size = num_array.size\n",
    "\n",
    "print(f\"Shape of num_array: {shape}\")\n",
    "print(f\"Size of num_array: {size}\")\n"
   ]
  },
  {
   "cell_type": "markdown",
   "id": "a0400dd1-b3fd-484b-9019-9373fa72b01e",
   "metadata": {},
   "source": [
    "# Q5. Write a code to create numpy array of 3*3 matrix containing zeros only, using a numpy array creation function.\n",
    "[Hint: The size of the array will be 9 and the shape will be (3,3).]"
   ]
  },
  {
   "cell_type": "code",
   "execution_count": 23,
   "id": "0b97c29f-7351-40fc-b6fb-1c31db6d928a",
   "metadata": {},
   "outputs": [
    {
     "data": {
      "text/plain": [
       "array([[0., 0., 0.],\n",
       "       [0., 0., 0.],\n",
       "       [0., 0., 0.]])"
      ]
     },
     "execution_count": 23,
     "metadata": {},
     "output_type": "execute_result"
    }
   ],
   "source": [
    "import numpy as np\n",
    "\n",
    "arr = np.zeros((3,3))\n",
    "arr"
   ]
  },
  {
   "cell_type": "markdown",
   "id": "ffbbf935-327b-4f0b-9aa4-4b8592b7c927",
   "metadata": {},
   "source": [
    "# Q6. Create an identity matrix of shape (5,5) using numpy functions?\n",
    "[Hint: An identity matrix is a matrix containing 1 diagonally and other elements will be 0.]"
   ]
  },
  {
   "cell_type": "code",
   "execution_count": 27,
   "id": "bc6fe426-772e-4c0f-a00d-32e175d1cd31",
   "metadata": {},
   "outputs": [
    {
     "data": {
      "text/plain": [
       "array([[1., 0., 0., 0., 0.],\n",
       "       [0., 1., 0., 0., 0.],\n",
       "       [0., 0., 1., 0., 0.],\n",
       "       [0., 0., 0., 1., 0.],\n",
       "       [0., 0., 0., 0., 1.]])"
      ]
     },
     "execution_count": 27,
     "metadata": {},
     "output_type": "execute_result"
    }
   ],
   "source": [
    "import numpy as np\n",
    "\n",
    "arr = np.identity((5))\n",
    "arr"
   ]
  },
  {
   "cell_type": "code",
   "execution_count": null,
   "id": "8fb88454-d317-4484-9db6-ed4c46bf1e77",
   "metadata": {},
   "outputs": [],
   "source": []
  }
 ],
 "metadata": {
  "kernelspec": {
   "display_name": "Python 3 (ipykernel)",
   "language": "python",
   "name": "python3"
  },
  "language_info": {
   "codemirror_mode": {
    "name": "ipython",
    "version": 3
   },
   "file_extension": ".py",
   "mimetype": "text/x-python",
   "name": "python",
   "nbconvert_exporter": "python",
   "pygments_lexer": "ipython3",
   "version": "3.10.8"
  }
 },
 "nbformat": 4,
 "nbformat_minor": 5
}
