{
 "cells": [
  {
   "cell_type": "markdown",
   "id": "ac09cb60-35f3-4bb9-8e7f-bd2d09c316c3",
   "metadata": {},
   "source": [
    "# Q1. What is an Exception in pthon? Write the difference between Exceptions and syntax errors"
   ]
  },
  {
   "cell_type": "markdown",
   "id": "49b19f73-9b62-4363-a5a7-9b6efca64c3b",
   "metadata": {},
   "source": [
    "1. An exception is an event, which occurs during the execution of a program that disrupts the normal flow of the program's instructions.\n",
    "2. In general, when a Python script encounters a situation that it cannot cope with, it raises an exception. \n",
    "3. An exception is a Python object that represents an error.\n",
    "\n",
    "## difference between Exceptions and syntax errors¶\n",
    "1. Syntax Errors are the problems in a program due to which the program will stop the execution.\n",
    "2. On the other hand, exceptions are raised when some internal events occur which changes the normal flow of the program\n",
    "3. Errors mostly happen at compile-time like syntax error; however it can happen at runtime as well. Whereas an Exception occurs at runtime "
   ]
  },
  {
   "cell_type": "markdown",
   "id": "84270c30-ea44-458e-bfbc-4e14b1e6a244",
   "metadata": {},
   "source": [
    "# Q2. What hppens when an exception is not handled ? Explain with example."
   ]
  },
  {
   "cell_type": "markdown",
   "id": "d9abe24f-296d-4059-bb1b-178eb9c0b8e8",
   "metadata": {},
   "source": [
    "When an exception occurred, if you don’t handle it, the program terminates abruptly and the code past the line that caused the exception will not get executed."
   ]
  },
  {
   "cell_type": "code",
   "execution_count": 4,
   "id": "285398db-8202-472b-9262-ea29d3cc6e5f",
   "metadata": {},
   "outputs": [
    {
     "ename": "ZeroDivisionError",
     "evalue": "division by zero",
     "output_type": "error",
     "traceback": [
      "\u001b[0;31m---------------------------------------------------------------------------\u001b[0m",
      "\u001b[0;31mZeroDivisionError\u001b[0m                         Traceback (most recent call last)",
      "Cell \u001b[0;32mIn[4], line 4\u001b[0m\n\u001b[1;32m      1\u001b[0m \u001b[38;5;66;03m# Example\u001b[39;00m\n\u001b[1;32m      3\u001b[0m a \u001b[38;5;241m=\u001b[39m \u001b[38;5;241m10\u001b[39m\n\u001b[0;32m----> 4\u001b[0m a \u001b[38;5;241m=\u001b[39m \u001b[43ma\u001b[49m\u001b[38;5;241;43m/\u001b[39;49m\u001b[38;5;241;43m0\u001b[39;49m\n\u001b[1;32m      5\u001b[0m \u001b[38;5;28mprint\u001b[39m(\u001b[38;5;124m\"\u001b[39m\u001b[38;5;124mThis is example of excepation handling\u001b[39m\u001b[38;5;124m\"\u001b[39m)\n\u001b[1;32m      8\u001b[0m \u001b[38;5;66;03m# In this example if we don't handle exception program will stop execution at that line annd it will not continue to execute next lines of code which don't have relation with the errors\u001b[39;00m\n",
      "\u001b[0;31mZeroDivisionError\u001b[0m: division by zero"
     ]
    }
   ],
   "source": [
    "# Example\n",
    "\n",
    "a = 10\n",
    "a = a/0\n",
    "print(\"This is example of excepation handling\")\n",
    "\n",
    "\n",
    "# In this example if we don't handle exception program will stop execution at that line annd it will not continue to execute next lines of code which don't have relation with the errors"
   ]
  },
  {
   "cell_type": "markdown",
   "id": "2259ada4-a2f7-4286-a24c-fd03209e1b18",
   "metadata": {},
   "source": [
    "# Q3. Which python statements are used to catch and handle exceptions? Explain with an example."
   ]
  },
  {
   "cell_type": "markdown",
   "id": "5ab23ae7-9cbb-4d18-8a1a-bff41406fb08",
   "metadata": {},
   "source": [
    "# Statements used to handle exceptions\n",
    "1. Try : code which we think may give an error\n",
    "2. Except : If try gives error execute code will run\n",
    "3. else : this code will run upon succesfull completion of try block only , if try runs w/o error\n",
    "4. Finally : This block of code will always execute"
   ]
  },
  {
   "cell_type": "code",
   "execution_count": 5,
   "id": "5d9865b8-d3b0-460c-9aef-3efd76772359",
   "metadata": {},
   "outputs": [
    {
     "name": "stdout",
     "output_type": "stream",
     "text": [
      "This will execute once try executes itself without an excepation\n",
      "This will always execute\n"
     ]
    }
   ],
   "source": [
    "#Example\n",
    "\n",
    "try:\n",
    "    f = open(\"test.txt\",'w')\n",
    "    f.write(\"This is my msg\")\n",
    "    \n",
    "except Exception as e :\n",
    "    print(\"There is some issue with my code\", e)\n",
    "    \n",
    "else :\n",
    "    f.close()\n",
    "    print(\"This will execute once try executes itself without an excepation\")\n",
    "    \n",
    "finally :\n",
    "    print(\"This will always execute\")       \n",
    "    "
   ]
  },
  {
   "cell_type": "markdown",
   "id": "b3867b53-46ba-4be1-ab68-acbbc0979be9",
   "metadata": {},
   "source": [
    "# Q4. Explain with an exmple:\n",
    "\n",
    "1. try and else\n",
    "2. finally\n",
    "3. raise"
   ]
  },
  {
   "cell_type": "code",
   "execution_count": 6,
   "id": "4c909968-5dc3-4618-bc32-a8a057ac9d12",
   "metadata": {},
   "outputs": [
    {
     "name": "stdout",
     "output_type": "stream",
     "text": [
      "This will execute once try executes itself without an excepation\n"
     ]
    }
   ],
   "source": [
    "# Try : code which we think may give an error\n",
    "# else : this code will run upon succesfull completion of try block only , if try runs w/o error\n",
    "\n",
    "# Example \n",
    "try:\n",
    "    f = open(\"test.txt\",'w')\n",
    "    f.write(\"This is my msg\")\n",
    "    \n",
    "except Exception as e :\n",
    "    print(\"There is some issue with my code\", e)\n",
    "    \n",
    "else :\n",
    "    f.close()\n",
    "    print(\"This will execute once try executes itself without an excepation\")"
   ]
  },
  {
   "cell_type": "code",
   "execution_count": 7,
   "id": "9e395573-c882-48dd-bdf6-d22a7fcc402b",
   "metadata": {},
   "outputs": [
    {
     "name": "stdout",
     "output_type": "stream",
     "text": [
      "This will always execute\n"
     ]
    },
    {
     "ename": "FileNotFoundError",
     "evalue": "[Errno 2] No such file or directory: 'test1.txt'",
     "output_type": "error",
     "traceback": [
      "\u001b[0;31m---------------------------------------------------------------------------\u001b[0m",
      "\u001b[0;31mFileNotFoundError\u001b[0m                         Traceback (most recent call last)",
      "Cell \u001b[0;32mIn[7], line 6\u001b[0m\n\u001b[1;32m      1\u001b[0m \u001b[38;5;66;03m# Finally - This block of code will always execute\u001b[39;00m\n\u001b[1;32m      2\u001b[0m \n\u001b[1;32m      3\u001b[0m \u001b[38;5;66;03m# Example\u001b[39;00m\n\u001b[1;32m      5\u001b[0m \u001b[38;5;28;01mtry\u001b[39;00m:\n\u001b[0;32m----> 6\u001b[0m     f \u001b[38;5;241m=\u001b[39m \u001b[38;5;28;43mopen\u001b[39;49m\u001b[43m(\u001b[49m\u001b[38;5;124;43m\"\u001b[39;49m\u001b[38;5;124;43mtest1.txt\u001b[39;49m\u001b[38;5;124;43m\"\u001b[39;49m\u001b[43m,\u001b[49m\u001b[38;5;124;43m'\u001b[39;49m\u001b[38;5;124;43mr\u001b[39;49m\u001b[38;5;124;43m'\u001b[39;49m\u001b[43m)\u001b[49m\n\u001b[1;32m      7\u001b[0m     f\u001b[38;5;241m.\u001b[39mwrite(\u001b[38;5;124m\"\u001b[39m\u001b[38;5;124mThis is my msg\u001b[39m\u001b[38;5;124m\"\u001b[39m)\n\u001b[1;32m     10\u001b[0m \u001b[38;5;28;01mfinally\u001b[39;00m :\n",
      "File \u001b[0;32m/opt/conda/lib/python3.10/site-packages/IPython/core/interactiveshell.py:282\u001b[0m, in \u001b[0;36m_modified_open\u001b[0;34m(file, *args, **kwargs)\u001b[0m\n\u001b[1;32m    275\u001b[0m \u001b[38;5;28;01mif\u001b[39;00m file \u001b[38;5;129;01min\u001b[39;00m {\u001b[38;5;241m0\u001b[39m, \u001b[38;5;241m1\u001b[39m, \u001b[38;5;241m2\u001b[39m}:\n\u001b[1;32m    276\u001b[0m     \u001b[38;5;28;01mraise\u001b[39;00m \u001b[38;5;167;01mValueError\u001b[39;00m(\n\u001b[1;32m    277\u001b[0m         \u001b[38;5;124mf\u001b[39m\u001b[38;5;124m\"\u001b[39m\u001b[38;5;124mIPython won\u001b[39m\u001b[38;5;124m'\u001b[39m\u001b[38;5;124mt let you open fd=\u001b[39m\u001b[38;5;132;01m{\u001b[39;00mfile\u001b[38;5;132;01m}\u001b[39;00m\u001b[38;5;124m by default \u001b[39m\u001b[38;5;124m\"\u001b[39m\n\u001b[1;32m    278\u001b[0m         \u001b[38;5;124m\"\u001b[39m\u001b[38;5;124mas it is likely to crash IPython. If you know what you are doing, \u001b[39m\u001b[38;5;124m\"\u001b[39m\n\u001b[1;32m    279\u001b[0m         \u001b[38;5;124m\"\u001b[39m\u001b[38;5;124myou can use builtins\u001b[39m\u001b[38;5;124m'\u001b[39m\u001b[38;5;124m open.\u001b[39m\u001b[38;5;124m\"\u001b[39m\n\u001b[1;32m    280\u001b[0m     )\n\u001b[0;32m--> 282\u001b[0m \u001b[38;5;28;01mreturn\u001b[39;00m \u001b[43mio_open\u001b[49m\u001b[43m(\u001b[49m\u001b[43mfile\u001b[49m\u001b[43m,\u001b[49m\u001b[43m \u001b[49m\u001b[38;5;241;43m*\u001b[39;49m\u001b[43margs\u001b[49m\u001b[43m,\u001b[49m\u001b[43m \u001b[49m\u001b[38;5;241;43m*\u001b[39;49m\u001b[38;5;241;43m*\u001b[39;49m\u001b[43mkwargs\u001b[49m\u001b[43m)\u001b[49m\n",
      "\u001b[0;31mFileNotFoundError\u001b[0m: [Errno 2] No such file or directory: 'test1.txt'"
     ]
    }
   ],
   "source": [
    "# Finally - This block of code will always execute\n",
    "\n",
    "# Example\n",
    "\n",
    "try:\n",
    "    f = open(\"test1.txt\",'r')\n",
    "    f.write(\"This is my msg\")\n",
    "    \n",
    "\n",
    "finally :\n",
    "    print(\"This will always execute\")"
   ]
  },
  {
   "cell_type": "code",
   "execution_count": 8,
   "id": "6ce12411-017a-449d-b253-65360386bf5d",
   "metadata": {},
   "outputs": [
    {
     "ename": "Exception",
     "evalue": "Sorry, no numbers below zero",
     "output_type": "error",
     "traceback": [
      "\u001b[0;31m---------------------------------------------------------------------------\u001b[0m",
      "\u001b[0;31mException\u001b[0m                                 Traceback (most recent call last)",
      "Cell \u001b[0;32mIn[8], line 7\u001b[0m\n\u001b[1;32m      4\u001b[0m x \u001b[38;5;241m=\u001b[39m \u001b[38;5;241m-\u001b[39m\u001b[38;5;241m1\u001b[39m\n\u001b[1;32m      6\u001b[0m \u001b[38;5;28;01mif\u001b[39;00m x \u001b[38;5;241m<\u001b[39m \u001b[38;5;241m0\u001b[39m:\n\u001b[0;32m----> 7\u001b[0m   \u001b[38;5;28;01mraise\u001b[39;00m \u001b[38;5;167;01mException\u001b[39;00m(\u001b[38;5;124m\"\u001b[39m\u001b[38;5;124mSorry, no numbers below zero\u001b[39m\u001b[38;5;124m\"\u001b[39m)\n",
      "\u001b[0;31mException\u001b[0m: Sorry, no numbers below zero"
     ]
    }
   ],
   "source": [
    "# Raise - raise allows you to throw an exception at any time\n",
    "\n",
    "# Example \n",
    "x = -1\n",
    "\n",
    "if x < 0:\n",
    "  raise Exception(\"Sorry, no numbers below zero\")"
   ]
  },
  {
   "cell_type": "markdown",
   "id": "5f2e85d2-3393-4af8-9cd7-6c8d3409c8ee",
   "metadata": {},
   "source": [
    "# Q5. What are Custom Exceptions in pthon? Why do we need Custom Exceptions? Explain withn example"
   ]
  },
  {
   "cell_type": "markdown",
   "id": "d6a78bb9-3595-4aed-98a2-6ded75f4d9cf",
   "metadata": {},
   "source": [
    "Custom exceptions in Python is a user-defined exception class that extends the base Exception class. \n",
    "It allows programmers to create and raise exceptions specific to their application's requirements, providing more meaningful error messages and facilitating better error handling."
   ]
  },
  {
   "cell_type": "code",
   "execution_count": 9,
   "id": "dd46ea71-3bb4-4227-aa85-f639ca161ee3",
   "metadata": {},
   "outputs": [
    {
     "name": "stdin",
     "output_type": "stream",
     "text": [
      "Enter your age -65\n"
     ]
    },
    {
     "name": "stdout",
     "output_type": "stream",
     "text": [
      "age should not be lesser than 0\n"
     ]
    }
   ],
   "source": [
    "# Custom Exception Handling for age \n",
    "class validateage (Exception):\n",
    "    \n",
    "    def __init__(self, msg):\n",
    "        self.msg = msg\n",
    "        \n",
    "def validate_age(age):\n",
    "    if age < 0:\n",
    "        raise validateage(\"age should not be lesser than 0\")\n",
    "        \n",
    "    elif age > 200:\n",
    "        raise validateage(\"age is too high\")\n",
    "        \n",
    "    else :\n",
    "        print(\"age is valid\")        \n",
    "        \n",
    "try :\n",
    "    age = int(input(\"Enter your age\"))\n",
    "    validate_age(age)\n",
    "    \n",
    "except validateage as e :\n",
    "    print(e)        "
   ]
  },
  {
   "cell_type": "markdown",
   "id": "ee0360f0-911d-4587-9f96-f5ee98e7b4c9",
   "metadata": {},
   "source": [
    "# Q6. Create custom exception class. Use this class to hanndle exception."
   ]
  },
  {
   "cell_type": "code",
   "execution_count": 10,
   "id": "84fb0935-33bb-4658-a66d-461d78ce46f9",
   "metadata": {},
   "outputs": [
    {
     "name": "stdin",
     "output_type": "stream",
     "text": [
      "Enter your age -90\n"
     ]
    },
    {
     "name": "stdout",
     "output_type": "stream",
     "text": [
      "age should not be lesser than 0\n"
     ]
    }
   ],
   "source": [
    "class validateage (Exception):\n",
    "    \n",
    "    def __init__(self, msg):\n",
    "        self.msg = msg\n",
    "        \n",
    "def validate_age(age):\n",
    "    if age < 0:\n",
    "        raise validateage(\"age should not be lesser than 0\")\n",
    "        \n",
    "    elif age > 200:\n",
    "        raise validateage(\"age is too high\")\n",
    "        \n",
    "    else :\n",
    "        print(\"age is valid\")        \n",
    "        \n",
    "try :\n",
    "    age = int(input(\"Enter your age\"))\n",
    "    validate_age(age)\n",
    "    \n",
    "except validateage as e :\n",
    "    print(e) "
   ]
  }
 ],
 "metadata": {
  "kernelspec": {
   "display_name": "Python 3 (ipykernel)",
   "language": "python",
   "name": "python3"
  },
  "language_info": {
   "codemirror_mode": {
    "name": "ipython",
    "version": 3
   },
   "file_extension": ".py",
   "mimetype": "text/x-python",
   "name": "python",
   "nbconvert_exporter": "python",
   "pygments_lexer": "ipython3",
   "version": "3.10.8"
  }
 },
 "nbformat": 4,
 "nbformat_minor": 5
}
