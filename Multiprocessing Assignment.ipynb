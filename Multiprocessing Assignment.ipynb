{
 "cells": [
  {
   "cell_type": "markdown",
   "id": "7bdafae1-8cb6-45f0-b4b4-d0cb4198da41",
   "metadata": {},
   "source": [
    "# Q1. What is multiprocessing in python? Why is it useful?"
   ]
  },
  {
   "cell_type": "markdown",
   "id": "62ec4fbe-db8d-40c3-8c72-2614bd206d15",
   "metadata": {},
   "source": [
    "1. Multiprocessing in Python is a built-in package that allows the system to run multiple processes simultaneously. \n",
    "2. It will enable the breaking of applications into smaller threads that can run independently.\n",
    "3. The operating system allocates these threads to the processors improving performance of the system.\n",
    "4. In operating systems, to improve the performance of more than one CPU can be used within one computer system called Multiprocessor operating system. \n",
    "5. Multiple CPUs are interconnected so that a job can be divided among them for faster execution.\n"
   ]
  },
  {
   "cell_type": "markdown",
   "id": "0d597e7c-3e98-45c3-8616-7baf450684be",
   "metadata": {},
   "source": [
    "# Q2. What are the differences between multiprocessing and multithreading?"
   ]
  },
  {
   "cell_type": "markdown",
   "id": "a85ea429-3ecc-469f-85cb-be77173b79fa",
   "metadata": {},
   "source": [
    "1. In Multiprocessing, CPUs are added for increasing computing power.\tWhile In Multithreading, many threads are created of a single process for increasing computing power.\n",
    "2. In Multiprocessing, Many processes are executed simultaneously.\tWhile in multithreading, many threads of a process are executed simultaneously.\n",
    "3. Multiprocessing are classified into Symmetric and Asymmetric.\tWhile Multithreading is not classified in any categories.\n",
    "4. In Multiprocessing, Process creation is a time-consuming process.\tWhile in Multithreading, process creation is according to economical.\n",
    "5. In Multiprocessing, every process owned a separate address space.\tWhile in Multithreading, a common address space is shared by all the threads."
   ]
  },
  {
   "cell_type": "markdown",
   "id": "569ce32e-9a1c-4d5a-af2e-00b24fd03751",
   "metadata": {},
   "source": [
    "# Q3. Write a python code to create a process using the multiprocessing module."
   ]
  },
  {
   "cell_type": "code",
   "execution_count": 2,
   "id": "2825b97e-0d4d-42d6-a1eb-bc447e81466b",
   "metadata": {},
   "outputs": [
    {
     "name": "stdout",
     "output_type": "stream",
     "text": [
      "This is my multiprocessing programm\n"
     ]
    }
   ],
   "source": [
    "import multiprocessing\n",
    "\n",
    "def test():\n",
    "    print(\"This is my multiprocessing programm\")\n",
    "    \n",
    "if __name__==\" __main__\":\n",
    "    m = multiprocessing.Process(target = test)\n",
    "    print(\"This is my main programm\")\n",
    "    m.start()\n",
    "    m.join()\n",
    "    \n",
    "test()    "
   ]
  },
  {
   "cell_type": "markdown",
   "id": "9f661e71-52cd-46e1-9774-bc6b89f00403",
   "metadata": {},
   "source": [
    "# Q4. What is a multiprocessing pool in python? Why is it used?"
   ]
  },
  {
   "cell_type": "markdown",
   "id": "b838a95b-5664-4a3e-a37a-8ab9c756dfc8",
   "metadata": {},
   "source": [
    "1.Python multiprocessing Pool can be used for parallel execution of a function across multiple input values, distributing the input data across processes (data parallelism).\n",
    "2. Pool class when you need to execute tasks that may or may not take arguments and may or may not return a result once the tasks are complete.\n",
    "3. Pool class when you need to execute different types of ad hoc tasks, such as calling different target task functions."
   ]
  },
  {
   "cell_type": "markdown",
   "id": "c7032cd2-b97e-46c9-9170-cabb234be930",
   "metadata": {},
   "source": [
    "# Q5. How can we create a pool of worker processes in python using the multiprocessing module?"
   ]
  },
  {
   "cell_type": "markdown",
   "id": "d686176f-ef16-45b1-a70b-46d4db119b32",
   "metadata": {},
   "source": [
    "The multiprocessing.Pool provides a pool of generic worker processes.\n",
    "There are four main steps in the life-cycle of using the multiprocessing.Pool class, they are: create, submit, wait, and shutdown.\n",
    "\n",
    "1. Create: Create the process pool by calling the constructor multiprocessing.Pool().\n",
    "2. Submit: Submit tasks synchronously or asynchronously. \n",
    "3. Wait: Wait and get results as tasks complete (optional).\n",
    "4. Shutdown: Shutdown the process pool by calling shutdown().\n",
    "            Shutdown Automatically with the Context Manager"
   ]
  },
  {
   "cell_type": "markdown",
   "id": "de397ae6-c81c-4a1e-b0d6-0dc0b066c96e",
   "metadata": {},
   "source": [
    "# Q6. Write a python program to create 4 processes, each process should print a different number using the multiprocessing module in python."
   ]
  },
  {
   "cell_type": "code",
   "execution_count": 3,
   "id": "64ec35d4-0c7e-4013-85b2-5bd4a07c5c90",
   "metadata": {},
   "outputs": [
    {
     "name": "stdout",
     "output_type": "stream",
     "text": [
      "Process 1: 1\n",
      "Process 2: 2\n",
      "Process 3: 3\n",
      "Process 4: 4\n"
     ]
    }
   ],
   "source": [
    "import multiprocessing\n",
    "\n",
    "def print_number(number):\n",
    "    print(f\"Process {number}: {number}\")\n",
    "\n",
    "if __name__ == \"__main__\":\n",
    "    processes = []\n",
    "\n",
    "    for i in range(1, 5):\n",
    "        process = multiprocessing.Process(target=print_number, args=(i,))\n",
    "        processes.append(process)\n",
    "        process.start()\n",
    "\n",
    "    for process in processes:\n",
    "        process.join()\n"
   ]
  }
 ],
 "metadata": {
  "kernelspec": {
   "display_name": "Python 3 (ipykernel)",
   "language": "python",
   "name": "python3"
  },
  "language_info": {
   "codemirror_mode": {
    "name": "ipython",
    "version": 3
   },
   "file_extension": ".py",
   "mimetype": "text/x-python",
   "name": "python",
   "nbconvert_exporter": "python",
   "pygments_lexer": "ipython3",
   "version": "3.10.8"
  }
 },
 "nbformat": 4,
 "nbformat_minor": 5
}
