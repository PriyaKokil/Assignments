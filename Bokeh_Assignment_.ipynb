{
  "nbformat": 4,
  "nbformat_minor": 0,
  "metadata": {
    "colab": {
      "provenance": []
    },
    "kernelspec": {
      "name": "python3",
      "display_name": "Python 3"
    },
    "language_info": {
      "name": "python"
    }
  },
  "cells": [
    {
      "cell_type": "code",
      "execution_count": 1,
      "metadata": {
        "id": "rpz7-61sPXcR"
      },
      "outputs": [],
      "source": [
        "# Q1. How can you create a Bokeh plot using Python code?\n"
      ]
    },
    {
      "cell_type": "code",
      "source": [
        "# Install Bokeh (if not already installed):\n",
        "\n",
        "# Import the necessary modules and classes:\n",
        "\n",
        "\n",
        "from bokeh.plotting import figure, show\n",
        "\n",
        "# Sample data\n",
        "x = [1, 2, 3, 4, 5]\n",
        "y = [6, 7, 2, 4, 8]\n",
        "\n",
        "# Create a Bokeh figure\n",
        "p = figure(title=\"My Bokeh Scatter Plot\", x_axis_label=\"X-axis\", y_axis_label=\"Y-axis\")\n",
        "\n",
        "# Add a scatter plot\n",
        "p.circle(x, y, size=10, color=\"blue\", legend_label=\"Scatter\")\n",
        "\n",
        "# Show the plot\n",
        "show(p)\n"
      ],
      "metadata": {
        "id": "Ewmt0u3ZP1lg"
      },
      "execution_count": 5,
      "outputs": []
    },
    {
      "cell_type": "code",
      "source": [
        "# Q2. What are glyphs in Bokeh, and how can you add them to a Bokeh plot? Explain with an example."
      ],
      "metadata": {
        "id": "YW8jivkKPkrs"
      },
      "execution_count": null,
      "outputs": []
    },
    {
      "cell_type": "markdown",
      "source": [
        "\n",
        "In Bokeh, glyphs are visual shapes or markers that represent data points in a plot. Glyphs are the building blocks of Bokeh plots and are used to create various types of visualizations such as scatter plots, line charts, bar charts, and more. Bokeh provides a variety of glyph types that you can use to represent your data in different ways, such as circles, squares, lines, and bars.\n",
        "\n",
        "To add glyphs to a Bokeh plot, you typically use specific glyph methods provided by Bokeh's figure object. Here's an example that demonstrates how to add glyphs to a Bokeh plot:"
      ],
      "metadata": {
        "id": "pOAjqzmZRq6W"
      }
    },
    {
      "cell_type": "code",
      "source": [
        "from bokeh.plotting import figure, show\n",
        "import numpy as np\n",
        "\n",
        "# Generate some sample data\n",
        "x = np.linspace(0, 2 * np.pi, 100)\n",
        "y = np.sin(x)\n",
        "\n",
        "# Create a Bokeh figure\n",
        "p = figure(title=\"Sine Wave\", x_axis_label=\"X-axis\", y_axis_label=\"Y-axis\")\n",
        "\n",
        "# Add glyphs to the figure\n",
        "p.line(x, y, line_width=2, line_color=\"blue\", legend_label=\"Sine Wave\")\n",
        "p.circle(x, y, size=6, color=\"red\", legend_label=\"Data Points\")\n",
        "\n",
        "# Show the plot\n",
        "show(p)\n"
      ],
      "metadata": {
        "id": "m_GSqM4XRpzE"
      },
      "execution_count": 6,
      "outputs": []
    },
    {
      "cell_type": "code",
      "source": [
        "# Q3. How can you customize the appearance of a Bokeh plot, including the axes, title, and legend?\n"
      ],
      "metadata": {
        "id": "FrK5xy72Pk6A"
      },
      "execution_count": 7,
      "outputs": []
    },
    {
      "cell_type": "markdown",
      "source": [
        "1. Title and Labels:\n",
        "\n",
        "Set the title of the plot using the title attribute of the figure object:\n",
        "\n",
        "2. Axes Customization:\n",
        "\n",
        "You can customize the appearance of the axes by accessing the axis attributes of the figure object and adjusting their properties.\n",
        "\n",
        "Adjust axis labels, font size, and other attributes:\n",
        "\n",
        "3. Legend Customization:\n",
        "\n",
        "You can customize the appearance of the legend by modifying the properties of the glyph methods when you add them to the figure.\n",
        "\n",
        "Add a legend to the plot:"
      ],
      "metadata": {
        "id": "YioSpvZMR08z"
      }
    },
    {
      "cell_type": "code",
      "source": [
        "# Q4. What is a Bokeh server, and how can you use it to create interactive plots that can be updated in real time?"
      ],
      "metadata": {
        "id": "FI1fO2BYPlFF"
      },
      "execution_count": 8,
      "outputs": []
    },
    {
      "cell_type": "code",
      "source": [],
      "metadata": {
        "id": "TzQWUHoESUDn"
      },
      "execution_count": null,
      "outputs": []
    },
    {
      "cell_type": "markdown",
      "source": [
        "Bokeh server makes it easy to create interactive web applications that connect front-end UI events to running Python code.\n",
        "\n",
        "Bokeh creates high-level Python models, such as plots, ranges, axes, and glyphs, and then converts these objects to JSON to pass them to its client library, BokehJS. For more information on the latter, see Contributing to BokehJS.\n",
        "\n",
        "This flexible and decoupled design offers some advantages. For instance, it is easy to have other languages, such as R or Scala, drive Bokeh plots and visualizations in the browser.\n",
        "\n",
        "However, keeping these models in sync between the Python environment and the browser would provide further powerful capabilities:\n",
        "\n",
        "respond to UI and tool events in the browser with computations or queries using the full power of Python\n",
        "\n",
        "automatically push server-side updates to the UI elements such as widgets or plots in the browser\n",
        "\n",
        "use periodic, timeout, and asynchronous callbacks to drive streaming updates"
      ],
      "metadata": {
        "id": "hrGClhC-Se5L"
      }
    },
    {
      "cell_type": "code",
      "source": [
        "# Q5. How can you embed a Bokeh plot into a web page or dashboard using Flask or Django?"
      ],
      "metadata": {
        "id": "0YpAdhNYSgLB"
      },
      "execution_count": 9,
      "outputs": []
    },
    {
      "cell_type": "markdown",
      "source": [
        "Step 1: Setting up a basic Django project\n",
        "For this project, we are using PyCharm IDE. PyCharm is one of the most popular IDE used for the python Scripting language.\n",
        "\n",
        "Open PyCharm and create a new project and save it as BokehProject.\n",
        "Go to the terminal and install Django using the command:\n",
        "pip install django\n",
        "In the same way, we will install bokeh in our project as:\n",
        "pip install bokeh\n",
        "Step 2: Create the Django project  \n",
        "Create a Django project using the following command:\n",
        "django-admin startproject BokehDjango\n",
        "Change the project folder using the below command:\n",
        "cd BokehDjango\n",
        "Run manage.py to initially migrate data changes to our project by using migrate as below\n",
        "python manage.py migrate\n",
        "Create a superuser using the following command to create a superuser account\n",
        "python manage.py createsuperuser  \n",
        "Add the name, email, and password."
      ],
      "metadata": {
        "id": "G7z68Kc4SuFj"
      }
    },
    {
      "cell_type": "code",
      "source": [],
      "metadata": {
        "id": "oWgIkijiS0Nz"
      },
      "execution_count": null,
      "outputs": []
    }
  ]
}