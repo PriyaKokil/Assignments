{
 "cells": [
  {
   "cell_type": "markdown",
   "id": "c1cf210b-a59b-4099-a978-f8c276a29720",
   "metadata": {},
   "source": [
    "# Q1. What is an API? Give an example, where an API is used in real life.\n"
   ]
  },
  {
   "cell_type": "markdown",
   "id": "461f88b2-a02e-452f-9771-22c9cdeb94ec",
   "metadata": {},
   "source": [
    "An API is a communication interface that allows two separate software components to share data. \n",
    "An API operates as a bridge between internal and external software operations, allowing for a fluid interchange of data that frequently passes undetected by the end-user. \n",
    "Simply said, an API acts as a virtual middleman, transferring data from one interface, such as a mobile app, to another. \n",
    "APIs connect various sections of a software platform to guarantee that information is sent correctly. \n",
    "These connection points serve as an internal communication route, and a way for external tools to access the same data. \n",
    "As a result, APIs may be classified into two types:\n",
    "\n",
    "1. Private APIs:\n",
    "A private API is only available to developers and users within a company. \n",
    "These APIs are often used to link internal team operations to remove silos and streamline communication.\n",
    "\n",
    "2. Open APIs: \n",
    "On the other hand, open APIs allow third-party developers to quickly access and merge data from one tool to another. \n",
    "An open or public API saves time for developers by allowing them to link their platform with already existing tools, minimizing the need to construct new services.\n",
    "\n",
    "API Real life examples :\n",
    "\n",
    "1. Private APIs are used by financial organizations such as banks to track and manage checking accounts, credit cards, and other accounts.\n",
    "2. APIs are used by retail companies to connect with courier networks, ensuring that shipments are picked up as soon as possible and tracked as they move.\n",
    "3. APIs are used in web applications to connect user-facing front ends with critical back-end functionality and data.\n",
    "4. APIs are used to deliver material by streaming services such as Spotify and Netflix.\n",
    "5. APIs are used by automakers such as Tesla to provide software upgrades. Others utilize APIs to make automotive data available to third parties."
   ]
  },
  {
   "cell_type": "markdown",
   "id": "ebe76e8a-3e49-4182-870b-b73ec8d09903",
   "metadata": {},
   "source": [
    "# Q2. Give advantages and disadvantages of using API."
   ]
  },
  {
   "cell_type": "markdown",
   "id": "882398c5-f128-404c-bb8f-2f4e43a20f65",
   "metadata": {},
   "source": [
    "1. Security Concerns: API infrastructures can be vulnerable to security breaches, such as SQL injection attacks and cross-site scripting (XSS) attacks, making it crucial to implement security measures to protect against these threats.\n",
    "2. Complexity: APIs can be complex, requiring a significant amount of development effort to implement and maintain.\n",
    "3. Compatibility Issues: APIs can have compatibility issues between different versions of the same software system or between different systems, which can lead to errors and system failures.\n",
    "4. Dependency on Third-Party Developers: APIs rely on third-party developers to create applications that integrate with the software system. This can create dependencies that are outside of the control of the company that owns the software system.\n",
    "5. Governance and Management: APIs require proper governance and management to ensure they are being used correctly and consistently across different applications and systems."
   ]
  },
  {
   "cell_type": "markdown",
   "id": "63654864-687c-4393-b46f-d22964ac212e",
   "metadata": {},
   "source": [
    "# Q3. What is a Web API? Differentiate between API and Web API."
   ]
  },
  {
   "cell_type": "markdown",
   "id": "450b8405-a4ff-4fdd-bf89-f3b48c4ae25b",
   "metadata": {},
   "source": [
    "API is an application programming interface (API) is a set of subroutine definitions, protocols, and tools for building software and applications.\n",
    "To put it in simple terms, API is some kind of interface which has a set of functions that allow programmers to access specific features or data of an application, operating system or other services.\n",
    "Web API as the name suggests, is an API over the web which can be accessed using HTTP protocol. It is a concept and not a technology.\n",
    "The web API can be developed by using different technologies such as java, ASP.NET, etc. \n",
    "Web API is used in either a web server or a web browser. Basically Web API is a web development concept.\n",
    "It is limited to Web Application’s client-side and also it does not include a web server or web browser details. \n",
    "If an application is to be used on a distributed system and to provide services on different devices like laptops, mobiles, etc then web API services are used. \n",
    "Web API is the enhanced form of the web application.\n",
    "\n",
    "## Differnce between API & Web API\n",
    "\n",
    "1. Web services are a type of API, which must be accessed through a network connection.\tAPIs are application interfaces, implying that one application can communicate with another application in a standardized manner.\n",
    "2. Web service is used for REST, SOAP and XML-RPC for communication.\tAPI is used for any style of communication.\n",
    "3. All Web services are APIs.\tAPIs are not web services.\n",
    "4. It doesn’t have lightweight design, needs a SOAP convention to send or receive data over the system.\tIt has a light-weight architecture furthermore, useful for gadgets which have constrained transmission capacity like smart phones.\n",
    "5. It provides supports only for the HTTP protocol.\tIt provides support for the HTTP/s protocol: URL Request/Response Headers, and so on.\n",
    "6. It is not open source, however, can be devoured by any customer that comprehends xml.\tIt is an open source and also ships with .NET framework.\n"
   ]
  },
  {
   "cell_type": "markdown",
   "id": "7e0291ae-4881-4b57-bc61-eed5f695be90",
   "metadata": {},
   "source": [
    "# Q4. Explain REST and SOAP Architecture. Mention shortcomings of SOAP."
   ]
  },
  {
   "cell_type": "markdown",
   "id": "5740ee31-8938-45be-982e-9f729f2fee32",
   "metadata": {},
   "source": [
    "REST :\n",
    "REST stands for REpresentational State Transfer and API stands for Application Program Interface. REST is a software architectural style that defines the set of rules to be used for creating web services. Web services which follow the REST architectural style are known as RESTful web services. It allows requesting systems to access and manipulate web resources by using a uniform and predefined set of rules. Interaction in REST based systems happen through Internet’s Hypertext Transfer Protocol (HTTP). \n",
    "A Restful system consists of a:\n",
    "\n",
    "client who requests for the resources.\n",
    "server who has the resources.\n",
    "It is important to create REST API according to industry standards which results in ease of development and increase client adoption. \n",
    "\n",
    "Architectural Constraints of RESTful API: There are six architectural constraints which makes any web service are listed below:\n",
    "1. Uniform Interface\n",
    "It is a key constraint that differentiate between a REST API and Non-REST API. \n",
    "It suggests that there should be an uniform way of interacting with a given server irrespective of device or type of application (website, mobile app). \n",
    "\n",
    "2. Stateless\n",
    " It means that the necessary state to handle the request is contained within the request itself and server would not store anything related to the session. \n",
    "In REST, the client must include all information for the server to fulfill the request whether as a part of query params, headers or URI.\n",
    "\n",
    "3. Cacheable\n",
    "Every response should include whether the response is cacheable or not and for how much duration responses can be cached at the client side. \n",
    "Client will return the data from its cache for any subsequent request and there would be no need to send the request again to the server.\n",
    "\n",
    "4. Client-Server\n",
    "REST application should have a client-server architecture. \n",
    "A Client is someone who is requesting resources and are not concerned with data storage, which remains internal to each server, and server is someone who holds the resources and are not concerned with the user interface or user state. \n",
    "\n",
    "5. Layered System\n",
    "An application architecture needs to be composed of multiple layers.\n",
    "Each layer doesn’t know any thing about any layer other than that of immediate layer and there can be lot of intermediate servers between client and the end server. \n",
    "\n",
    "6. Code on Demand\n",
    "It is an optional feature. According to this, servers can also provide executable code to the client. \n",
    "The examples of code on demand may include the compiled components such as Java Servlets and Server-Side Scripts such as JavaScript. "
   ]
  },
  {
   "cell_type": "markdown",
   "id": "030527c9-cf96-44bc-a172-923b93af3e2d",
   "metadata": {},
   "source": [
    "# SOAP\n",
    "Simple Object Access Protocol(SOAP) is a network protocol for exchanging structured data between nodes. It uses XML format to transfer messages. It works on top of application layer protocols like HTML and SMTP for notations and transmission. SOAP allows processes to communicate throughout platforms, languages and operating systems, since protocols like HTTP are already installed on all platforms.\n",
    "SOAP was designed by Bob Atkinson, Don Box, Dave Winer, and Mohsen Al-Ghosein at Microsoft in 1998. SOAP was maintained by the XML Protocol Working Group of the World Wide Web Consortium until 2009.\n",
    "\n",
    "Message Format:\n",
    "\n",
    "SOAP message transmits some basic information as given below\n",
    "Information about message structure and instructions on processing it.\n",
    "Encoding instructions for application defined data types.\n",
    "Information about Remote Procedure Calls and their responses.\n",
    "The message in XML format contains three parts\n",
    "1. Envelope:\n",
    "It specifies that the XML message is a SOAP message. A SOAP message can be defined as an XML document containing header and body encapsulated in the envelope. The fault is within the body of the message.\n",
    "2. Header:\n",
    "This part is not mandatory. But when it is present it can provide crucial information about the applications.\n",
    "3. Body:\n",
    "It contains the actual message that is being transmitted. Fault is contained within the body tags.\n",
    "4. Fault:\n",
    "This section contains the status of the application and also contains errors in the application. This section is also optional. It should not appear more than once in a SOAP message."
   ]
  },
  {
   "cell_type": "markdown",
   "id": "ce4f14ab-b91c-4022-98cd-77aeb97d6638",
   "metadata": {},
   "source": [
    "# Q5. Differentiate between REST and SOAP."
   ]
  },
  {
   "cell_type": "markdown",
   "id": "d99b63e4-96cd-4305-9da8-a2c8e584863f",
   "metadata": {},
   "source": [
    "1. SOAP stands for Simple Object Access Protocol and REST stands for Representational State Transfer.\n",
    "2. Since SOAP is a protocol, it follows a strict standard to allow communication between the client and the server whereas REST is an architectural style that doesn’t follow any strict standard but follows six constraints defined by Roy Fielding in 2000. Those constraints are – Uniform Interface, Client-Server, Stateless, Cacheable, Layered System, Code on Demand.\n",
    "3. SOAP uses only XML for exchanging information in its message format whereas REST is not restricted to XML and its the choice of implementer which Media-Type to use like XML, JSON, Plain-text. Moreover, REST can use SOAP protocol but SOAP cannot use REST.\n",
    "4. On behalf of services interfaces to business logic, SOAP uses @WebService whereas REST instead of using interfaces uses URI like @Path.\n",
    "5. SOAP is difficult to implement and it requires more bandwidth whereas REST is easy to implement and requires less bandwidth such as smartphones.\n",
    "6. Benefits of SOAP over REST as SOAP has ACID compliance transaction. Some of the applications require transaction ability which is accepted by SOAP whereas REST lacks in it.\n",
    "7. On the basis of Security, SOAP has SSL( Secure Socket Layer) and WS-security whereas REST has SSL and HTTPS. In the case of Bank Account Password, Card Number, etc. SOAP is preferred over REST. The security issue is all about your application requirement, you have to build security on your own. It’s about what type of protocol you use.\n",
    "8. SOAP cannot make use of REST since SOAP is a protocol without any architectural pattern. REST can make use of SOAP because it is an architectural pattern having protocol."
   ]
  },
  {
   "cell_type": "code",
   "execution_count": null,
   "id": "00f1e246-af9d-4a8a-a5c2-cb61eb2ebb57",
   "metadata": {},
   "outputs": [],
   "source": []
  }
 ],
 "metadata": {
  "kernelspec": {
   "display_name": "Python 3 (ipykernel)",
   "language": "python",
   "name": "python3"
  },
  "language_info": {
   "codemirror_mode": {
    "name": "ipython",
    "version": 3
   },
   "file_extension": ".py",
   "mimetype": "text/x-python",
   "name": "python",
   "nbconvert_exporter": "python",
   "pygments_lexer": "ipython3",
   "version": "3.10.8"
  }
 },
 "nbformat": 4,
 "nbformat_minor": 5
}
