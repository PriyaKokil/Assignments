{
 "cells": [
  {
   "cell_type": "markdown",
   "id": "151dacb8-481a-47ea-a57b-ef558b4dafb4",
   "metadata": {},
   "source": [
    "# Q1. What is MongoDB? Explain non-relational databases in short. In which scenarios it is preferred to use MongoDB over SQL databases?"
   ]
  },
  {
   "cell_type": "markdown",
   "id": "0a18c787-1b89-4757-8d2c-b3572e74e3a3",
   "metadata": {},
   "source": [
    "1. MongoDB stores data in flexible, JSON-like documents, meaning fields can vary from document to document and data structure can be changed over time\n",
    "2. The document model maps to the objects in your application code, making data easy to work with\n",
    "3. Ad hoc queries, indexing, and real time aggregation provide powerful ways to access and analyze your data\n",
    "4. MongoDB is a distributed database at its core, so high availability, horizontal scaling, and geographic distribution are built in and easy to use\n",
    "5. Non-relational databases are often used when large quantities of complex and diverse data need to be organized.\n",
    "6. For example, a large store might have a database in which each customer has their own document containing all of their information, from name and address to order history and credit card information.\n",
    "7. In comparison to the SQL server, MongoDB is faster and more scalable. \n",
    "8. While the SQL server supports JOIN and Global transactions, MongoDB does not.\n",
    "9. The MS SQL server does not accommodate large amounts of data, however MongoDB does."
   ]
  },
  {
   "cell_type": "markdown",
   "id": "843e676f-f8fb-4f11-a1ff-8afa328c3d5f",
   "metadata": {},
   "source": [
    "# Q2. State and Explain the features of MongoDB."
   ]
  },
  {
   "cell_type": "raw",
   "id": "28fd5655-3c37-462b-8b4c-9b2254d6fa62",
   "metadata": {},
   "source": [
    "1. Ad-hoc queries for optimized, real-time analytics\n",
    "When designing the schema of a database, it is impossible to know in advance all the queries that will be performed by end users. \n",
    "An ad hoc query is a short-lived command whose value depends on a variable. \n",
    "Each time an ad hoc query is executed, the result may be different, depending on the variables in question.\n",
    "\n",
    "2. Indexing appropriately for better query executions\n",
    "In our experience, the number one issue that many technical support teams fail to address with their users is indexing. \n",
    "Done right, indexes are intended to improve search speed and performance.\n",
    "\n",
    "3. Replication for better data availability and stability\n",
    "When your data only resides in a single database, it is exposed to multiple potential points of failure, such as a server crash, service interruptions, or even good old hardware failure.\n",
    "\n",
    "4. Sharding\n",
    "When dealing with particularly large datasets, sharding—the process of splitting larger datasets across multiple distributed collections, or “shards”—helps the database distribute and better execute what might otherwise be problematic and cumbersome queries. \n",
    "\n",
    "5. Load balancing\n",
    "At the end of the day, optimal load balancing remains one of the holy grails of large-scale database management for growing enterprise applications. Properly distributing millions of client requests to hundreds or thousands of servers can lead to a noticeable (and much appreciated) difference in performance."
   ]
  },
  {
   "cell_type": "markdown",
   "id": "2bf9962b-868c-4e54-bcd6-33643f749fc4",
   "metadata": {},
   "source": [
    "# Q3. Write a code to connect MongoDB to Python. Also, create a database and a collection in MongoDB."
   ]
  },
  {
   "cell_type": "raw",
   "id": "974e68c8-4cce-46f5-b342-1b880893f8d8",
   "metadata": {},
   "source": [
    "# importing module\n",
    "from pymongo import MongoClient\n",
    "  \n",
    "# creation of MongoClient\n",
    "client=MongoClient()\n",
    "  \n",
    "# Connect with the portnumber and host\n",
    "client = MongoClient(\"mongodb://localhost:27017/\")\n",
    "  \n",
    "# Access database\n",
    "mydatabase = client['name_of_the_database']\n",
    "  \n",
    "# Access collection of the database\n",
    "mycollection=mydatabase['myTable']\n",
    "  \n",
    "# dictionary to be added in the database\n",
    "rec={\n",
    "title: 'MongoDB and Python', \n",
    "description: 'MongoDB is no SQL database', \n",
    "tags: ['mongodb', 'database', 'NoSQL'], \n",
    "viewers: 104 \n",
    "}"
   ]
  },
  {
   "cell_type": "markdown",
   "id": "51017145-54ac-405f-a1e3-d489c3b2a9ef",
   "metadata": {},
   "source": [
    "# Q4. Using the database and the collection created in question number 3, write a code to insert one record, and insert many records. Use the find() and find_one() methods to print the inserted record."
   ]
  },
  {
   "cell_type": "raw",
   "id": "56b79a18-e875-493d-8488-955efd94909b",
   "metadata": {},
   "source": [
    "# importing Mongoclient from pymongo\n",
    "from pymongo import MongoClient\n",
    " \n",
    "# Making Connection\n",
    "myclient = MongoClient(\"mongodb://localhost:27017/\")\n",
    " \n",
    "# database\n",
    "db = myclient[\"GFG\"]\n",
    " \n",
    "# Created or Switched to collection\n",
    "# names: GeeksForGeeks\n",
    "collection = db[\"Student\"]\n",
    " \n",
    "# Creating Dictionary of records to be\n",
    "# inserted\n",
    "record = { \"_id\": 5,\n",
    "          \"name\": \"Raju\",\n",
    "          \"Roll No\": \"1005\",\n",
    "          \"Branch\": \"CSE\"}\n",
    " \n",
    " \n",
    " \n",
    "# Inserting the record1 in the collection\n",
    "# by using collection.insert_one()\n",
    "rec_id1 = collection.insert_one(record)"
   ]
  },
  {
   "cell_type": "markdown",
   "id": "5a948d74-fd1b-49a9-9dde-af68bc9e30b0",
   "metadata": {},
   "source": [
    "# Q5. Explain how you can use the find() method to query the MongoDB database. Write a simple code to demonstrate this."
   ]
  },
  {
   "cell_type": "raw",
   "id": "8fc75483-4238-4031-818e-0c01316cbcc0",
   "metadata": {},
   "source": [
    "In MongoDB, find() method is used to select documents in a collection and return a cursor to the selected documents. \n",
    "The basic syntax of find() method is as follows −\n",
    "\n",
    "db.COLLECTION_NAME.find()"
   ]
  },
  {
   "cell_type": "raw",
   "id": "13d15fdc-7d99-4061-a065-e08833059b42",
   "metadata": {},
   "source": [
    "# importing Mongoclient from pymongo\n",
    "from pymongo import MongoClient\n",
    " \n",
    "# Making Connection\n",
    "myclient = MongoClient(\"mongodb://localhost:27017/\")\n",
    " \n",
    "# database\n",
    "db = myclient[\"GFG\"]\n",
    " \n",
    "# Created or Switched to collection\n",
    "# names: GeeksForGeeks\n",
    "collection = db[\"Student\"]\n",
    " \n",
    "# Creating Dictionary of records to be\n",
    "# inserted\n",
    "record = { \"_id\": 5,\n",
    "          \"name\": \"Raju\",\n",
    "          \"Roll No\": \"1005\",\n",
    "          \"Branch\": \"CSE\"}\n",
    " \n",
    " \n",
    " \n",
    "# Inserting the record1 in the collection\n",
    "# by using collection.insert_one()\n",
    "rec_id1 = collection.insert_one(record)\n",
    "db.collection.find()"
   ]
  },
  {
   "cell_type": "markdown",
   "id": "41d4bfc7-c591-4007-a137-885d35750649",
   "metadata": {},
   "source": [
    "# Q6. Explain the sort() method. Give an example to demonstrate sorting in MongoDB."
   ]
  },
  {
   "cell_type": "raw",
   "id": "56ffbe64-26c9-4b4a-82a4-6da40b644102",
   "metadata": {},
   "source": [
    "The sort() method specifies the order in which the query returns the matching documents from the given collection.\n",
    "syntax : \n",
    "\n",
    "db.Collection_Name.sort({field_name:1 or -1})\n",
    "\n",
    "Example :\n",
    "\n",
    "# importing Mongoclient from pymongo\n",
    "from pymongo import MongoClient\n",
    " \n",
    "# Making Connection\n",
    "myclient = MongoClient(\"mongodb://localhost:27017/\")\n",
    " \n",
    "# database\n",
    "db = myclient[\"GFG\"]\n",
    " \n",
    "# Created or Switched to collection\n",
    "# names: GeeksForGeeks\n",
    "collection = db[\"Student\"]\n",
    "db.collection.sort({\"name\"})\n"
   ]
  },
  {
   "cell_type": "markdown",
   "id": "d8d4d581-403f-40e6-b180-f9377d7a5c35",
   "metadata": {},
   "source": [
    "# Q7. Explain why delete_one(), delete_many(), and drop() is used."
   ]
  },
  {
   "cell_type": "raw",
   "id": "8b20758d-c231-457e-a5a2-d63efb58a315",
   "metadata": {},
   "source": [
    "To delete one document, we use the delete_one() method.\n",
    "To delete more than one document, use the delete_many() method.\n",
    "You can delete a table, or collection as it is called in MongoDB, by using the drop() method."
   ]
  }
 ],
 "metadata": {
  "kernelspec": {
   "display_name": "Python 3 (ipykernel)",
   "language": "python",
   "name": "python3"
  },
  "language_info": {
   "codemirror_mode": {
    "name": "ipython",
    "version": 3
   },
   "file_extension": ".py",
   "mimetype": "text/x-python",
   "name": "python",
   "nbconvert_exporter": "python",
   "pygments_lexer": "ipython3",
   "version": "3.10.8"
  }
 },
 "nbformat": 4,
 "nbformat_minor": 5
}
