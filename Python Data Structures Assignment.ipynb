{
 "cells": [
  {
   "cell_type": "markdown",
   "id": "cea31a8e-890b-4915-a61a-d7c233270ae5",
   "metadata": {},
   "source": [
    "## Q1. How do you comment code in Python? What are the different types of comments?"
   ]
  },
  {
   "cell_type": "markdown",
   "id": "da68ece8-04ce-4086-9a2d-354528c06ddf",
   "metadata": {},
   "source": [
    "* Comment : These are the lines in the code that are ignored by the interpreter during the execution of the program and makes code easily understandable.\n",
    "\n",
    "* There are three types of comment :\n",
    "    \n",
    "1.Single Line Comment = Represented by # symbol\n",
    "\n",
    "Example : #This is single line comment\n",
    "    \n",
    "2.Multiline Comment = It is represented by \"\"\" \"\"\" or ''' ''' symbol\n",
    "\n",
    "Example : ''' This is Multiline Comment'''\n",
    "\n",
    "3.Docstring Comment = This are given after writing a function\n",
    "\n",
    "Example : \n",
    "    def multiply(a, b):\n",
    "    \"\"\"Multiplies the value of a and b\"\"\"\n",
    "    return a*b\n",
    "\n"
   ]
  },
  {
   "cell_type": "markdown",
   "id": "8a6ef60a-1d63-4a19-b203-0bda153f6148",
   "metadata": {},
   "source": [
    "## Q2. What are variables in Python? How do you declare and assign values to variables?"
   ]
  },
  {
   "cell_type": "markdown",
   "id": "e908888c-9343-4ff9-bbb7-f6eeac5e9632",
   "metadata": {},
   "source": [
    "* Variable = A variable is a string of characters and numbers associated with a piece of information.\n",
    "           It act as a container that stores value in any form.\n",
    "    \n",
    "* Variable Declaration :\n",
    "The assignment operator, denoted by the “=” symbol, is the operator that is used to assign values to variables in Python.\n",
    "\n",
    "* Rules of creating Variable \n",
    "1. A variable name must start with a letter or the underscore character.\n",
    "2. A variable name cannot start with a number.\n",
    "3. A variable name can only contain alpha-numeric characters and underscores \n",
    "4. Variable names are case-sensitive \n"
   ]
  },
  {
   "cell_type": "code",
   "execution_count": 6,
   "id": "21314c81-14d8-45eb-8fd6-649221cbaf81",
   "metadata": {},
   "outputs": [],
   "source": [
    "# Example \n",
    "\n",
    "\n",
    "a_int = 1234\n",
    "b_str = \"Data Science \"\n",
    "c_float = 45.78\n",
    "\n"
   ]
  },
  {
   "cell_type": "markdown",
   "id": "1689491d-1b69-4529-abfc-9fc589ede632",
   "metadata": {},
   "source": [
    "## Q3. How do you convert one data type to another in Python?"
   ]
  },
  {
   "cell_type": "markdown",
   "id": "97834221-006f-4fca-bfb2-fc1915994f4d",
   "metadata": {},
   "source": [
    "To Convert one data type into another in another \"Type Casting\" method is used.\n",
    "\n",
    "We can convert any data type into another by using typecasting.\n"
   ]
  },
  {
   "cell_type": "code",
   "execution_count": 8,
   "id": "9e307514-c8ad-4e13-8e49-207b1074c30c",
   "metadata": {},
   "outputs": [
    {
     "data": {
      "text/plain": [
       "89.0"
      ]
     },
     "execution_count": 8,
     "metadata": {},
     "output_type": "execute_result"
    }
   ],
   "source": [
    "# Converting int into flot\n",
    "a = 89\n",
    "\n",
    "float(a)"
   ]
  },
  {
   "cell_type": "code",
   "execution_count": 9,
   "id": "7ead77f2-4381-44cb-ac65-93a3f87fa9ff",
   "metadata": {},
   "outputs": [
    {
     "data": {
      "text/plain": [
       "'789'"
      ]
     },
     "execution_count": 9,
     "metadata": {},
     "output_type": "execute_result"
    }
   ],
   "source": [
    "# Converting int to string\n",
    "\n",
    "a = 789\n",
    "str(a)"
   ]
  },
  {
   "cell_type": "code",
   "execution_count": 10,
   "id": "7871fc68-ea9c-4fa5-abd1-7ab22a24bf09",
   "metadata": {},
   "outputs": [
    {
     "data": {
      "text/plain": [
       "789"
      ]
     },
     "execution_count": 10,
     "metadata": {},
     "output_type": "execute_result"
    }
   ],
   "source": [
    "# Converting float into int\n",
    "\n",
    "c = 789.678\n",
    "int(c)"
   ]
  },
  {
   "cell_type": "markdown",
   "id": "f43f5556-c5c1-49cc-9565-b0ec9d9384ea",
   "metadata": {},
   "source": [
    "## Q4. How do you write and execute a Python script from the command line?"
   ]
  },
  {
   "cell_type": "markdown",
   "id": "8a0dff36-3999-4ad6-88b9-d73ef5620c23",
   "metadata": {},
   "source": [
    "* A plain text file containing Python code that is intended to be directly executed by the user is usually called script\n",
    "\n",
    "* We can run script using below options:\n",
    "\n",
    "1. The operating system command-line or terminal\n",
    "2. The Python interactive mode\n",
    "3. The IDE or text editor you like best\n",
    "4. The file manager of your system, by double-clicking on the icon of your script"
   ]
  },
  {
   "cell_type": "markdown",
   "id": "37e1ba88-c0e1-49e6-8876-64820df781de",
   "metadata": {},
   "source": [
    "## Q5. Given a list my_list = [1, 2, 3, 4, 5], write the code to slice the list and obtain the sub-list [2, 3]."
   ]
  },
  {
   "cell_type": "code",
   "execution_count": null,
   "id": "3c29c76e-7e91-4555-89a3-edfa5ee6c702",
   "metadata": {},
   "outputs": [
    {
     "data": {
      "text/plain": [
       "[2, 3]"
      ]
     },
     "execution_count": 11,
     "metadata": {},
     "output_type": "execute_result"
    }
   ],
   "source": [
    "my_list = [1, 2, 3, 4, 5]\n",
    "my_list[1:3]   #Sub-list is obtained after slicing"
   ]
  },
  {
   "cell_type": "markdown",
   "id": "29ecff26-6b07-47c0-8e87-0ac92cd703ad",
   "metadata": {},
   "source": [
    "## Q6. What is a complex number in mathematics, and how is it represented in Python?"
   ]
  },
  {
   "cell_type": "markdown",
   "id": "836358ea-46af-4a6c-bfa4-a2af4cd87fbf",
   "metadata": {},
   "source": [
    "* Complex Number - It is an combination of real number and imaginary number\n",
    "It is represented as (x + yj) where x and y are real numbers and j is an imaginary number\n",
    "\n",
    "* In python we use Complex function to create complex number"
   ]
  },
  {
   "cell_type": "code",
   "execution_count": 12,
   "id": "a51ad3cc-3b9a-4099-83a8-0941e2d3fdfc",
   "metadata": {},
   "outputs": [
    {
     "name": "stdout",
     "output_type": "stream",
     "text": [
      "Output: (5+7j)\n"
     ]
    }
   ],
   "source": [
    "z = complex(5, 7)\n",
    "print(\"Output:\", z)"
   ]
  },
  {
   "cell_type": "code",
   "execution_count": 13,
   "id": "a8f082fe-9eb0-472e-be3b-763a6cb57085",
   "metadata": {},
   "outputs": [
    {
     "name": "stdout",
     "output_type": "stream",
     "text": [
      "(7+0j)\n"
     ]
    }
   ],
   "source": [
    "a = complex(7,0)\n",
    "print(a)"
   ]
  },
  {
   "cell_type": "markdown",
   "id": "d47e6e43-ce5f-440e-9b00-66b49d65e834",
   "metadata": {},
   "source": [
    "## Q7. What is the correct way to declare a variable named age and assign the value 25 to it?"
   ]
  },
  {
   "cell_type": "code",
   "execution_count": 14,
   "id": "d29f6973-07d0-4be4-beb7-038c44215560",
   "metadata": {},
   "outputs": [],
   "source": [
    "# Variable declaration\n",
    "\n",
    "age = 25"
   ]
  },
  {
   "cell_type": "code",
   "execution_count": 15,
   "id": "7fe6d90e-b7a6-4ac0-8bd6-87f47ed0d912",
   "metadata": {},
   "outputs": [
    {
     "data": {
      "text/plain": [
       "25"
      ]
     },
     "execution_count": 15,
     "metadata": {},
     "output_type": "execute_result"
    }
   ],
   "source": [
    "# Print age\n",
    "\n",
    "age"
   ]
  },
  {
   "cell_type": "markdown",
   "id": "21d8ed29-5081-4f9a-8128-ceaad3729574",
   "metadata": {},
   "source": [
    "## Q8. Declare a variable named price and assign the value 9.99 to it. What data type does this variable belong to?"
   ]
  },
  {
   "cell_type": "code",
   "execution_count": 16,
   "id": "10371248-20cb-416f-a88d-0d5c2a43d0a2",
   "metadata": {},
   "outputs": [],
   "source": [
    "price = 9.99"
   ]
  },
  {
   "cell_type": "code",
   "execution_count": 17,
   "id": "e05c2286-a33d-4c2f-9c17-8ed6be1bd2f3",
   "metadata": {},
   "outputs": [
    {
     "data": {
      "text/plain": [
       "9.99"
      ]
     },
     "execution_count": 17,
     "metadata": {},
     "output_type": "execute_result"
    }
   ],
   "source": [
    "price"
   ]
  },
  {
   "cell_type": "code",
   "execution_count": 18,
   "id": "7459f5e7-1079-4693-9605-8a255baba0bd",
   "metadata": {},
   "outputs": [
    {
     "data": {
      "text/plain": [
       "float"
      ]
     },
     "execution_count": 18,
     "metadata": {},
     "output_type": "execute_result"
    }
   ],
   "source": [
    "type(price)"
   ]
  },
  {
   "cell_type": "markdown",
   "id": "8faea2d4-bd5a-4f22-be78-98d10699d143",
   "metadata": {},
   "source": [
    "## Q9. Create a variable named name and assign your full name to it as a string. How would you print the value of this variable?"
   ]
  },
  {
   "cell_type": "code",
   "execution_count": 19,
   "id": "c64149ce-df66-403e-8492-79f559b82735",
   "metadata": {},
   "outputs": [],
   "source": [
    "name = \"Priya Umesh Kokil\""
   ]
  },
  {
   "cell_type": "code",
   "execution_count": 20,
   "id": "408c108f-944e-4f95-b0a7-5e03e9dd4534",
   "metadata": {},
   "outputs": [
    {
     "data": {
      "text/plain": [
       "'Priya Umesh Kokil'"
      ]
     },
     "execution_count": 20,
     "metadata": {},
     "output_type": "execute_result"
    }
   ],
   "source": [
    "name"
   ]
  },
  {
   "cell_type": "code",
   "execution_count": 21,
   "id": "8a1afac7-b60a-4a67-b95b-1860a0667b78",
   "metadata": {},
   "outputs": [
    {
     "name": "stdout",
     "output_type": "stream",
     "text": [
      "My name is  Priya Umesh Kokil\n"
     ]
    }
   ],
   "source": [
    "print(\"My name is \", name)"
   ]
  },
  {
   "cell_type": "code",
   "execution_count": 22,
   "id": "7f70f810-779b-49e1-b202-80144687b25c",
   "metadata": {},
   "outputs": [
    {
     "name": "stdout",
     "output_type": "stream",
     "text": [
      "My name is Priya Umesh Kokil\n"
     ]
    }
   ],
   "source": [
    "print(\"My name is {}\".format(name))"
   ]
  },
  {
   "cell_type": "markdown",
   "id": "45f7ef35-c975-4547-838b-deeda93effd0",
   "metadata": {},
   "source": [
    "## Q10. Given the string \"Hello, World!\", extract the substring \"World\"."
   ]
  },
  {
   "cell_type": "code",
   "execution_count": 23,
   "id": "a3338b42-eb3a-4383-8c89-121f362ba12a",
   "metadata": {},
   "outputs": [],
   "source": [
    "string = \"Hello, World\"\n"
   ]
  },
  {
   "cell_type": "code",
   "execution_count": 24,
   "id": "178f8637-38b7-41e3-9bde-6c407b2a010b",
   "metadata": {},
   "outputs": [
    {
     "data": {
      "text/plain": [
       "'Hello, World'"
      ]
     },
     "execution_count": 24,
     "metadata": {},
     "output_type": "execute_result"
    }
   ],
   "source": [
    "string"
   ]
  },
  {
   "cell_type": "code",
   "execution_count": 27,
   "id": "7f053c41-3efa-4033-abc7-d6ef3c8ed554",
   "metadata": {},
   "outputs": [
    {
     "data": {
      "text/plain": [
       "'World'"
      ]
     },
     "execution_count": 27,
     "metadata": {},
     "output_type": "execute_result"
    }
   ],
   "source": [
    "string[7:]"
   ]
  },
  {
   "cell_type": "markdown",
   "id": "a45154da-5561-45ac-a722-712b7fc2ceea",
   "metadata": {},
   "source": [
    "## Q11. Create a variable named \"is_student\" and assign it a boolean value indicating whether you are currently a student or not."
   ]
  },
  {
   "cell_type": "code",
   "execution_count": 29,
   "id": "876dc832-1ac2-4e5a-98a1-d9126c48e440",
   "metadata": {},
   "outputs": [],
   "source": [
    "is_student = True"
   ]
  },
  {
   "cell_type": "code",
   "execution_count": 31,
   "id": "699c12e4-bc45-4221-9d56-05feb63a2e1f",
   "metadata": {},
   "outputs": [
    {
     "data": {
      "text/plain": [
       "True"
      ]
     },
     "execution_count": 31,
     "metadata": {},
     "output_type": "execute_result"
    }
   ],
   "source": [
    "is_student"
   ]
  }
 ],
 "metadata": {
  "kernelspec": {
   "display_name": "Python 3 (ipykernel)",
   "language": "python",
   "name": "python3"
  },
  "language_info": {
   "codemirror_mode": {
    "name": "ipython",
    "version": 3
   },
   "file_extension": ".py",
   "mimetype": "text/x-python",
   "name": "python",
   "nbconvert_exporter": "python",
   "pygments_lexer": "ipython3",
   "version": "3.10.8"
  }
 },
 "nbformat": 4,
 "nbformat_minor": 5
}
